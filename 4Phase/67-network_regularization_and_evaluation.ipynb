{
 "cells": [
  {
   "cell_type": "markdown",
   "metadata": {
    "heading_collapsed": true,
    "slideshow": {
     "slide_type": "slide"
    }
   },
   "source": [
    "# Regularization and Evaluation of Neural Networks"
   ]
  },
  {
   "cell_type": "code",
   "execution_count": 1,
   "metadata": {
    "ExecuteTime": {
     "end_time": "2022-09-01T22:53:40.118236Z",
     "start_time": "2022-09-01T22:53:35.617420Z"
    },
    "hidden": true
   },
   "outputs": [],
   "source": [
    "from sklearn.datasets import load_sample_images\n",
    "from sklearn.datasets import load_digits\n",
    "from sklearn.model_selection import train_test_split, cross_val_score\n",
    "from sklearn.preprocessing import OneHotEncoder\n",
    "from sklearn.metrics import accuracy_score, confusion_matrix\n",
    "import matplotlib.pyplot as plt\n",
    "import matplotlib.image as mpimg\n",
    "import numpy as np\n",
    "import seaborn as sns\n",
    "\n",
    "import tensorflow\n",
    "tensorflow.random.set_seed(42)\n",
    "from tensorflow.keras.models import Sequential\n",
    "from tensorflow.keras.layers import Dense, Dropout\n",
    "from tensorflow.keras.regularizers import l2\n",
    "from tensorflow.keras.optimizers import SGD\n",
    "from tensorflow.keras.wrappers import scikit_learn\n",
    "from tensorflow.keras.callbacks import EarlyStopping\n",
    "\n",
    "import os\n",
    "import sys\n",
    "module_path = os.path.abspath(os.path.join(os.pardir, os.pardir))\n",
    "if module_path not in sys.path:\n",
    "    sys.path.append(module_path)\n",
    "    \n",
    "from src.confusion import plot_confusion_matrix\n",
    "    \n",
    "%load_ext autoreload\n",
    "%autoreload 2"
   ]
  },
  {
   "cell_type": "markdown",
   "metadata": {
    "heading_collapsed": true,
    "hidden": true
   },
   "source": [
    "## Learning Objectives"
   ]
  },
  {
   "cell_type": "markdown",
   "metadata": {
    "hidden": true
   },
   "source": [
    "- use `keras` to code up a neural network model;\n",
    "- explain dropout and early stopping as distinctive forms of regularization in neural networks;\n",
    "- use wrappers inside `keras` to make models that can jibe with `sklearn`."
   ]
  },
  {
   "cell_type": "markdown",
   "metadata": {
    "heading_collapsed": true,
    "hidden": true
   },
   "source": [
    "### From last time"
   ]
  },
  {
   "cell_type": "code",
   "execution_count": 2,
   "metadata": {
    "ExecuteTime": {
     "end_time": "2022-09-01T22:55:10.994176Z",
     "start_time": "2022-09-01T22:55:10.778648Z"
    },
    "hidden": true
   },
   "outputs": [],
   "source": [
    "digits = load_digits()\n",
    "X = digits.data.astype('float32')\n",
    "y = digits.target.astype('float32')\n",
    "\n",
    "y_binary = y % 2"
   ]
  },
  {
   "cell_type": "code",
   "execution_count": 3,
   "metadata": {
    "ExecuteTime": {
     "end_time": "2022-09-01T22:55:17.069199Z",
     "start_time": "2022-09-01T22:55:11.803492Z"
    },
    "hidden": true
   },
   "outputs": [
    {
     "name": "stdout",
     "output_type": "stream",
     "text": [
      "Epoch 1/50\n",
      "180/180 [==============================] - 0s 772us/step - loss: 0.4896 - accuracy: 0.8002\n",
      "Epoch 2/50\n",
      "180/180 [==============================] - 0s 706us/step - loss: 0.2444 - accuracy: 0.8987\n",
      "Epoch 3/50\n",
      "180/180 [==============================] - 0s 772us/step - loss: 0.1972 - accuracy: 0.9188\n",
      "Epoch 4/50\n",
      "180/180 [==============================] - 0s 662us/step - loss: 0.1717 - accuracy: 0.9282\n",
      "Epoch 5/50\n",
      "180/180 [==============================] - 0s 687us/step - loss: 0.1465 - accuracy: 0.9427\n",
      "Epoch 6/50\n",
      "180/180 [==============================] - 0s 708us/step - loss: 0.1261 - accuracy: 0.9482\n",
      "Epoch 7/50\n",
      "180/180 [==============================] - 0s 655us/step - loss: 0.1107 - accuracy: 0.9588\n",
      "Epoch 8/50\n",
      "180/180 [==============================] - 0s 657us/step - loss: 0.1003 - accuracy: 0.9616\n",
      "Epoch 9/50\n",
      "180/180 [==============================] - 0s 752us/step - loss: 0.0949 - accuracy: 0.9649\n",
      "Epoch 10/50\n",
      "180/180 [==============================] - 0s 661us/step - loss: 0.0845 - accuracy: 0.9683\n",
      "Epoch 11/50\n",
      "180/180 [==============================] - 0s 654us/step - loss: 0.0818 - accuracy: 0.9688\n",
      "Epoch 12/50\n",
      "180/180 [==============================] - 0s 684us/step - loss: 0.0779 - accuracy: 0.9705\n",
      "Epoch 13/50\n",
      "180/180 [==============================] - 0s 810us/step - loss: 0.0722 - accuracy: 0.9727\n",
      "Epoch 14/50\n",
      "180/180 [==============================] - 0s 691us/step - loss: 0.0669 - accuracy: 0.9738\n",
      "Epoch 15/50\n",
      "180/180 [==============================] - 0s 676us/step - loss: 0.0632 - accuracy: 0.9722\n",
      "Epoch 16/50\n",
      "180/180 [==============================] - 0s 656us/step - loss: 0.0617 - accuracy: 0.9733\n",
      "Epoch 17/50\n",
      "180/180 [==============================] - 0s 676us/step - loss: 0.0598 - accuracy: 0.9766\n",
      "Epoch 18/50\n",
      "180/180 [==============================] - 0s 694us/step - loss: 0.0586 - accuracy: 0.9755\n",
      "Epoch 19/50\n",
      "180/180 [==============================] - 0s 699us/step - loss: 0.0544 - accuracy: 0.9777\n",
      "Epoch 20/50\n",
      "180/180 [==============================] - 0s 780us/step - loss: 0.0510 - accuracy: 0.9789\n",
      "Epoch 21/50\n",
      "180/180 [==============================] - 0s 837us/step - loss: 0.0497 - accuracy: 0.9811\n",
      "Epoch 22/50\n",
      "180/180 [==============================] - 0s 767us/step - loss: 0.0470 - accuracy: 0.9805\n",
      "Epoch 23/50\n",
      "180/180 [==============================] - 0s 871us/step - loss: 0.0450 - accuracy: 0.9794\n",
      "Epoch 24/50\n",
      "180/180 [==============================] - 0s 791us/step - loss: 0.0410 - accuracy: 0.9827\n",
      "Epoch 25/50\n",
      "180/180 [==============================] - 0s 747us/step - loss: 0.0411 - accuracy: 0.9827\n",
      "Epoch 26/50\n",
      "180/180 [==============================] - 0s 680us/step - loss: 0.0378 - accuracy: 0.9827\n",
      "Epoch 27/50\n",
      "180/180 [==============================] - 0s 689us/step - loss: 0.0358 - accuracy: 0.9855\n",
      "Epoch 28/50\n",
      "180/180 [==============================] - 0s 730us/step - loss: 0.0375 - accuracy: 0.9839\n",
      "Epoch 29/50\n",
      "180/180 [==============================] - 0s 719us/step - loss: 0.0336 - accuracy: 0.9855\n",
      "Epoch 30/50\n",
      "180/180 [==============================] - 0s 738us/step - loss: 0.0322 - accuracy: 0.9872\n",
      "Epoch 31/50\n",
      "180/180 [==============================] - 0s 723us/step - loss: 0.0317 - accuracy: 0.9878\n",
      "Epoch 32/50\n",
      "180/180 [==============================] - 0s 756us/step - loss: 0.0328 - accuracy: 0.9878\n",
      "Epoch 33/50\n",
      "180/180 [==============================] - 0s 786us/step - loss: 0.0295 - accuracy: 0.9883\n",
      "Epoch 34/50\n",
      "180/180 [==============================] - 0s 774us/step - loss: 0.0277 - accuracy: 0.9900\n",
      "Epoch 35/50\n",
      "180/180 [==============================] - 0s 1ms/step - loss: 0.0219 - accuracy: 0.9900\n",
      "Epoch 36/50\n",
      "180/180 [==============================] - 0s 829us/step - loss: 0.0249 - accuracy: 0.9905\n",
      "Epoch 37/50\n",
      "180/180 [==============================] - 0s 818us/step - loss: 0.0225 - accuracy: 0.9928\n",
      "Epoch 38/50\n",
      "180/180 [==============================] - 0s 757us/step - loss: 0.0265 - accuracy: 0.9900\n",
      "Epoch 39/50\n",
      "180/180 [==============================] - 0s 771us/step - loss: 0.0194 - accuracy: 0.9933\n",
      "Epoch 40/50\n",
      "180/180 [==============================] - 0s 738us/step - loss: 0.0233 - accuracy: 0.9928\n",
      "Epoch 41/50\n",
      "180/180 [==============================] - 0s 701us/step - loss: 0.0215 - accuracy: 0.9905\n",
      "Epoch 42/50\n",
      "180/180 [==============================] - 0s 867us/step - loss: 0.0175 - accuracy: 0.9944\n",
      "Epoch 43/50\n",
      "180/180 [==============================] - 0s 777us/step - loss: 0.0196 - accuracy: 0.9922\n",
      "Epoch 44/50\n",
      "180/180 [==============================] - 0s 761us/step - loss: 0.0189 - accuracy: 0.9922\n",
      "Epoch 45/50\n",
      "180/180 [==============================] - 0s 769us/step - loss: 0.0153 - accuracy: 0.9933\n",
      "Epoch 46/50\n",
      "180/180 [==============================] - 0s 795us/step - loss: 0.0142 - accuracy: 0.9950\n",
      "Epoch 47/50\n",
      "180/180 [==============================] - 0s 795us/step - loss: 0.0155 - accuracy: 0.9944\n",
      "Epoch 48/50\n",
      "180/180 [==============================] - 0s 781us/step - loss: 0.0154 - accuracy: 0.9939\n",
      "Epoch 49/50\n",
      "180/180 [==============================] - 0s 888us/step - loss: 0.0140 - accuracy: 0.9933\n",
      "Epoch 50/50\n",
      "180/180 [==============================] - 0s 765us/step - loss: 0.0127 - accuracy: 0.9967\n"
     ]
    },
    {
     "data": {
      "text/plain": [
       "<tensorflow.python.keras.callbacks.History at 0x29fc108a250>"
      ]
     },
     "execution_count": 3,
     "metadata": {},
     "output_type": "execute_result"
    }
   ],
   "source": [
    "model = Sequential()\n",
    "model.add(Dense(12, activation='relu', input_dim=64))\n",
    "model.add(Dense(8, activation='relu'))\n",
    "model.add(Dense(1, activation='sigmoid'))\n",
    "\n",
    "model.compile(optimizer='rmsprop',\n",
    "              loss='binary_crossentropy',\n",
    "              metrics=['accuracy'])\n",
    "\n",
    "model.fit(X, y_binary, epochs=50, batch_size=10)"
   ]
  },
  {
   "cell_type": "markdown",
   "metadata": {
    "heading_collapsed": true,
    "hidden": true
   },
   "source": [
    "### Things to know:"
   ]
  },
  {
   "cell_type": "markdown",
   "metadata": {
    "hidden": true
   },
   "source": [
    "- The data and labels in `fit()` need to be numpy arrays, not `pandas` dfs.\n",
    "- Scaling your data will have a large impact on your model.\n",
    "   > For our traditional input features, we would use a scaler object. For images, as long as the minimum value is 0, we can simply divide through by the maximum pixel intensity."
   ]
  },
  {
   "cell_type": "markdown",
   "metadata": {
    "heading_collapsed": true,
    "hidden": true
   },
   "source": [
    "#### Getting data ready for modeling"
   ]
  },
  {
   "cell_type": "markdown",
   "metadata": {
    "hidden": true
   },
   "source": [
    "**Preprocessing**:\n",
    "\n",
    "- use train_test_split to create X_train, y_train, X_test, and y_test\n",
    "- Split training data into pure_train and validation sets.\n",
    "- Scale the pixel intensity to a value between 0 and 1."
   ]
  },
  {
   "cell_type": "markdown",
   "metadata": {
    "hidden": true
   },
   "source": [
    "Scaling our input variables will help speed up our neural network.\n",
    "\n",
    "Since our minimum intensity is 0, we can normalize the inputs by dividing each value by the max value (16)."
   ]
  },
  {
   "cell_type": "code",
   "execution_count": 4,
   "metadata": {
    "ExecuteTime": {
     "end_time": "2022-09-01T22:55:20.561323Z",
     "start_time": "2022-09-01T22:55:20.422828Z"
    },
    "hidden": true
   },
   "outputs": [],
   "source": [
    "X_train, X_test, y_train, y_test =\\\n",
    "    train_test_split(X, y_binary, random_state=42, test_size=0.2)\n",
    "\n",
    "X_pure_train, X_val, y_pure_train, y_val =\\\n",
    "    train_test_split(X_train, y_train, random_state=42, test_size=0.2)\n",
    "\n",
    "X_pure_train, X_val, X_test = X_pure_train/16, X_val/16, X_test/16"
   ]
  },
  {
   "cell_type": "code",
   "execution_count": 5,
   "metadata": {},
   "outputs": [
    {
     "data": {
      "text/plain": [
       "array([[0.    , 0.    , 0.    , ..., 0.875 , 0.    , 0.    ],\n",
       "       [0.    , 0.    , 0.125 , ..., 0.    , 0.    , 0.    ],\n",
       "       [0.    , 0.    , 0.    , ..., 0.    , 0.    , 0.    ],\n",
       "       ...,\n",
       "       [0.    , 0.    , 0.375 , ..., 0.1875, 0.    , 0.    ],\n",
       "       [0.    , 0.    , 0.625 , ..., 0.8125, 1.    , 0.5   ],\n",
       "       [0.    , 0.    , 0.25  , ..., 0.0625, 0.    , 0.    ]],\n",
       "      dtype=float32)"
      ]
     },
     "execution_count": 5,
     "metadata": {},
     "output_type": "execute_result"
    }
   ],
   "source": [
    "X_pure_train"
   ]
  },
  {
   "cell_type": "markdown",
   "metadata": {
    "heading_collapsed": true,
    "hidden": true
   },
   "source": [
    "### Sigmoid "
   ]
  },
  {
   "cell_type": "markdown",
   "metadata": {
    "hidden": true
   },
   "source": [
    "For activation, let's start with the familiar sigmoid function, and see how it performs."
   ]
  },
  {
   "cell_type": "code",
   "execution_count": 6,
   "metadata": {
    "ExecuteTime": {
     "end_time": "2022-09-01T22:57:05.467024Z",
     "start_time": "2022-09-01T22:57:04.979515Z"
    },
    "hidden": true
   },
   "outputs": [
    {
     "name": "stdout",
     "output_type": "stream",
     "text": [
      "Epoch 1/10\n",
      "12/12 [==============================] - 0s 724us/step - loss: 0.7202 - accuracy: 0.5039\n",
      "Epoch 2/10\n",
      "12/12 [==============================] - 0s 915us/step - loss: 0.7141 - accuracy: 0.5039\n",
      "Epoch 3/10\n",
      "12/12 [==============================] - 0s 754us/step - loss: 0.7090 - accuracy: 0.5039\n",
      "Epoch 4/10\n",
      "12/12 [==============================] - 0s 773us/step - loss: 0.7049 - accuracy: 0.5039\n",
      "Epoch 5/10\n",
      "12/12 [==============================] - 0s 812us/step - loss: 0.7015 - accuracy: 0.5039\n",
      "Epoch 6/10\n",
      "12/12 [==============================] - 0s 798us/step - loss: 0.6989 - accuracy: 0.5039\n",
      "Epoch 7/10\n",
      "12/12 [==============================] - 0s 797us/step - loss: 0.6965 - accuracy: 0.5039\n",
      "Epoch 8/10\n",
      "12/12 [==============================] - 0s 823us/step - loss: 0.6947 - accuracy: 0.5039\n",
      "Epoch 9/10\n",
      "12/12 [==============================] - 0s 663us/step - loss: 0.6932 - accuracy: 0.5039\n",
      "Epoch 10/10\n",
      "12/12 [==============================] - 0s 923us/step - loss: 0.6920 - accuracy: 0.5039\n"
     ]
    }
   ],
   "source": [
    "model = Sequential()\n",
    "# We will start with our trusty sigmoid function.\n",
    "# What does input dimension correspond to?\n",
    "model.add(Dense(12, activation='sigmoid', input_dim=64))\n",
    "model.add(Dense(8, activation='sigmoid'))\n",
    "model.add(Dense(1, activation='sigmoid'))\n",
    "\n",
    "model.compile(optimizer='SGD' ,\n",
    "              # We use binary_crossentropy for a binary loss function\n",
    "              loss='binary_crossentropy',\n",
    "              metrics=['accuracy'])\n",
    "\n",
    "# Assign the variable history to store the results,\n",
    "# and set verbose=1 so we can see the output. To see\n",
    "# only the metrics at the end of each epoch, set verbose=2.\n",
    "results = model.fit(X_pure_train, y_pure_train, epochs=10, batch_size=100, verbose=1)"
   ]
  },
  {
   "cell_type": "markdown",
   "metadata": {
    "hidden": true
   },
   "source": [
    "We can access the history of our model via `results.history`.\n",
    "Use __dict__ to take a tour."
   ]
  },
  {
   "cell_type": "code",
   "execution_count": 7,
   "metadata": {
    "ExecuteTime": {
     "end_time": "2022-09-01T22:57:15.315179Z",
     "start_time": "2022-09-01T22:57:15.185180Z"
    },
    "hidden": true
   },
   "outputs": [
    {
     "data": {
      "text/plain": [
       "{'validation_data': None,\n",
       " 'model': <tensorflow.python.keras.engine.sequential.Sequential at 0x29fc225ad60>,\n",
       " '_chief_worker_only': None,\n",
       " '_supports_tf_logs': False,\n",
       " 'history': {'loss': [0.7202345728874207,\n",
       "   0.7140858769416809,\n",
       "   0.709007978439331,\n",
       "   0.7048927545547485,\n",
       "   0.7015445232391357,\n",
       "   0.6989108324050903,\n",
       "   0.6965351104736328,\n",
       "   0.6947341561317444,\n",
       "   0.6931974291801453,\n",
       "   0.6919931173324585],\n",
       "  'accuracy': [0.5039164423942566,\n",
       "   0.5039164423942566,\n",
       "   0.5039164423942566,\n",
       "   0.5039164423942566,\n",
       "   0.5039164423942566,\n",
       "   0.5039164423942566,\n",
       "   0.5039164423942566,\n",
       "   0.5039164423942566,\n",
       "   0.5039164423942566,\n",
       "   0.5039164423942566]},\n",
       " 'params': {'verbose': 1, 'epochs': 10, 'steps': 12},\n",
       " 'epoch': [0, 1, 2, 3, 4, 5, 6, 7, 8, 9]}"
      ]
     },
     "execution_count": 7,
     "metadata": {},
     "output_type": "execute_result"
    }
   ],
   "source": [
    "# dict\n",
    "results.__dict__"
   ]
  },
  {
   "cell_type": "code",
   "execution_count": 8,
   "metadata": {
    "ExecuteTime": {
     "end_time": "2022-09-01T22:55:21.553339Z",
     "start_time": "2022-09-01T22:55:21.182798Z"
    },
    "hidden": true
   },
   "outputs": [
    {
     "data": {
      "image/png": "[encoded data removed]",
      "text/plain": [
       "<Figure size 720x360 with 2 Axes>"
      ]
     },
     "metadata": {
      "needs_background": "light"
     },
     "output_type": "display_data"
    }
   ],
   "source": [
    "sigmoid_loss = results.history['loss']\n",
    "sigmoid_accuracy = results.history['accuracy']\n",
    "\n",
    "fig, (ax1, ax2) = plt.subplots(1, 2, figsize=(10, 5))\n",
    "sns.lineplot(x=results.epoch, y=sigmoid_loss, ax=ax1, label='loss')\n",
    "sns.lineplot(x=results.epoch, y=sigmoid_accuracy, ax=ax2, label='accuracy');"
   ]
  },
  {
   "cell_type": "markdown",
   "metadata": {
    "hidden": true
   },
   "source": [
    "We have two plots above both relating to the quality of our model.  The left-hand plot is our loss. It uses the probabilities associated with our predictions to judge how well our prediction fits reality. We want it to decrease as far as possible.\n",
    "\n",
    "The accuracy judges how well the predictions are after applying the threshold at the output layer.  We want accuracy to increase."
   ]
  },
  {
   "cell_type": "markdown",
   "metadata": {
    "hidden": true
   },
   "source": [
    "If we look at our loss, it is still decreasing. That is a signal that our model is **still learning**. If our model is still learning, we can allow it to get better by turning a few dials.\n",
    "\n",
    "Let's:\n",
    "- increase the number of epochs;\n",
    "- change sigmoid activation in the hidden layers to ReLU; and\n",
    "- decrease the batch size."
   ]
  },
  {
   "cell_type": "markdown",
   "metadata": {
    "heading_collapsed": true,
    "hidden": true
   },
   "source": [
    "## Basic Model Tuning"
   ]
  },
  {
   "cell_type": "markdown",
   "metadata": {
    "heading_collapsed": true,
    "hidden": true
   },
   "source": [
    "### Increase Epochs"
   ]
  },
  {
   "cell_type": "code",
   "execution_count": 9,
   "metadata": {
    "ExecuteTime": {
     "end_time": "2022-09-01T22:55:21.692954Z",
     "start_time": "2022-09-01T22:55:21.555340Z"
    },
    "hidden": true
   },
   "outputs": [
    {
     "name": "stdout",
     "output_type": "stream",
     "text": [
      "Epoch 1/100\n",
      "12/12 [==============================] - 0s 1ms/step - loss: 0.7416 - accuracy: 0.4961\n",
      "Epoch 2/100\n",
      "12/12 [==============================] - 0s 1ms/step - loss: 0.7305 - accuracy: 0.4961\n",
      "Epoch 3/100\n",
      "12/12 [==============================] - 0s 1ms/step - loss: 0.7218 - accuracy: 0.4961\n",
      "Epoch 4/100\n",
      "12/12 [==============================] - 0s 773us/step - loss: 0.7149 - accuracy: 0.4961\n",
      "Epoch 5/100\n",
      "12/12 [==============================] - 0s 927us/step - loss: 0.7094 - accuracy: 0.4961\n",
      "Epoch 6/100\n",
      "12/12 [==============================] - 0s 831us/step - loss: 0.7050 - accuracy: 0.4961\n",
      "Epoch 7/100\n",
      "12/12 [==============================] - 0s 970us/step - loss: 0.7018 - accuracy: 0.4961\n",
      "Epoch 8/100\n",
      "12/12 [==============================] - 0s 885us/step - loss: 0.6991 - accuracy: 0.4961\n",
      "Epoch 9/100\n",
      "12/12 [==============================] - 0s 881us/step - loss: 0.6969 - accuracy: 0.4961\n",
      "Epoch 10/100\n",
      "12/12 [==============================] - 0s 1ms/step - loss: 0.6951 - accuracy: 0.4961\n",
      "Epoch 11/100\n",
      "12/12 [==============================] - 0s 1ms/step - loss: 0.6937 - accuracy: 0.4961\n",
      "Epoch 12/100\n",
      "12/12 [==============================] - 0s 997us/step - loss: 0.6927 - accuracy: 0.4961\n",
      "Epoch 13/100\n",
      "12/12 [==============================] - 0s 796us/step - loss: 0.6919 - accuracy: 0.4961\n",
      "Epoch 14/100\n",
      "12/12 [==============================] - 0s 1ms/step - loss: 0.6912 - accuracy: 0.4961\n",
      "Epoch 15/100\n",
      "12/12 [==============================] - 0s 1ms/step - loss: 0.6907 - accuracy: 0.4961\n",
      "Epoch 16/100\n",
      "12/12 [==============================] - 0s 1ms/step - loss: 0.6903 - accuracy: 0.4996\n",
      "Epoch 17/100\n",
      "12/12 [==============================] - 0s 1ms/step - loss: 0.6900 - accuracy: 0.4970\n",
      "Epoch 18/100\n",
      "12/12 [==============================] - 0s 989us/step - loss: 0.6896 - accuracy: 0.5100\n",
      "Epoch 19/100\n",
      "12/12 [==============================] - 0s 913us/step - loss: 0.6893 - accuracy: 0.5257\n",
      "Epoch 20/100\n",
      "12/12 [==============================] - 0s 2ms/step - loss: 0.6891 - accuracy: 0.5518\n",
      "Epoch 21/100\n",
      "12/12 [==============================] - 0s 1ms/step - loss: 0.6889 - accuracy: 0.5927\n",
      "Epoch 22/100\n",
      "12/12 [==============================] - 0s 1ms/step - loss: 0.6888 - accuracy: 0.5997\n",
      "Epoch 23/100\n",
      "12/12 [==============================] - 0s 862us/step - loss: 0.6886 - accuracy: 0.6162\n",
      "Epoch 24/100\n",
      "12/12 [==============================] - 0s 1ms/step - loss: 0.6885 - accuracy: 0.6388\n",
      "Epoch 25/100\n",
      "12/12 [==============================] - 0s 1ms/step - loss: 0.6883 - accuracy: 0.6536\n",
      "Epoch 26/100\n",
      "12/12 [==============================] - 0s 1ms/step - loss: 0.6882 - accuracy: 0.6571\n",
      "Epoch 27/100\n",
      "12/12 [==============================] - 0s 1ms/step - loss: 0.6881 - accuracy: 0.6510\n",
      "Epoch 28/100\n",
      "12/12 [==============================] - 0s 901us/step - loss: 0.6880 - accuracy: 0.6501\n",
      "Epoch 29/100\n",
      "12/12 [==============================] - 0s 1ms/step - loss: 0.6879 - accuracy: 0.6466\n",
      "Epoch 30/100\n",
      "12/12 [==============================] - 0s 1ms/step - loss: 0.6878 - accuracy: 0.6440\n",
      "Epoch 31/100\n",
      "12/12 [==============================] - 0s 1ms/step - loss: 0.6877 - accuracy: 0.6501\n",
      "Epoch 32/100\n",
      "12/12 [==============================] - 0s 1ms/step - loss: 0.6876 - accuracy: 0.6310\n",
      "Epoch 33/100\n",
      "12/12 [==============================] - 0s 938us/step - loss: 0.6875 - accuracy: 0.6275\n",
      "Epoch 34/100\n",
      "12/12 [==============================] - 0s 896us/step - loss: 0.6874 - accuracy: 0.6423\n",
      "Epoch 35/100\n",
      "12/12 [==============================] - 0s 1ms/step - loss: 0.6873 - accuracy: 0.6005\n",
      "Epoch 36/100\n",
      "12/12 [==============================] - 0s 1ms/step - loss: 0.6872 - accuracy: 0.6214\n",
      "Epoch 37/100\n",
      "12/12 [==============================] - 0s 1ms/step - loss: 0.6871 - accuracy: 0.6162\n",
      "Epoch 38/100\n",
      "12/12 [==============================] - 0s 905us/step - loss: 0.6870 - accuracy: 0.6092\n",
      "Epoch 39/100\n",
      "12/12 [==============================] - 0s 987us/step - loss: 0.6870 - accuracy: 0.6144\n",
      "Epoch 40/100\n",
      "12/12 [==============================] - 0s 990us/step - loss: 0.6868 - accuracy: 0.6144\n",
      "Epoch 41/100\n",
      "12/12 [==============================] - 0s 838us/step - loss: 0.6868 - accuracy: 0.6179\n",
      "Epoch 42/100\n",
      "12/12 [==============================] - 0s 1ms/step - loss: 0.6867 - accuracy: 0.6127\n",
      "Epoch 43/100\n",
      "12/12 [==============================] - 0s 913us/step - loss: 0.6866 - accuracy: 0.6014\n",
      "Epoch 44/100\n",
      "12/12 [==============================] - 0s 1ms/step - loss: 0.6865 - accuracy: 0.6110\n",
      "Epoch 45/100\n",
      "12/12 [==============================] - 0s 1ms/step - loss: 0.6864 - accuracy: 0.6005\n",
      "Epoch 46/100\n",
      "12/12 [==============================] - 0s 1ms/step - loss: 0.6863 - accuracy: 0.6171\n",
      "Epoch 47/100\n",
      "12/12 [==============================] - 0s 1ms/step - loss: 0.6862 - accuracy: 0.6005\n",
      "Epoch 48/100\n",
      "12/12 [==============================] - 0s 1ms/step - loss: 0.6861 - accuracy: 0.6232\n",
      "Epoch 49/100\n",
      "12/12 [==============================] - 0s 997us/step - loss: 0.6860 - accuracy: 0.6292\n",
      "Epoch 50/100\n",
      "12/12 [==============================] - 0s 1ms/step - loss: 0.6859 - accuracy: 0.6066\n",
      "Epoch 51/100\n",
      "12/12 [==============================] - 0s 927us/step - loss: 0.6858 - accuracy: 0.6092\n",
      "Epoch 52/100\n",
      "12/12 [==============================] - 0s 1ms/step - loss: 0.6857 - accuracy: 0.6127\n",
      "Epoch 53/100\n",
      "12/12 [==============================] - ETA: 0s - loss: 0.6866 - accuracy: 0.58 - 0s 1ms/step - loss: 0.6856 - accuracy: 0.6362\n",
      "Epoch 54/100\n",
      "12/12 [==============================] - 0s 1ms/step - loss: 0.6855 - accuracy: 0.6092\n",
      "Epoch 55/100\n",
      "12/12 [==============================] - 0s 962us/step - loss: 0.6854 - accuracy: 0.6240\n",
      "Epoch 56/100\n",
      "12/12 [==============================] - 0s 831us/step - loss: 0.6853 - accuracy: 0.6127\n",
      "Epoch 57/100\n",
      "12/12 [==============================] - 0s 1ms/step - loss: 0.6852 - accuracy: 0.6084\n",
      "Epoch 58/100\n",
      "12/12 [==============================] - 0s 1ms/step - loss: 0.6851 - accuracy: 0.6214\n",
      "Epoch 59/100\n",
      "12/12 [==============================] - 0s 1ms/step - loss: 0.6850 - accuracy: 0.6144\n",
      "Epoch 60/100\n",
      "12/12 [==============================] - 0s 868us/step - loss: 0.6849 - accuracy: 0.6406\n",
      "Epoch 61/100\n",
      "12/12 [==============================] - 0s 1ms/step - loss: 0.6849 - accuracy: 0.6527\n",
      "Epoch 62/100\n",
      "12/12 [==============================] - 0s 854us/step - loss: 0.6847 - accuracy: 0.6084\n",
      "Epoch 63/100\n",
      "12/12 [==============================] - 0s 1ms/step - loss: 0.6846 - accuracy: 0.6493\n",
      "Epoch 64/100\n",
      "12/12 [==============================] - 0s 1ms/step - loss: 0.6845 - accuracy: 0.6301\n",
      "Epoch 65/100\n",
      "12/12 [==============================] - 0s 854us/step - loss: 0.6844 - accuracy: 0.6327\n",
      "Epoch 66/100\n",
      "12/12 [==============================] - 0s 1ms/step - loss: 0.6843 - accuracy: 0.6458\n",
      "Epoch 67/100\n",
      "12/12 [==============================] - 0s 1ms/step - loss: 0.6842 - accuracy: 0.6475\n",
      "Epoch 68/100\n",
      "12/12 [==============================] - 0s 1ms/step - loss: 0.6842 - accuracy: 0.6449\n",
      "Epoch 69/100\n",
      "12/12 [==============================] - 0s 947us/step - loss: 0.6840 - accuracy: 0.6205\n",
      "Epoch 70/100\n",
      "12/12 [==============================] - 0s 800us/step - loss: 0.6839 - accuracy: 0.6336\n",
      "Epoch 71/100\n",
      "12/12 [==============================] - 0s 887us/step - loss: 0.6838 - accuracy: 0.6440\n",
      "Epoch 72/100\n",
      "12/12 [==============================] - 0s 1ms/step - loss: 0.6837 - accuracy: 0.6179\n",
      "Epoch 73/100\n",
      "12/12 [==============================] - 0s 796us/step - loss: 0.6836 - accuracy: 0.6301\n",
      "Epoch 74/100\n",
      "12/12 [==============================] - 0s 925us/step - loss: 0.6835 - accuracy: 0.6423\n",
      "Epoch 75/100\n",
      "12/12 [==============================] - 0s 751us/step - loss: 0.6834 - accuracy: 0.6406\n",
      "Epoch 76/100\n",
      "12/12 [==============================] - 0s 943us/step - loss: 0.6833 - accuracy: 0.6414\n",
      "Epoch 77/100\n",
      "12/12 [==============================] - 0s 747us/step - loss: 0.6832 - accuracy: 0.6397\n",
      "Epoch 78/100\n",
      "12/12 [==============================] - 0s 747us/step - loss: 0.6830 - accuracy: 0.6554\n",
      "Epoch 79/100\n",
      "12/12 [==============================] - 0s 928us/step - loss: 0.6829 - accuracy: 0.6466\n",
      "Epoch 80/100\n",
      "12/12 [==============================] - 0s 1ms/step - loss: 0.6828 - accuracy: 0.6475\n",
      "Epoch 81/100\n"
     ]
    },
    {
     "name": "stdout",
     "output_type": "stream",
     "text": [
      "12/12 [==============================] - 0s 748us/step - loss: 0.6827 - accuracy: 0.6466\n",
      "Epoch 82/100\n",
      "12/12 [==============================] - 0s 691us/step - loss: 0.6826 - accuracy: 0.6667\n",
      "Epoch 83/100\n",
      "12/12 [==============================] - 0s 775us/step - loss: 0.6825 - accuracy: 0.6641\n",
      "Epoch 84/100\n",
      "12/12 [==============================] - 0s 831us/step - loss: 0.6824 - accuracy: 0.6884\n",
      "Epoch 85/100\n",
      "12/12 [==============================] - 0s 715us/step - loss: 0.6823 - accuracy: 0.6701\n",
      "Epoch 86/100\n",
      "12/12 [==============================] - 0s 836us/step - loss: 0.6822 - accuracy: 0.6675\n",
      "Epoch 87/100\n",
      "12/12 [==============================] - 0s 748us/step - loss: 0.6821 - accuracy: 0.6684\n",
      "Epoch 88/100\n",
      "12/12 [==============================] - 0s 718us/step - loss: 0.6820 - accuracy: 0.6789\n",
      "Epoch 89/100\n",
      "12/12 [==============================] - 0s 748us/step - loss: 0.6818 - accuracy: 0.6562\n",
      "Epoch 90/100\n",
      "12/12 [==============================] - 0s 964us/step - loss: 0.6817 - accuracy: 0.6545\n",
      "Epoch 91/100\n",
      "12/12 [==============================] - 0s 800us/step - loss: 0.6816 - accuracy: 0.6658\n",
      "Epoch 92/100\n",
      "12/12 [==============================] - 0s 913us/step - loss: 0.6815 - accuracy: 0.6632\n",
      "Epoch 93/100\n",
      "12/12 [==============================] - 0s 747us/step - loss: 0.6814 - accuracy: 0.6762\n",
      "Epoch 94/100\n",
      "12/12 [==============================] - 0s 926us/step - loss: 0.6813 - accuracy: 0.6789\n",
      "Epoch 95/100\n",
      "12/12 [==============================] - 0s 1ms/step - loss: 0.6811 - accuracy: 0.6928\n",
      "Epoch 96/100\n",
      "12/12 [==============================] - 0s 805us/step - loss: 0.6810 - accuracy: 0.6849\n",
      "Epoch 97/100\n",
      "12/12 [==============================] - 0s 831us/step - loss: 0.6809 - accuracy: 0.6867\n",
      "Epoch 98/100\n",
      "12/12 [==============================] - 0s 1ms/step - loss: 0.6808 - accuracy: 0.6736\n",
      "Epoch 99/100\n",
      "12/12 [==============================] - 0s 748us/step - loss: 0.6806 - accuracy: 0.6867\n",
      "Epoch 100/100\n",
      "12/12 [==============================] - 0s 831us/step - loss: 0.6805 - accuracy: 0.6797\n"
     ]
    }
   ],
   "source": [
    "model = Sequential()\n",
    "model.add(Dense(12, activation='sigmoid', input_dim=64))\n",
    "model.add(Dense(8, activation='sigmoid'))\n",
    "model.add(Dense(1, activation='sigmoid'))\n",
    "\n",
    "model.compile(optimizer='SGD',\n",
    "              loss='binary_crossentropy',\n",
    "              metrics=['accuracy'])\n",
    "\n",
    "# Assign the variable history to store the results,\n",
    "# and set verbose=1 so we can see the output.\n",
    "# increase epochs\n",
    "\n",
    "results = model.fit(X_pure_train, y_pure_train, epochs=100, batch_size=100, verbose=1)"
   ]
  },
  {
   "cell_type": "code",
   "execution_count": 10,
   "metadata": {
    "ExecuteTime": {
     "end_time": "2022-09-01T22:55:22.080455Z",
     "start_time": "2022-09-01T22:55:21.694454Z"
    },
    "hidden": true
   },
   "outputs": [
    {
     "data": {
      "image/png": "[encoded data removed]",
      "text/plain": [
       "<Figure size 720x360 with 2 Axes>"
      ]
     },
     "metadata": {
      "needs_background": "light"
     },
     "output_type": "display_data"
    }
   ],
   "source": [
    "sigmoid_loss = results.history['loss']\n",
    "sigmoid_accuracy = results.history['accuracy']\n",
    "\n",
    "fig, (ax1, ax2) = plt.subplots(1, 2, figsize=(10, 5))\n",
    "sns.lineplot(x=results.epoch, y=sigmoid_loss, ax=ax1, label='loss')\n",
    "sns.lineplot(x=results.epoch, y=sigmoid_accuracy, ax=ax2, label='accuracy')\n",
    "ax1.legend();"
   ]
  },
  {
   "cell_type": "markdown",
   "metadata": {
    "heading_collapsed": true,
    "hidden": true
   },
   "source": [
    "### Decrease Batch Size"
   ]
  },
  {
   "cell_type": "code",
   "execution_count": 11,
   "metadata": {
    "ExecuteTime": {
     "end_time": "2022-09-01T22:55:22.250954Z",
     "start_time": "2022-09-01T22:55:22.082454Z"
    },
    "hidden": true
   },
   "outputs": [
    {
     "name": "stdout",
     "output_type": "stream",
     "text": [
      "Epoch 1/10\n",
      "115/115 [==============================] - 0s 852us/step - loss: 0.7210 - accuracy: 0.5039\n",
      "Epoch 2/10\n",
      "115/115 [==============================] - 0s 721us/step - loss: 0.6973 - accuracy: 0.5039\n",
      "Epoch 3/10\n",
      "115/115 [==============================] - 0s 723us/step - loss: 0.6930 - accuracy: 0.5083\n",
      "Epoch 4/10\n",
      "115/115 [==============================] - 0s 717us/step - loss: 0.6914 - accuracy: 0.5326\n",
      "Epoch 5/10\n",
      "115/115 [==============================] - 0s 747us/step - loss: 0.6903 - accuracy: 0.5683\n",
      "Epoch 6/10\n",
      "115/115 [==============================] - 0s 727us/step - loss: 0.6891 - accuracy: 0.5413\n",
      "Epoch 7/10\n",
      "115/115 [==============================] - 0s 795us/step - loss: 0.6879 - accuracy: 0.6527\n",
      "Epoch 8/10\n",
      "115/115 [==============================] - 0s 740us/step - loss: 0.6866 - accuracy: 0.5909\n",
      "Epoch 9/10\n",
      "115/115 [==============================] - 0s 918us/step - loss: 0.6854 - accuracy: 0.6997\n",
      "Epoch 10/10\n",
      "115/115 [==============================] - 0s 873us/step - loss: 0.6842 - accuracy: 0.6762\n"
     ]
    }
   ],
   "source": [
    "model = Sequential()\n",
    "\n",
    "model.add(Dense(12, activation='sigmoid', input_dim=64))\n",
    "model.add(Dense(8, activation='sigmoid'))\n",
    "model.add(Dense(1, activation='sigmoid'))\n",
    "\n",
    "model.compile(optimizer='SGD',\n",
    "              loss='binary_crossentropy',\n",
    "              metrics=['accuracy'])\n",
    "\n",
    "# decrease batch size\n",
    "results = model.fit(X_pure_train, y_pure_train, epochs=10, batch_size=10, verbose=1)"
   ]
  },
  {
   "cell_type": "code",
   "execution_count": 12,
   "metadata": {
    "ExecuteTime": {
     "end_time": "2022-09-01T22:55:22.607453Z",
     "start_time": "2022-09-01T22:55:22.253955Z"
    },
    "hidden": true
   },
   "outputs": [
    {
     "data": {
      "image/png": "[encoded data removed]",
      "text/plain": [
       "<Figure size 720x360 with 2 Axes>"
      ]
     },
     "metadata": {
      "needs_background": "light"
     },
     "output_type": "display_data"
    }
   ],
   "source": [
    "relu_loss = results.history['loss']\n",
    "relu_accuracy = results.history['accuracy']\n",
    "\n",
    "fig, (ax1, ax2) = plt.subplots(1, 2, figsize=(10, 5))\n",
    "sns.lineplot(x=results.epoch, y=relu_loss, ax=ax1, label='loss')\n",
    "sns.lineplot(x=results.epoch, y=relu_accuracy, ax=ax2, label='accuracy')\n",
    "ax1.legend();"
   ]
  },
  {
   "cell_type": "markdown",
   "metadata": {
    "heading_collapsed": true,
    "hidden": true
   },
   "source": [
    "### Both"
   ]
  },
  {
   "cell_type": "code",
   "execution_count": 13,
   "metadata": {
    "ExecuteTime": {
     "end_time": "2022-09-01T22:55:22.746794Z",
     "start_time": "2022-09-01T22:55:22.609453Z"
    },
    "hidden": true
   },
   "outputs": [
    {
     "name": "stdout",
     "output_type": "stream",
     "text": [
      "Epoch 1/100\n",
      "115/115 [==============================] - 0s 612us/step - loss: 0.6946 - accuracy: 0.5039\n",
      "Epoch 2/100\n",
      "115/115 [==============================] - 0s 639us/step - loss: 0.6938 - accuracy: 0.5117\n",
      "Epoch 3/100\n",
      "115/115 [==============================] - 0s 665us/step - loss: 0.6933 - accuracy: 0.5100\n",
      "Epoch 4/100\n",
      "115/115 [==============================] - 0s 683us/step - loss: 0.6929 - accuracy: 0.5057\n",
      "Epoch 5/100\n",
      "115/115 [==============================] - 0s 698us/step - loss: 0.6926 - accuracy: 0.5431\n",
      "Epoch 6/100\n",
      "115/115 [==============================] - 0s 718us/step - loss: 0.6923 - accuracy: 0.5117\n",
      "Epoch 7/100\n",
      "115/115 [==============================] - 0s 686us/step - loss: 0.6920 - accuracy: 0.5509\n",
      "Epoch 8/100\n",
      "115/115 [==============================] - 0s 715us/step - loss: 0.6916 - accuracy: 0.5335\n",
      "Epoch 9/100\n",
      "115/115 [==============================] - 0s 686us/step - loss: 0.6913 - accuracy: 0.5683\n",
      "Epoch 10/100\n",
      "115/115 [==============================] - 0s 713us/step - loss: 0.6911 - accuracy: 0.5883\n",
      "Epoch 11/100\n",
      "115/115 [==============================] - 0s 707us/step - loss: 0.6907 - accuracy: 0.5692\n",
      "Epoch 12/100\n",
      "115/115 [==============================] - 0s 653us/step - loss: 0.6903 - accuracy: 0.5605\n",
      "Epoch 13/100\n",
      "115/115 [==============================] - 0s 724us/step - loss: 0.6899 - accuracy: 0.5735\n",
      "Epoch 14/100\n",
      "115/115 [==============================] - 0s 691us/step - loss: 0.6897 - accuracy: 0.5944\n",
      "Epoch 15/100\n",
      "115/115 [==============================] - 0s 708us/step - loss: 0.6892 - accuracy: 0.6023\n",
      "Epoch 16/100\n",
      "115/115 [==============================] - 0s 712us/step - loss: 0.6888 - accuracy: 0.6406\n",
      "Epoch 17/100\n",
      "115/115 [==============================] - 0s 721us/step - loss: 0.6884 - accuracy: 0.6527\n",
      "Epoch 18/100\n",
      "115/115 [==============================] - 0s 730us/step - loss: 0.6880 - accuracy: 0.6466\n",
      "Epoch 19/100\n",
      "115/115 [==============================] - 0s 883us/step - loss: 0.6875 - accuracy: 0.6719\n",
      "Epoch 20/100\n",
      "115/115 [==============================] - 0s 912us/step - loss: 0.6871 - accuracy: 0.6554\n",
      "Epoch 21/100\n",
      "115/115 [==============================] - 0s 753us/step - loss: 0.6865 - accuracy: 0.6501\n",
      "Epoch 22/100\n",
      "115/115 [==============================] - 0s 688us/step - loss: 0.6859 - accuracy: 0.6701\n",
      "Epoch 23/100\n",
      "115/115 [==============================] - 0s 668us/step - loss: 0.6854 - accuracy: 0.6902\n",
      "Epoch 24/100\n",
      "115/115 [==============================] - 0s 700us/step - loss: 0.6849 - accuracy: 0.7076\n",
      "Epoch 25/100\n",
      "115/115 [==============================] - 0s 718us/step - loss: 0.6843 - accuracy: 0.6597\n",
      "Epoch 26/100\n",
      "115/115 [==============================] - 0s 732us/step - loss: 0.6835 - accuracy: 0.7311\n",
      "Epoch 27/100\n",
      "115/115 [==============================] - 0s 755us/step - loss: 0.6830 - accuracy: 0.7232\n",
      "Epoch 28/100\n",
      "115/115 [==============================] - 0s 726us/step - loss: 0.6822 - accuracy: 0.6440\n",
      "Epoch 29/100\n",
      "115/115 [==============================] - 0s 703us/step - loss: 0.6815 - accuracy: 0.7389\n",
      "Epoch 30/100\n",
      "115/115 [==============================] - 0s 727us/step - loss: 0.6806 - accuracy: 0.7189\n",
      "Epoch 31/100\n",
      "115/115 [==============================] - 0s 745us/step - loss: 0.6798 - accuracy: 0.7868\n",
      "Epoch 32/100\n",
      "115/115 [==============================] - 0s 729us/step - loss: 0.6789 - accuracy: 0.7441\n",
      "Epoch 33/100\n",
      "115/115 [==============================] - 0s 752us/step - loss: 0.6779 - accuracy: 0.7755\n",
      "Epoch 34/100\n",
      "115/115 [==============================] - 0s 710us/step - loss: 0.6768 - accuracy: 0.7911\n",
      "Epoch 35/100\n",
      "115/115 [==============================] - 0s 761us/step - loss: 0.6757 - accuracy: 0.7084\n",
      "Epoch 36/100\n",
      "115/115 [==============================] - 0s 745us/step - loss: 0.6744 - accuracy: 0.8042\n",
      "Epoch 37/100\n",
      "115/115 [==============================] - 0s 730us/step - loss: 0.6732 - accuracy: 0.7815\n",
      "Epoch 38/100\n",
      "115/115 [==============================] - 0s 839us/step - loss: 0.6719 - accuracy: 0.7885\n",
      "Epoch 39/100\n",
      "115/115 [==============================] - 0s 833us/step - loss: 0.6705 - accuracy: 0.8111\n",
      "Epoch 40/100\n",
      "115/115 [==============================] - 0s 786us/step - loss: 0.6688 - accuracy: 0.8111\n",
      "Epoch 41/100\n",
      "115/115 [==============================] - 0s 707us/step - loss: 0.6670 - accuracy: 0.8146\n",
      "Epoch 42/100\n",
      "115/115 [==============================] - 0s 678us/step - loss: 0.6652 - accuracy: 0.8172\n",
      "Epoch 43/100\n",
      "115/115 [==============================] - 0s 721us/step - loss: 0.6633 - accuracy: 0.8050\n",
      "Epoch 44/100\n",
      "115/115 [==============================] - 0s 728us/step - loss: 0.6611 - accuracy: 0.8120\n",
      "Epoch 45/100\n",
      "115/115 [==============================] - 0s 690us/step - loss: 0.6589 - accuracy: 0.8155\n",
      "Epoch 46/100\n",
      "115/115 [==============================] - 0s 677us/step - loss: 0.6563 - accuracy: 0.8294\n",
      "Epoch 47/100\n",
      "115/115 [==============================] - 0s 707us/step - loss: 0.6534 - accuracy: 0.8190\n",
      "Epoch 48/100\n",
      "115/115 [==============================] - 0s 667us/step - loss: 0.6507 - accuracy: 0.8207\n",
      "Epoch 49/100\n",
      "115/115 [==============================] - 0s 706us/step - loss: 0.6476 - accuracy: 0.8277\n",
      "Epoch 50/100\n",
      "115/115 [==============================] - 0s 758us/step - loss: 0.6442 - accuracy: 0.8364\n",
      "Epoch 51/100\n",
      "115/115 [==============================] - 0s 771us/step - loss: 0.6406 - accuracy: 0.8355\n",
      "Epoch 52/100\n",
      "115/115 [==============================] - 0s 715us/step - loss: 0.6367 - accuracy: 0.8355\n",
      "Epoch 53/100\n",
      "115/115 [==============================] - 0s 746us/step - loss: 0.6321 - accuracy: 0.8259\n",
      "Epoch 54/100\n",
      "115/115 [==============================] - 0s 727us/step - loss: 0.6279 - accuracy: 0.8416\n",
      "Epoch 55/100\n",
      "115/115 [==============================] - 0s 621us/step - loss: 0.6229 - accuracy: 0.8364\n",
      "Epoch 56/100\n",
      "115/115 [==============================] - 0s 710us/step - loss: 0.6178 - accuracy: 0.8407\n",
      "Epoch 57/100\n",
      "115/115 [==============================] - 0s 611us/step - loss: 0.6121 - accuracy: 0.8381\n",
      "Epoch 58/100\n",
      "115/115 [==============================] - 0s 604us/step - loss: 0.6061 - accuracy: 0.8407\n",
      "Epoch 59/100\n",
      "115/115 [==============================] - 0s 569us/step - loss: 0.5998 - accuracy: 0.8460\n",
      "Epoch 60/100\n",
      "115/115 [==============================] - 0s 607us/step - loss: 0.5928 - accuracy: 0.8425\n",
      "Epoch 61/100\n",
      "115/115 [==============================] - 0s 596us/step - loss: 0.5856 - accuracy: 0.8372\n",
      "Epoch 62/100\n",
      "115/115 [==============================] - 0s 564us/step - loss: 0.5780 - accuracy: 0.8442\n",
      "Epoch 63/100\n",
      "115/115 [==============================] - 0s 558us/step - loss: 0.5700 - accuracy: 0.8372\n",
      "Epoch 64/100\n",
      "115/115 [==============================] - 0s 609us/step - loss: 0.5617 - accuracy: 0.8433\n",
      "Epoch 65/100\n",
      "115/115 [==============================] - 0s 621us/step - loss: 0.5531 - accuracy: 0.8451\n",
      "Epoch 66/100\n",
      "115/115 [==============================] - 0s 686us/step - loss: 0.5440 - accuracy: 0.8433\n",
      "Epoch 67/100\n",
      "115/115 [==============================] - 0s 655us/step - loss: 0.5347 - accuracy: 0.8486\n",
      "Epoch 68/100\n",
      "115/115 [==============================] - 0s 634us/step - loss: 0.5251 - accuracy: 0.8433\n",
      "Epoch 69/100\n",
      "115/115 [==============================] - 0s 629us/step - loss: 0.5154 - accuracy: 0.8494\n",
      "Epoch 70/100\n",
      "115/115 [==============================] - 0s 583us/step - loss: 0.5055 - accuracy: 0.8460\n",
      "Epoch 71/100\n",
      "115/115 [==============================] - 0s 547us/step - loss: 0.4957 - accuracy: 0.8460\n",
      "Epoch 72/100\n",
      "115/115 [==============================] - 0s 532us/step - loss: 0.4856 - accuracy: 0.8486\n",
      "Epoch 73/100\n",
      "115/115 [==============================] - 0s 525us/step - loss: 0.4759 - accuracy: 0.8494\n",
      "Epoch 74/100\n",
      "115/115 [==============================] - 0s 529us/step - loss: 0.4661 - accuracy: 0.8468\n",
      "Epoch 75/100\n",
      "115/115 [==============================] - 0s 524us/step - loss: 0.4565 - accuracy: 0.8468\n",
      "Epoch 76/100\n",
      "115/115 [==============================] - 0s 540us/step - loss: 0.4471 - accuracy: 0.8547\n",
      "Epoch 77/100\n",
      "115/115 [==============================] - 0s 533us/step - loss: 0.4378 - accuracy: 0.8529\n",
      "Epoch 78/100\n",
      "115/115 [==============================] - 0s 582us/step - loss: 0.4289 - accuracy: 0.8520\n",
      "Epoch 79/100\n"
     ]
    },
    {
     "name": "stdout",
     "output_type": "stream",
     "text": [
      "115/115 [==============================] - 0s 616us/step - loss: 0.4204 - accuracy: 0.8573\n",
      "Epoch 80/100\n",
      "115/115 [==============================] - 0s 588us/step - loss: 0.4120 - accuracy: 0.8581\n",
      "Epoch 81/100\n",
      "115/115 [==============================] - 0s 579us/step - loss: 0.4039 - accuracy: 0.8590\n",
      "Epoch 82/100\n",
      "115/115 [==============================] - 0s 573us/step - loss: 0.3963 - accuracy: 0.8590\n",
      "Epoch 83/100\n",
      "115/115 [==============================] - 0s 599us/step - loss: 0.3887 - accuracy: 0.8642\n",
      "Epoch 84/100\n",
      "115/115 [==============================] - 0s 570us/step - loss: 0.3818 - accuracy: 0.8660\n",
      "Epoch 85/100\n",
      "115/115 [==============================] - 0s 589us/step - loss: 0.3748 - accuracy: 0.8668\n",
      "Epoch 86/100\n",
      "115/115 [==============================] - 0s 606us/step - loss: 0.3687 - accuracy: 0.8686\n",
      "Epoch 87/100\n",
      "115/115 [==============================] - 0s 605us/step - loss: 0.3624 - accuracy: 0.8677\n",
      "Epoch 88/100\n",
      "115/115 [==============================] - 0s 758us/step - loss: 0.3566 - accuracy: 0.8721\n",
      "Epoch 89/100\n",
      "115/115 [==============================] - 0s 855us/step - loss: 0.3508 - accuracy: 0.8773\n",
      "Epoch 90/100\n",
      "115/115 [==============================] - 0s 770us/step - loss: 0.3456 - accuracy: 0.8755\n",
      "Epoch 91/100\n",
      "115/115 [==============================] - 0s 708us/step - loss: 0.3406 - accuracy: 0.8755\n",
      "Epoch 92/100\n",
      "115/115 [==============================] - 0s 769us/step - loss: 0.3357 - accuracy: 0.8816\n",
      "Epoch 93/100\n",
      "115/115 [==============================] - 0s 848us/step - loss: 0.3309 - accuracy: 0.8834\n",
      "Epoch 94/100\n",
      "115/115 [==============================] - 0s 791us/step - loss: 0.3266 - accuracy: 0.8851\n",
      "Epoch 95/100\n",
      "115/115 [==============================] - 0s 737us/step - loss: 0.3224 - accuracy: 0.8816\n",
      "Epoch 96/100\n",
      "115/115 [==============================] - 0s 658us/step - loss: 0.3184 - accuracy: 0.8842\n",
      "Epoch 97/100\n",
      "115/115 [==============================] - 0s 607us/step - loss: 0.3145 - accuracy: 0.8825\n",
      "Epoch 98/100\n",
      "115/115 [==============================] - 0s 605us/step - loss: 0.3107 - accuracy: 0.8860\n",
      "Epoch 99/100\n",
      "115/115 [==============================] - 0s 810us/step - loss: 0.3075 - accuracy: 0.8895\n",
      "Epoch 100/100\n",
      "115/115 [==============================] - 0s 712us/step - loss: 0.3040 - accuracy: 0.8877\n"
     ]
    }
   ],
   "source": [
    "model = Sequential()\n",
    "\n",
    "model.add(Dense(12, activation='sigmoid', input_dim=64))\n",
    "model.add(Dense(8, activation='sigmoid'))\n",
    "model.add(Dense(1, activation='sigmoid'))\n",
    "\n",
    "model.compile(optimizer='SGD',\n",
    "              loss='binary_crossentropy',\n",
    "              metrics=['accuracy'])\n",
    "\n",
    "# increase epochs decrease batch size\n",
    "results = model.fit(X_pure_train, y_pure_train, epochs=100, batch_size=10, verbose=1)"
   ]
  },
  {
   "cell_type": "code",
   "execution_count": 14,
   "metadata": {
    "ExecuteTime": {
     "end_time": "2022-09-01T22:55:23.103299Z",
     "start_time": "2022-09-01T22:55:22.747798Z"
    },
    "hidden": true
   },
   "outputs": [
    {
     "data": {
      "image/png": "[encoded data removed]",
      "text/plain": [
       "<Figure size 720x360 with 2 Axes>"
      ]
     },
     "metadata": {
      "needs_background": "light"
     },
     "output_type": "display_data"
    }
   ],
   "source": [
    "relu_loss = results.history['loss']\n",
    "relu_accuracy = results.history['accuracy']\n",
    "\n",
    "fig, (ax1, ax2) = plt.subplots(1, 2, figsize=(10, 5))\n",
    "sns.lineplot(x=results.epoch, y=relu_loss, ax=ax1, label='loss')\n",
    "sns.lineplot(x=results.epoch, y=relu_accuracy, ax=ax2, label='accuracy')\n",
    "ax1.legend();"
   ]
  },
  {
   "cell_type": "markdown",
   "metadata": {
    "heading_collapsed": true,
    "hidden": true
   },
   "source": [
    "### Use Relu"
   ]
  },
  {
   "cell_type": "code",
   "execution_count": 15,
   "metadata": {
    "ExecuteTime": {
     "end_time": "2022-09-01T22:55:23.242797Z",
     "start_time": "2022-09-01T22:55:23.105318Z"
    },
    "hidden": true
   },
   "outputs": [],
   "source": [
    "model = Sequential()\n",
    "model.add(Dense(12, activation='relu', input_dim=64))\n",
    "model.add(Dense(8, activation='relu'))\n",
    "model.add(Dense(1, activation='sigmoid'))\n",
    "\n",
    "model.compile(optimizer='SGD',\n",
    "              loss='binary_crossentropy',\n",
    "              metrics=['accuracy'])\n",
    "\n",
    "# Assign the variable history to store the results,\n",
    "# and set verbose=1 so we can see the output.\n",
    "# increase epochs, decrease batchsize\n",
    "\n",
    "results = model.fit(X_pure_train, y_pure_train, epochs=10, batch_size=100, verbose=0)\n"
   ]
  },
  {
   "cell_type": "code",
   "execution_count": 16,
   "metadata": {
    "ExecuteTime": {
     "end_time": "2022-09-01T22:55:23.614828Z",
     "start_time": "2022-09-01T22:55:23.244798Z"
    },
    "hidden": true
   },
   "outputs": [
    {
     "data": {
      "image/png": "[encoded data removed]",
      "text/plain": [
       "<Figure size 720x360 with 2 Axes>"
      ]
     },
     "metadata": {
      "needs_background": "light"
     },
     "output_type": "display_data"
    }
   ],
   "source": [
    "relu_loss = results.history['loss']\n",
    "relu_accuracy = results.history['accuracy']\n",
    "\n",
    "fig, (ax1, ax2) = plt.subplots(1, 2, figsize=(10, 5))\n",
    "sns.lineplot(x=results.epoch, y=relu_loss, ax=ax1, label='loss')\n",
    "sns.lineplot(x=results.epoch, y=relu_accuracy, ax=ax2, label='accuracy')\n",
    "ax1.legend();"
   ]
  },
  {
   "cell_type": "markdown",
   "metadata": {
    "heading_collapsed": true,
    "hidden": true
   },
   "source": [
    "### All of it (epochs, batch, relu)"
   ]
  },
  {
   "cell_type": "code",
   "execution_count": 17,
   "metadata": {
    "ExecuteTime": {
     "end_time": "2022-09-01T22:55:23.754299Z",
     "start_time": "2022-09-01T22:55:23.616798Z"
    },
    "hidden": true
   },
   "outputs": [],
   "source": [
    "model = Sequential()\n",
    "model.add(Dense(12, activation='relu', input_dim=64))\n",
    "model.add(Dense(8, activation='relu'))\n",
    "model.add(Dense(1, activation='sigmoid'))\n",
    "\n",
    "model.compile(optimizer='SGD',\n",
    "              loss='binary_crossentropy',\n",
    "              metrics=['accuracy'])\n",
    "\n",
    "# Assign the variable history to store the results,\n",
    "# and set verbose=1 so we can see the output.\n",
    "# increase epochs\n",
    "results = model.fit(X_pure_train, y_pure_train, epochs=100, batch_size=100, verbose=0)\n",
    "\n",
    "\n"
   ]
  },
  {
   "cell_type": "code",
   "execution_count": 18,
   "metadata": {
    "ExecuteTime": {
     "end_time": "2022-09-01T22:55:24.126298Z",
     "start_time": "2022-09-01T22:55:23.755828Z"
    },
    "hidden": true
   },
   "outputs": [
    {
     "data": {
      "image/png": "[encoded data removed]",
      "text/plain": [
       "<Figure size 720x360 with 2 Axes>"
      ]
     },
     "metadata": {
      "needs_background": "light"
     },
     "output_type": "display_data"
    }
   ],
   "source": [
    "relu_loss = results.history['loss']\n",
    "relu_accuracy = results.history['accuracy']\n",
    "\n",
    "fig, (ax1, ax2) = plt.subplots(1, 2, figsize=(10, 5))\n",
    "sns.lineplot(x=results.epoch, y=relu_loss, ax=ax1, label='loss')\n",
    "sns.lineplot(x=results.epoch, y=relu_accuracy, ax=ax2, label='accuracy')\n",
    "ax1.legend();"
   ]
  },
  {
   "cell_type": "markdown",
   "metadata": {
    "heading_collapsed": true,
    "hidden": true
   },
   "source": [
    "### Side note: learning rate"
   ]
  },
  {
   "cell_type": "markdown",
   "metadata": {
    "hidden": true
   },
   "source": [
    "If we increase the learning rate to a very high number, we see that our model overshoots the minimum, and starts bouncing all around."
   ]
  },
  {
   "cell_type": "code",
   "execution_count": 19,
   "metadata": {
    "ExecuteTime": {
     "end_time": "2022-09-01T22:55:26.435857Z",
     "start_time": "2022-09-01T22:55:24.127798Z"
    },
    "hidden": true
   },
   "outputs": [
    {
     "name": "stdout",
     "output_type": "stream",
     "text": [
      "Epoch 1/30\n",
      "115/115 [==============================] - 0s 745us/step - loss: 1.0947 - accuracy: 0.5004\n",
      "Epoch 2/30\n",
      "115/115 [==============================] - 0s 693us/step - loss: 0.9463 - accuracy: 0.5283\n",
      "Epoch 3/30\n",
      "115/115 [==============================] - 0s 801us/step - loss: 0.9962 - accuracy: 0.4900\n",
      "Epoch 4/30\n",
      "115/115 [==============================] - 0s 759us/step - loss: 1.1203 - accuracy: 0.4639\n",
      "Epoch 5/30\n",
      "115/115 [==============================] - 0s 766us/step - loss: 0.9059 - accuracy: 0.5239\n",
      "Epoch 6/30\n",
      "115/115 [==============================] - 0s 928us/step - loss: 1.0217 - accuracy: 0.4961\n",
      "Epoch 7/30\n",
      "115/115 [==============================] - 0s 929us/step - loss: 1.0198 - accuracy: 0.4961\n",
      "Epoch 8/30\n",
      "115/115 [==============================] - 0s 768us/step - loss: 0.9113 - accuracy: 0.5309\n",
      "Epoch 9/30\n",
      "115/115 [==============================] - 0s 807us/step - loss: 1.0312 - accuracy: 0.4865\n",
      "Epoch 10/30\n",
      "115/115 [==============================] - 0s 781us/step - loss: 1.0948 - accuracy: 0.4883\n",
      "Epoch 11/30\n",
      "115/115 [==============================] - 0s 773us/step - loss: 1.1136 - accuracy: 0.4735\n",
      "Epoch 12/30\n",
      "115/115 [==============================] - 0s 788us/step - loss: 0.9406 - accuracy: 0.5222\n",
      "Epoch 13/30\n",
      "115/115 [==============================] - 0s 750us/step - loss: 1.0376 - accuracy: 0.4865\n",
      "Epoch 14/30\n",
      "115/115 [==============================] - 0s 808us/step - loss: 1.0941 - accuracy: 0.4743\n",
      "Epoch 15/30\n",
      "115/115 [==============================] - 0s 880us/step - loss: 0.9477 - accuracy: 0.5144\n",
      "Epoch 16/30\n",
      "115/115 [==============================] - 0s 769us/step - loss: 1.0508 - accuracy: 0.4865\n",
      "Epoch 17/30\n",
      "115/115 [==============================] - 0s 732us/step - loss: 1.0258 - accuracy: 0.4943\n",
      "Epoch 18/30\n",
      "115/115 [==============================] - 0s 717us/step - loss: 1.0075 - accuracy: 0.4891\n",
      "Epoch 19/30\n",
      "115/115 [==============================] - 0s 718us/step - loss: 1.0319 - accuracy: 0.4787\n",
      "Epoch 20/30\n",
      "115/115 [==============================] - 0s 671us/step - loss: 1.0080 - accuracy: 0.4926\n",
      "Epoch 21/30\n",
      "115/115 [==============================] - 0s 677us/step - loss: 0.9323 - accuracy: 0.5074\n",
      "Epoch 22/30\n",
      "115/115 [==============================] - 0s 712us/step - loss: 0.9790 - accuracy: 0.5022\n",
      "Epoch 23/30\n",
      "115/115 [==============================] - 0s 762us/step - loss: 0.9914 - accuracy: 0.4970\n",
      "Epoch 24/30\n",
      "115/115 [==============================] - 0s 910us/step - loss: 0.9697 - accuracy: 0.50830s - loss: 0.9697 - accuracy: 0.\n",
      "Epoch 25/30\n",
      "115/115 [==============================] - 0s 1ms/step - loss: 0.9859 - accuracy: 0.5048\n",
      "Epoch 26/30\n",
      "115/115 [==============================] - 0s 834us/step - loss: 0.9529 - accuracy: 0.5144\n",
      "Epoch 27/30\n",
      "115/115 [==============================] - 0s 873us/step - loss: 1.0626 - accuracy: 0.4795\n",
      "Epoch 28/30\n",
      "115/115 [==============================] - 0s 815us/step - loss: 1.0106 - accuracy: 0.4917\n",
      "Epoch 29/30\n",
      "115/115 [==============================] - 0s 840us/step - loss: 1.0484 - accuracy: 0.4996\n",
      "Epoch 30/30\n",
      "115/115 [==============================] - 0s 776us/step - loss: 0.8866 - accuracy: 0.5161\n"
     ]
    },
    {
     "data": {
      "image/png": "[encoded data removed]",
      "text/plain": [
       "<Figure size 720x360 with 2 Axes>"
      ]
     },
     "metadata": {
      "needs_background": "light"
     },
     "output_type": "display_data"
    }
   ],
   "source": [
    "model = Sequential()\n",
    "\n",
    "sgd = SGD(lr=9)\n",
    "\n",
    "\n",
    "model.add(Dense(12, activation='relu', input_dim=64))\n",
    "model.add(Dense(8, activation='relu'))\n",
    "model.add(Dense(1, activation='sigmoid'))\n",
    "\n",
    "model.compile(optimizer=sgd,\n",
    "              loss='binary_crossentropy',\n",
    "              metrics=['accuracy'])\n",
    "\n",
    "results = model.fit(X_pure_train, y_pure_train,\n",
    "                    epochs=30, batch_size=10, verbose=1)\n",
    "\n",
    "relu_loss = results.history['loss']\n",
    "relu_accuracy = results.history['accuracy']\n",
    "\n",
    "fig, (ax1, ax2) = plt.subplots(1, 2, figsize=(10, 5))\n",
    "sns.lineplot(x=results.epoch, y=relu_loss, ax=ax1, label='loss')\n",
    "sns.lineplot(x=results.epoch, y=relu_accuracy, ax=ax2, label='accuracy')\n",
    "ax1.legend();\n"
   ]
  },
  {
   "cell_type": "markdown",
   "metadata": {
    "heading_collapsed": true,
    "hidden": true
   },
   "source": [
    "### Exercise"
   ]
  },
  {
   "cell_type": "markdown",
   "metadata": {
    "hidden": true
   },
   "source": [
    "We have been looking only at our training set. Let's add in our validation set to the picture. Check the docstring for the `.fit()` method and add in our validation data."
   ]
  },
  {
   "cell_type": "code",
   "execution_count": 20,
   "metadata": {
    "ExecuteTime": {
     "end_time": "2022-09-01T22:55:26.683799Z",
     "start_time": "2022-09-01T22:55:26.437799Z"
    },
    "hidden": true
   },
   "outputs": [
    {
     "data": {
      "image/png": "[encoded data removed]",
      "text/plain": [
       "<Figure size 720x360 with 2 Axes>"
      ]
     },
     "metadata": {
      "needs_background": "light"
     },
     "output_type": "display_data"
    }
   ],
   "source": [
    "model = Sequential()\n",
    "model.add(Dense(12, activation='relu', input_dim=64))\n",
    "model.add(Dense(8, activation='relu'))\n",
    "model.add(Dense(4, activation='relu'))\n",
    "model.add(Dense(1, activation='sigmoid'))\n",
    "\n",
    "model.compile(optimizer='adam',\n",
    "              loss='binary_crossentropy',\n",
    "              metrics=['accuracy'])\n",
    "\n",
    "\n",
    "## YOUR CODE HERE\n",
    "results = model.fit(X_pure_train, \n",
    "                    y_pure_train, \n",
    "                    epochs=30, \n",
    "                    batch_size=10, \n",
    "                    validation_data=(X_val, y_val), \n",
    "                    verbose=0)\n",
    "\n",
    "\n",
    "train_loss = results.history['loss']\n",
    "train_acc = results.history['accuracy']\n",
    "val_loss = results.history['val_loss']\n",
    "val_acc = results.history['val_accuracy']\n",
    "\n",
    "fig, (ax1, ax2) = plt.subplots(1, 2, figsize=(10, 5))\n",
    "sns.lineplot(x=results.epoch, y=train_loss, ax=ax1, label='train_loss')\n",
    "sns.lineplot(x=results.epoch, y=train_acc, ax=ax2, label='train_accuracy')\n",
    "\n",
    "sns.lineplot(x=results.epoch, y=val_loss, ax=ax1, label='val_loss')\n",
    "sns.lineplot(x=results.epoch, y=val_acc, ax=ax2, label='val_accuracy')\n",
    "ax1.set_title('Loss')\n",
    "ax2.set_title('Accuracy')\n",
    "ax1.legend();"
   ]
  },
  {
   "cell_type": "code",
   "execution_count": 21,
   "metadata": {
    "ExecuteTime": {
     "end_time": "2022-09-01T22:55:26.688800Z",
     "start_time": "2022-09-01T22:55:20.445Z"
    },
    "hidden": true
   },
   "outputs": [
    {
     "data": {
      "text/plain": [
       "0.9652777910232544"
      ]
     },
     "execution_count": 21,
     "metadata": {},
     "output_type": "execute_result"
    }
   ],
   "source": [
    "results.history['val_accuracy'][-1]"
   ]
  },
  {
   "cell_type": "markdown",
   "metadata": {
    "heading_collapsed": true,
    "hidden": true
   },
   "source": [
    "## Connecting with `sklearn`"
   ]
  },
  {
   "cell_type": "markdown",
   "metadata": {
    "hidden": true
   },
   "source": [
    "The `keras.wrappers` submodule means that we can turn `keras` models into estimators that `sklearn` tools will recognize."
   ]
  },
  {
   "cell_type": "code",
   "execution_count": 22,
   "metadata": {
    "ExecuteTime": {
     "end_time": "2022-09-01T22:55:26.689798Z",
     "start_time": "2022-09-01T22:55:20.447Z"
    },
    "hidden": true
   },
   "outputs": [],
   "source": [
    "# # This will throw an error.\n",
    "\n",
    "# cross_val_score(model, X_pure_train, y_pure_train)"
   ]
  },
  {
   "cell_type": "code",
   "execution_count": 23,
   "metadata": {
    "ExecuteTime": {
     "end_time": "2022-09-01T22:55:26.690300Z",
     "start_time": "2022-09-01T22:55:20.448Z"
    },
    "hidden": true
   },
   "outputs": [],
   "source": [
    "def build_model():\n",
    "    model = Sequential()\n",
    "    model.add(Dense(12, activation='relu', input_dim=64))\n",
    "    model.add(Dense(8, activation='relu'))\n",
    "    model.add(Dense(4, activation='relu'))\n",
    "    model.add(Dense(1, activation = 'sigmoid'))\n",
    "\n",
    "    model.compile(optimizer='adam',\n",
    "                  loss='binary_crossentropy',\n",
    "                  metrics=['accuracy'])\n",
    "    return model"
   ]
  },
  {
   "cell_type": "code",
   "execution_count": 24,
   "metadata": {
    "ExecuteTime": {
     "end_time": "2022-09-01T22:55:26.691300Z",
     "start_time": "2022-09-01T22:55:20.449Z"
    },
    "hidden": true
   },
   "outputs": [],
   "source": [
    "keras_model = scikit_learn.KerasClassifier(build_model,\n",
    "                                          epochs=10,\n",
    "                                          batch_size=32,\n",
    "                                          verbose=2)"
   ]
  },
  {
   "cell_type": "code",
   "execution_count": 25,
   "metadata": {
    "ExecuteTime": {
     "end_time": "2022-09-01T22:55:26.691799Z",
     "start_time": "2022-09-01T22:55:20.450Z"
    },
    "hidden": true
   },
   "outputs": [
    {
     "data": {
      "text/plain": [
       "tensorflow.python.keras.wrappers.scikit_learn.KerasClassifier"
      ]
     },
     "execution_count": 25,
     "metadata": {},
     "output_type": "execute_result"
    }
   ],
   "source": [
    "type(keras_model)"
   ]
  },
  {
   "cell_type": "code",
   "execution_count": 26,
   "metadata": {
    "ExecuteTime": {
     "end_time": "2022-09-01T22:55:26.692324Z",
     "start_time": "2022-09-01T22:55:20.452Z"
    },
    "hidden": true,
    "scrolled": true
   },
   "outputs": [
    {
     "name": "stdout",
     "output_type": "stream",
     "text": [
      "Epoch 1/10\n",
      "29/29 - 0s - loss: 0.6954 - accuracy: 0.4929\n",
      "Epoch 2/10\n",
      "29/29 - 0s - loss: 0.6686 - accuracy: 0.4962\n",
      "Epoch 3/10\n",
      "29/29 - 0s - loss: 0.6266 - accuracy: 0.5158\n",
      "Epoch 4/10\n",
      "29/29 - 0s - loss: 0.5844 - accuracy: 0.6126\n",
      "Epoch 5/10\n",
      "29/29 - 0s - loss: 0.5455 - accuracy: 0.7606\n",
      "Epoch 6/10\n",
      "29/29 - 0s - loss: 0.5107 - accuracy: 0.8052\n",
      "Epoch 7/10\n",
      "29/29 - 0s - loss: 0.4812 - accuracy: 0.8477\n",
      "Epoch 8/10\n",
      "29/29 - 0s - loss: 0.4570 - accuracy: 0.8694\n",
      "Epoch 9/10\n",
      "29/29 - 0s - loss: 0.4363 - accuracy: 0.8825\n",
      "Epoch 10/10\n",
      "29/29 - 0s - loss: 0.4208 - accuracy: 0.8901\n",
      "8/8 - 0s - loss: 0.3885 - accuracy: 0.8870\n",
      "Epoch 1/10\n",
      "29/29 - 0s - loss: 0.6610 - accuracy: 0.6366\n",
      "Epoch 2/10\n",
      "29/29 - 0s - loss: 0.5890 - accuracy: 0.7726\n",
      "Epoch 3/10\n",
      "29/29 - 0s - loss: 0.5086 - accuracy: 0.8313\n",
      "Epoch 4/10\n",
      "29/29 - 0s - loss: 0.4272 - accuracy: 0.8727\n",
      "Epoch 5/10\n",
      "29/29 - 0s - loss: 0.3582 - accuracy: 0.8923\n",
      "Epoch 6/10\n",
      "29/29 - 0s - loss: 0.3104 - accuracy: 0.8945\n",
      "Epoch 7/10\n",
      "29/29 - 0s - loss: 0.2725 - accuracy: 0.9097\n",
      "Epoch 8/10\n",
      "29/29 - 0s - loss: 0.2465 - accuracy: 0.9151\n",
      "Epoch 9/10\n",
      "29/29 - 0s - loss: 0.2259 - accuracy: 0.9151\n",
      "Epoch 10/10\n",
      "29/29 - 0s - loss: 0.2091 - accuracy: 0.9271\n",
      "8/8 - 0s - loss: 0.2266 - accuracy: 0.9304\n",
      "Epoch 1/10\n",
      "29/29 - 0s - loss: 0.6457 - accuracy: 0.6322\n",
      "Epoch 2/10\n",
      "29/29 - 0s - loss: 0.5792 - accuracy: 0.7508\n",
      "Epoch 3/10\n",
      "29/29 - 0s - loss: 0.5144 - accuracy: 0.7889\n",
      "Epoch 4/10\n",
      "29/29 - 0s - loss: 0.4295 - accuracy: 0.8205\n",
      "Epoch 5/10\n",
      "29/29 - 0s - loss: 0.3404 - accuracy: 0.8792\n",
      "Epoch 6/10\n",
      "29/29 - 0s - loss: 0.2832 - accuracy: 0.8923\n",
      "Epoch 7/10\n",
      "29/29 - 0s - loss: 0.2499 - accuracy: 0.9075\n",
      "Epoch 8/10\n",
      "29/29 - 0s - loss: 0.2228 - accuracy: 0.9119\n",
      "Epoch 9/10\n",
      "29/29 - 0s - loss: 0.2073 - accuracy: 0.9162\n",
      "Epoch 10/10\n",
      "29/29 - 0s - loss: 0.1909 - accuracy: 0.9238\n",
      "8/8 - 0s - loss: 0.1749 - accuracy: 0.9348\n",
      "Epoch 1/10\n",
      "29/29 - 0s - loss: 0.6880 - accuracy: 0.4886\n",
      "Epoch 2/10\n",
      "29/29 - 0s - loss: 0.6730 - accuracy: 0.6181\n",
      "Epoch 3/10\n",
      "29/29 - 0s - loss: 0.6351 - accuracy: 0.8215\n",
      "Epoch 4/10\n",
      "29/29 - 0s - loss: 0.5331 - accuracy: 0.8226\n",
      "Epoch 5/10\n",
      "29/29 - 0s - loss: 0.4215 - accuracy: 0.8705\n",
      "Epoch 6/10\n",
      "29/29 - 0s - loss: 0.3413 - accuracy: 0.8836\n",
      "Epoch 7/10\n",
      "29/29 - 0s - loss: 0.2890 - accuracy: 0.8890\n",
      "Epoch 8/10\n",
      "29/29 - 0s - loss: 0.2569 - accuracy: 0.9075\n",
      "Epoch 9/10\n",
      "29/29 - 0s - loss: 0.2347 - accuracy: 0.9086\n",
      "Epoch 10/10\n",
      "29/29 - 0s - loss: 0.2137 - accuracy: 0.9053\n",
      "8/8 - 0s - loss: 0.1749 - accuracy: 0.9391\n",
      "Epoch 1/10\n",
      "29/29 - 0s - loss: 0.6932 - accuracy: 0.5011\n",
      "Epoch 2/10\n",
      "29/29 - 0s - loss: 0.6932 - accuracy: 0.5011\n",
      "Epoch 3/10\n",
      "29/29 - 0s - loss: 0.6932 - accuracy: 0.5011\n",
      "Epoch 4/10\n",
      "29/29 - 0s - loss: 0.6932 - accuracy: 0.5011\n",
      "Epoch 5/10\n",
      "29/29 - 0s - loss: 0.6932 - accuracy: 0.5011\n",
      "Epoch 6/10\n",
      "29/29 - 0s - loss: 0.6932 - accuracy: 0.5011\n",
      "Epoch 7/10\n",
      "29/29 - 0s - loss: 0.6932 - accuracy: 0.5011\n",
      "Epoch 8/10\n",
      "29/29 - 0s - loss: 0.6932 - accuracy: 0.5011\n",
      "Epoch 9/10\n",
      "29/29 - 0s - loss: 0.6932 - accuracy: 0.5011\n",
      "Epoch 10/10\n",
      "29/29 - 0s - loss: 0.6932 - accuracy: 0.5011\n",
      "8/8 - 0s - loss: 0.6931 - accuracy: 0.5153\n"
     ]
    },
    {
     "data": {
      "text/plain": [
       "array([0.88695651, 0.93043476, 0.93478262, 0.93913043, 0.51528382])"
      ]
     },
     "execution_count": 26,
     "metadata": {},
     "output_type": "execute_result"
    }
   ],
   "source": [
    "cross_val_score(keras_model, X_pure_train, y_pure_train)"
   ]
  },
  {
   "cell_type": "markdown",
   "metadata": {
    "heading_collapsed": true,
    "hidden": true
   },
   "source": [
    "## [Regularization](https://www.tensorflow.org/api_docs/python/tf/keras/regularizers/Regularizer)"
   ]
  },
  {
   "cell_type": "markdown",
   "metadata": {
    "hidden": true
   },
   "source": [
    "Does regularization make sense in the context of neural networks? <br/>\n",
    "\n",
    "Yes! We still have all of the salient ingredients: a loss function, overfitting vs. underfitting, and coefficients (weights) that could get too large.\n",
    "\n",
    "But there are now a few different flavors besides L1 and L2 regularization. (Note that L1 regularization is not common in the context of  neural networks.)\n",
    "\n",
    "We'll add a few more layers to give regularization a better chance of making a difference!"
   ]
  },
  {
   "cell_type": "code",
   "execution_count": 27,
   "metadata": {
    "ExecuteTime": {
     "end_time": "2022-09-01T22:55:26.693299Z",
     "start_time": "2022-09-01T22:55:20.454Z"
    },
    "hidden": true
   },
   "outputs": [
    {
     "data": {
      "image/png": "[encoded data removed]",
      "text/plain": [
       "<Figure size 720x360 with 2 Axes>"
      ]
     },
     "metadata": {
      "needs_background": "light"
     },
     "output_type": "display_data"
    }
   ],
   "source": [
    "model = Sequential()\n",
    "model.add(Dense(30, activation='relu', input_dim=64))\n",
    "\n",
    "# We can add L2 (or L1) regularization right into\n",
    "# the layer with the kernel_regularizer parameter.\n",
    "\n",
    "model.add(Dense(20, activation='relu',kernel_regularizer=l2(l=0.05)))\n",
    "\n",
    "# Note that there is also a bias_regularizer,\n",
    "# but this tends to have less effect.\n",
    "\n",
    "model.add(Dense(12, activation='relu'))\n",
    "model.add(Dense(12, activation='relu'))\n",
    "model.add(Dense(12, activation='relu'))\n",
    "model.add(Dense(8, activation='relu'))\n",
    "model.add(Dense(4, activation='relu'))\n",
    "model.add(Dense(1, activation ='sigmoid'))\n",
    "\n",
    "model.compile(optimizer='adam',\n",
    "              loss='binary_crossentropy',\n",
    "              metrics=['accuracy'])\n",
    "\n",
    "results = model.fit(X_pure_train, y_pure_train, epochs=20, batch_size=32,\n",
    "                    verbose=0, validation_data=(X_val, y_val))\n",
    "\n",
    "train_loss = results.history['loss']\n",
    "train_acc = results.history['accuracy']\n",
    "val_loss = results.history['val_loss']\n",
    "val_acc = results.history['val_accuracy']\n",
    "\n",
    "\n",
    "fig, (ax1, ax2) = plt.subplots(1, 2, figsize=(10, 5))\n",
    "sns.lineplot(x=results.epoch, y=train_loss, ax=ax1, label='train_loss')\n",
    "sns.lineplot(x=results.epoch, y=train_acc, ax=ax2, label='train_accuracy')\n",
    "\n",
    "sns.lineplot(x=results.epoch, y=val_loss, ax=ax1, label='val_loss')\n",
    "sns.lineplot(x=results.epoch, y=val_acc, ax=ax2, label='val_accuracy')\n",
    "ax1.set_title('Loss')\n",
    "ax2.set_title('Accuracy')\n",
    "ax1.legend();"
   ]
  },
  {
   "cell_type": "markdown",
   "metadata": {
    "hidden": true
   },
   "source": [
    "Adding L2 to multiple layers:"
   ]
  },
  {
   "cell_type": "code",
   "execution_count": 28,
   "metadata": {
    "ExecuteTime": {
     "end_time": "2022-09-01T22:55:26.694299Z",
     "start_time": "2022-09-01T22:55:20.456Z"
    },
    "hidden": true
   },
   "outputs": [
    {
     "data": {
      "image/png": "[encoded data removed]",
      "text/plain": [
       "<Figure size 720x360 with 2 Axes>"
      ]
     },
     "metadata": {
      "needs_background": "light"
     },
     "output_type": "display_data"
    }
   ],
   "source": [
    "model = Sequential()\n",
    "model.add(Dense(30, activation='relu',\n",
    "                input_dim=64))\n",
    "model.add(Dense(20, activation='relu',\n",
    "                kernel_regularizer=l2(l=0.01)))\n",
    "\n",
    "model.add(Dense(12, activation='relu',\n",
    "                kernel_regularizer=l2(l=0.01)))\n",
    "model.add(Dense(12, activation='relu',\n",
    "                kernel_regularizer=l2(l=0.01)))\n",
    "model.add(Dense(12, activation='relu',\n",
    "                kernel_regularizer=l2(l=0.01)))\n",
    "model.add(Dense(8, activation='relu',\n",
    "                kernel_regularizer=l2(l=0.01)))\n",
    "model.add(Dense(4, activation='relu',\n",
    "                kernel_regularizer=l2(l=0.01)))\n",
    "model.add(Dense(1, activation='sigmoid'))\n",
    "\n",
    "model.compile(optimizer='adam',\n",
    "              loss='binary_crossentropy',\n",
    "              metrics=['accuracy'])\n",
    "\n",
    "results = model.fit(X_pure_train, y_pure_train, epochs=20, batch_size=32,\n",
    "                    verbose=0, validation_data=(X_val, y_val))\n",
    "\n",
    "train_loss = results.history['loss']\n",
    "train_acc = results.history['accuracy']\n",
    "val_loss = results.history['val_loss']\n",
    "val_acc = results.history['val_accuracy']\n",
    "\n",
    "\n",
    "fig, (ax1, ax2) = plt.subplots(1, 2, figsize=(10, 5))\n",
    "sns.lineplot(x=results.epoch, y=train_loss, ax=ax1, label='train_loss')\n",
    "sns.lineplot(x=results.epoch, y=train_acc, ax=ax2, label='train_accuracy')\n",
    "\n",
    "sns.lineplot(x=results.epoch, y=val_loss, ax=ax1, label='val_loss')\n",
    "sns.lineplot(x=results.epoch, y=val_acc, ax=ax2, label='val_accuracy')\n",
    "ax1.set_title('Loss')\n",
    "ax2.set_title('Accuracy')\n",
    "ax1.legend();"
   ]
  },
  {
   "cell_type": "markdown",
   "metadata": {
    "heading_collapsed": true,
    "hidden": true
   },
   "source": [
    "### Dropout\n",
    "\n",
    "We can also specify a dropout layer in keras, which randomly shuts off different nodes during training. This can help to prevent overfitting."
   ]
  },
  {
   "cell_type": "markdown",
   "metadata": {
    "hidden": true
   },
   "source": [
    "![drop_out](images/drop_out.png)"
   ]
  },
  {
   "cell_type": "markdown",
   "metadata": {
    "heading_collapsed": true,
    "hidden": true
   },
   "source": [
    "### Exercise\n",
    "\n",
    "To add dropout to a `keras` network, simply add it as though it were a layer. It will apply to the immediately preceding layer.\n",
    "\n",
    "Add Dropout to one or more layers below."
   ]
  },
  {
   "cell_type": "code",
   "execution_count": 29,
   "metadata": {
    "ExecuteTime": {
     "end_time": "2022-09-01T22:55:26.695299Z",
     "start_time": "2022-09-01T22:55:20.459Z"
    },
    "hidden": true
   },
   "outputs": [
    {
     "data": {
      "image/png": "[encoded data removed]",
      "text/plain": [
       "<Figure size 720x360 with 2 Axes>"
      ]
     },
     "metadata": {
      "needs_background": "light"
     },
     "output_type": "display_data"
    }
   ],
   "source": [
    "model = Sequential()\n",
    "model.add(Dense(30, activation='relu', input_dim=64))\n",
    "model.add(Dense(20, activation='relu'))\n",
    "model.add(Dropout(0.5))\n",
    "model.add(Dense(12, activation='relu'))\n",
    "model.add(Dense(12, activation='relu'))\n",
    "model.add(Dropout(0.4))\n",
    "model.add(Dense(8, activation='relu'))\n",
    "model.add(Dense(8, activation='relu'))\n",
    "model.add(Dense(4, activation='relu'))\n",
    "model.add(Dropout(0.2))\n",
    "model.add(Dense(1, activation ='sigmoid'))\n",
    "\n",
    "model.compile(optimizer='adam',\n",
    "              loss='binary_crossentropy',\n",
    "              metrics=['accuracy'])\n",
    "\n",
    "results = model.fit(X_pure_train, y_pure_train, epochs=50,\n",
    "                    batch_size= 32, verbose=0,\n",
    "                    validation_data=(X_val, y_val))\n",
    "\n",
    "train_loss = results.history['loss']\n",
    "train_acc = results.history['accuracy']\n",
    "val_loss = results.history['val_loss']\n",
    "val_acc = results.history['val_accuracy']\n",
    "\n",
    "\n",
    "fig, (ax1, ax2) = plt.subplots(1, 2, figsize=(10, 5))\n",
    "sns.lineplot(x=results.epoch, y=train_loss, ax=ax1, label='train_loss')\n",
    "sns.lineplot(x=results.epoch, y=train_acc, ax=ax2, label='train_accuracy')\n",
    "\n",
    "sns.lineplot(x=results.epoch, y=val_loss, ax=ax1, label='val_loss')\n",
    "sns.lineplot(x=results.epoch, y=val_acc, ax=ax2, label='val_accuracy')\n",
    "ax1.set_title('Loss')\n",
    "ax2.set_title('Accuracy')\n",
    "ax1.legend();"
   ]
  },
  {
   "cell_type": "code",
   "execution_count": 30,
   "metadata": {
    "ExecuteTime": {
     "end_time": "2022-09-01T22:55:26.696299Z",
     "start_time": "2022-09-01T22:55:20.460Z"
    },
    "hidden": true
   },
   "outputs": [
    {
     "data": {
      "text/plain": [
       "0.9722222089767456"
      ]
     },
     "execution_count": 30,
     "metadata": {},
     "output_type": "execute_result"
    }
   ],
   "source": [
    "results.history['val_accuracy'][-1]"
   ]
  },
  {
   "cell_type": "markdown",
   "metadata": {
    "heading_collapsed": true,
    "hidden": true
   },
   "source": [
    "### Early Stopping"
   ]
  },
  {
   "cell_type": "markdown",
   "metadata": {
    "hidden": true
   },
   "source": [
    "We can also tell our neural network to stop once it stops realizing any gain.\n",
    "\n",
    "Here we tell it to stop once the a very small positive change in the validation loss occurs:"
   ]
  },
  {
   "cell_type": "code",
   "execution_count": 46,
   "metadata": {
    "ExecuteTime": {
     "end_time": "2022-09-01T22:55:26.696798Z",
     "start_time": "2022-09-01T22:55:20.462Z"
    },
    "hidden": true
   },
   "outputs": [
    {
     "data": {
      "image/png": "[encoded data removed]",
      "text/plain": [
       "<Figure size 720x360 with 2 Axes>"
      ]
     },
     "metadata": {
      "needs_background": "light"
     },
     "output_type": "display_data"
    }
   ],
   "source": [
    "model = Sequential()\n",
    "model.add(Dense(30, activation='relu', input_dim=64))\n",
    "model.add(Dense(20, activation='relu'))\n",
    "model.add(Dropout(0.5))\n",
    "model.add(Dense(12, activation='relu'))\n",
    "model.add(Dense(12, activation='relu'))\n",
    "model.add(Dense(12, activation='relu'))\n",
    "model.add(Dense(8, activation='relu'))\n",
    "model.add(Dense(4, activation='relu'))\n",
    "model.add(Dense(1, activation ='sigmoid'))\n",
    "\n",
    "model.compile(optimizer='adam',\n",
    "              loss='binary_crossentropy',\n",
    "              metrics=['accuracy'])\n",
    "\n",
    "# Define the EarlyStopping object\n",
    "early_stop = EarlyStopping(monitor='val_loss', \n",
    "                           min_delta=1e-8,\n",
    "                           verbose=1,\n",
    "                           mode='min')\n",
    "\n",
    "# Place this in a list as the value of the `callbacks` parameter\n",
    "# in the `.fit()` method.\n",
    "results = model.fit(X_pure_train, y_pure_train,\n",
    "                    epochs=20, batch_size=32,\n",
    "                    verbose=0, validation_data=(X_val, y_val),\n",
    "                    callbacks=[early_stop])\n",
    "\n",
    "train_loss = results.history['loss']\n",
    "train_acc = results.history['accuracy']\n",
    "val_loss = results.history['val_loss']\n",
    "val_acc = results.history['val_accuracy']\n",
    "\n",
    "\n",
    "fig, (ax1, ax2) = plt.subplots(1, 2, figsize=(10, 5))\n",
    "sns.lineplot(x=results.epoch, y=train_loss, ax=ax1, label='train_loss')\n",
    "sns.lineplot(x=results.epoch, y=train_acc, ax=ax2, label='train_accuracy')\n",
    "\n",
    "sns.lineplot(x=results.epoch, y=val_loss, ax=ax1, label='val_loss')\n",
    "sns.lineplot(x=results.epoch, y=val_acc, ax=ax2, label='val_accuracy')\n",
    "ax1.set_title('Loss')\n",
    "ax2.set_title('Accuracy')\n",
    "ax1.legend();"
   ]
  },
  {
   "cell_type": "markdown",
   "metadata": {
    "heading_collapsed": true,
    "hidden": true
   },
   "source": [
    "### Exercise\n",
    "\n",
    "That probably stopped too early. We can specify the number of epochs in which it doesn't see decrease in the loss with the `patience` parameter. Modify the code below to include an Early Stop with a patience of 5 epochs."
   ]
  },
  {
   "cell_type": "code",
   "execution_count": null,
   "metadata": {
    "ExecuteTime": {
     "end_time": "2022-09-01T22:55:26.697800Z",
     "start_time": "2022-09-01T22:55:20.464Z"
    },
    "hidden": true
   },
   "outputs": [],
   "source": [
    "model = Sequential()\n",
    "model.add(Dense(30, activation='relu', input_dim=64))\n",
    "model.add(Dense(20, activation='relu'))\n",
    "model.add(Dropout(0.5))\n",
    "model.add(Dense(12, activation='relu'))\n",
    "model.add(Dense(12, activation='relu'))\n",
    "model.add(Dense(12, activation='relu'))\n",
    "model.add(Dense(8, activation='relu'))\n",
    "model.add(Dense(4, activation='relu'))\n",
    "model.add(Dense(1, activation ='sigmoid'))\n",
    "\n",
    "model.compile(optimizer='adam',\n",
    "              loss='binary_crossentropy',\n",
    "              metrics=['accuracy'])\n",
    "\n",
    "# Define the EarlyStopping object\n",
    "\n",
    "\n",
    "# Place this in a list as the value of the `callbacks` parameter\n",
    "# in the `.fit()` method.\n",
    "results = model.fit(X_pure_train, y_pure_train,\n",
    "                    epochs=50, batch_size= 32,\n",
    "                    verbose=0, validation_data=(X_val, y_val),\n",
    "                    callbacks=[early_stop])\n",
    "\n",
    "train_loss = results.history['loss']\n",
    "train_acc = results.history['accuracy']\n",
    "val_loss = results.history['val_loss']\n",
    "val_acc = results.history['val_accuracy']\n",
    "\n",
    "\n",
    "fig, (ax1, ax2) = plt.subplots(1, 2, figsize=(10, 5))\n",
    "sns.lineplot(x=results.epoch, y=train_loss, ax=ax1, label='train_loss')\n",
    "sns.lineplot(x=results.epoch, y=train_acc, ax=ax2, label='train_accuracy')\n",
    "\n",
    "sns.lineplot(x=results.epoch, y=val_loss, ax=ax1, label='val_loss')\n",
    "sns.lineplot(x=results.epoch, y=val_acc, ax=ax2, label='val_accuracy')\n",
    "ax1.set_title('Loss')\n",
    "ax2.set_title('Accuracy')\n",
    "ax1.legend();"
   ]
  },
  {
   "cell_type": "code",
   "execution_count": null,
   "metadata": {
    "ExecuteTime": {
     "end_time": "2022-09-01T22:55:26.698800Z",
     "start_time": "2022-09-01T22:55:20.465Z"
    },
    "hidden": true
   },
   "outputs": [],
   "source": [
    "results.history['val_accuracy'][-1]"
   ]
  },
  {
   "cell_type": "markdown",
   "metadata": {
    "heading_collapsed": true,
    "hidden": true
   },
   "source": [
    "## Multiclass Classification and Softmax"
   ]
  },
  {
   "cell_type": "markdown",
   "metadata": {
    "hidden": true
   },
   "source": [
    "Now let's return to the problem of predicting digits 0 through 9."
   ]
  },
  {
   "cell_type": "code",
   "execution_count": 47,
   "metadata": {
    "ExecuteTime": {
     "end_time": "2022-09-01T22:55:26.699323Z",
     "start_time": "2022-09-01T22:55:20.467Z"
    },
    "hidden": true
   },
   "outputs": [],
   "source": [
    "digits = load_digits()\n",
    "X = digits.data\n",
    "y = digits.target"
   ]
  },
  {
   "cell_type": "code",
   "execution_count": 48,
   "metadata": {
    "ExecuteTime": {
     "end_time": "2022-09-01T22:55:26.700319Z",
     "start_time": "2022-09-01T22:55:20.469Z"
    },
    "hidden": true
   },
   "outputs": [],
   "source": [
    "X_train, X_test, y_train, y_test = train_test_split(X, y,\n",
    "                                                    random_state=42,\n",
    "                                                    test_size=0.2)\n",
    "X_pure_train, X_val, y_pure_train, y_val =\\\n",
    "    train_test_split(X_train, y_train,\n",
    "                     random_state=42, test_size=0.2)\n",
    "X_pure_train, X_val, X_test = X_pure_train/16, X_val/16, X_test/16"
   ]
  },
  {
   "cell_type": "markdown",
   "metadata": {
    "hidden": true
   },
   "source": [
    "For a multiclass output, our neural net expects our target to be in a certain form."
   ]
  },
  {
   "cell_type": "code",
   "execution_count": 49,
   "metadata": {
    "ExecuteTime": {
     "end_time": "2022-09-01T22:55:26.700824Z",
     "start_time": "2022-09-01T22:55:20.470Z"
    },
    "hidden": true
   },
   "outputs": [],
   "source": [
    "ohe = OneHotEncoder(sparse=False)\n",
    "y_pure_train = ohe.fit_transform(y_pure_train.reshape(-1,1))\n",
    "y_val = ohe.transform(y_val.reshape(-1,1))\n",
    "y_test = ohe.transform(y_test.reshape(-1,1))"
   ]
  },
  {
   "cell_type": "code",
   "execution_count": 50,
   "metadata": {
    "ExecuteTime": {
     "end_time": "2022-09-01T22:55:26.701818Z",
     "start_time": "2022-09-01T22:55:20.472Z"
    },
    "hidden": true,
    "scrolled": true
   },
   "outputs": [
    {
     "data": {
      "text/plain": [
       "array([[0., 0., 0., ..., 0., 0., 0.],\n",
       "       [0., 0., 0., ..., 0., 0., 1.],\n",
       "       [0., 0., 0., ..., 0., 0., 0.],\n",
       "       ...,\n",
       "       [0., 0., 0., ..., 0., 1., 0.],\n",
       "       [0., 0., 0., ..., 0., 0., 0.],\n",
       "       [0., 0., 0., ..., 0., 0., 0.]])"
      ]
     },
     "execution_count": 50,
     "metadata": {},
     "output_type": "execute_result"
    }
   ],
   "source": [
    "y_test"
   ]
  },
  {
   "cell_type": "code",
   "execution_count": 51,
   "metadata": {},
   "outputs": [
    {
     "data": {
      "text/plain": [
       "(360, 10)"
      ]
     },
     "execution_count": 51,
     "metadata": {},
     "output_type": "execute_result"
    }
   ],
   "source": [
    "y_test.shape"
   ]
  },
  {
   "cell_type": "code",
   "execution_count": 52,
   "metadata": {
    "ExecuteTime": {
     "end_time": "2022-09-01T22:55:26.702823Z",
     "start_time": "2022-09-01T22:55:20.473Z"
    },
    "hidden": true
   },
   "outputs": [
    {
     "name": "stdout",
     "output_type": "stream",
     "text": [
      "Epoch 1/50\n",
      "115/115 [==============================] - 0s 2ms/step - loss: 2.2042 - accuracy: 0.1941 - val_loss: 2.0113 - val_accuracy: 0.3403\n",
      "Epoch 2/50\n",
      "115/115 [==============================] - 0s 828us/step - loss: 1.8705 - accuracy: 0.3664 - val_loss: 1.6787 - val_accuracy: 0.4757\n",
      "Epoch 3/50\n",
      "115/115 [==============================] - 0s 831us/step - loss: 1.5638 - accuracy: 0.4970 - val_loss: 1.4022 - val_accuracy: 0.5174\n",
      "Epoch 4/50\n",
      "115/115 [==============================] - 0s 897us/step - loss: 1.2825 - accuracy: 0.5640 - val_loss: 1.1285 - val_accuracy: 0.6493\n",
      "Epoch 5/50\n",
      "115/115 [==============================] - 0s 877us/step - loss: 0.9875 - accuracy: 0.7093 - val_loss: 0.8704 - val_accuracy: 0.7569\n",
      "Epoch 6/50\n",
      "115/115 [==============================] - 0s 929us/step - loss: 0.7662 - accuracy: 0.7937 - val_loss: 0.7052 - val_accuracy: 0.8194\n",
      "Epoch 7/50\n",
      "115/115 [==============================] - 0s 958us/step - loss: 0.6261 - accuracy: 0.8390 - val_loss: 0.5837 - val_accuracy: 0.8542\n",
      "Epoch 8/50\n",
      "115/115 [==============================] - 0s 1ms/step - loss: 0.5251 - accuracy: 0.8634 - val_loss: 0.5076 - val_accuracy: 0.8681\n",
      "Epoch 9/50\n",
      "115/115 [==============================] - 0s 1ms/step - loss: 0.4552 - accuracy: 0.8773 - val_loss: 0.4585 - val_accuracy: 0.8854\n",
      "Epoch 10/50\n",
      "115/115 [==============================] - 0s 1ms/step - loss: 0.4079 - accuracy: 0.8842 - val_loss: 0.4113 - val_accuracy: 0.8958\n",
      "Epoch 11/50\n",
      "115/115 [==============================] - 0s 1ms/step - loss: 0.3642 - accuracy: 0.9025 - val_loss: 0.3847 - val_accuracy: 0.9028\n",
      "Epoch 12/50\n",
      "115/115 [==============================] - 0s 1ms/step - loss: 0.3327 - accuracy: 0.8964 - val_loss: 0.3494 - val_accuracy: 0.9028\n",
      "Epoch 13/50\n",
      "115/115 [==============================] - 0s 946us/step - loss: 0.3083 - accuracy: 0.9077 - val_loss: 0.3229 - val_accuracy: 0.9062\n",
      "Epoch 14/50\n",
      "115/115 [==============================] - ETA: 0s - loss: 0.2957 - accuracy: 0.91 - 0s 992us/step - loss: 0.2842 - accuracy: 0.9156 - val_loss: 0.3142 - val_accuracy: 0.9132\n",
      "Epoch 15/50\n",
      "115/115 [==============================] - 0s 1ms/step - loss: 0.2650 - accuracy: 0.9234 - val_loss: 0.2874 - val_accuracy: 0.9097\n",
      "Epoch 16/50\n",
      "115/115 [==============================] - 0s 1ms/step - loss: 0.2497 - accuracy: 0.9278 - val_loss: 0.2925 - val_accuracy: 0.9201\n",
      "Epoch 17/50\n",
      "115/115 [==============================] - 0s 1ms/step - loss: 0.2356 - accuracy: 0.9356 - val_loss: 0.2672 - val_accuracy: 0.9132\n",
      "Epoch 18/50\n",
      "115/115 [==============================] - 0s 1ms/step - loss: 0.2228 - accuracy: 0.9391 - val_loss: 0.2687 - val_accuracy: 0.9201\n",
      "Epoch 19/50\n",
      "115/115 [==============================] - 0s 1ms/step - loss: 0.2147 - accuracy: 0.9356 - val_loss: 0.2384 - val_accuracy: 0.9271\n",
      "Epoch 20/50\n",
      "115/115 [==============================] - 0s 1ms/step - loss: 0.2022 - accuracy: 0.9443 - val_loss: 0.2353 - val_accuracy: 0.9306\n",
      "Epoch 21/50\n",
      "115/115 [==============================] - 0s 1ms/step - loss: 0.1935 - accuracy: 0.9452 - val_loss: 0.2263 - val_accuracy: 0.9340\n",
      "Epoch 22/50\n",
      "115/115 [==============================] - 0s 1ms/step - loss: 0.1815 - accuracy: 0.9504 - val_loss: 0.2184 - val_accuracy: 0.9375\n",
      "Epoch 23/50\n",
      "115/115 [==============================] - 0s 1ms/step - loss: 0.1765 - accuracy: 0.9547 - val_loss: 0.2147 - val_accuracy: 0.9340\n",
      "Epoch 24/50\n",
      "115/115 [==============================] - 0s 1ms/step - loss: 0.1681 - accuracy: 0.9513 - val_loss: 0.2259 - val_accuracy: 0.9306\n",
      "Epoch 25/50\n",
      "115/115 [==============================] - 0s 950us/step - loss: 0.1600 - accuracy: 0.9565 - val_loss: 0.2040 - val_accuracy: 0.9340\n",
      "Epoch 26/50\n",
      "115/115 [==============================] - 0s 962us/step - loss: 0.1552 - accuracy: 0.9539 - val_loss: 0.2241 - val_accuracy: 0.9306\n",
      "Epoch 27/50\n",
      "115/115 [==============================] - 0s 950us/step - loss: 0.1488 - accuracy: 0.9608 - val_loss: 0.2064 - val_accuracy: 0.9306\n",
      "Epoch 28/50\n",
      "115/115 [==============================] - 0s 933us/step - loss: 0.1473 - accuracy: 0.9565 - val_loss: 0.1882 - val_accuracy: 0.9340\n",
      "Epoch 29/50\n",
      "115/115 [==============================] - 0s 907us/step - loss: 0.1404 - accuracy: 0.9643 - val_loss: 0.1909 - val_accuracy: 0.9375\n",
      "Epoch 30/50\n",
      "115/115 [==============================] - 0s 982us/step - loss: 0.1347 - accuracy: 0.9661 - val_loss: 0.1835 - val_accuracy: 0.9444\n",
      "Epoch 31/50\n",
      "115/115 [==============================] - 0s 1ms/step - loss: 0.1329 - accuracy: 0.9678 - val_loss: 0.1851 - val_accuracy: 0.9375\n",
      "Epoch 32/50\n",
      "115/115 [==============================] - 0s 893us/step - loss: 0.1267 - accuracy: 0.9678 - val_loss: 0.1827 - val_accuracy: 0.9444\n",
      "Epoch 33/50\n",
      "115/115 [==============================] - 0s 883us/step - loss: 0.1225 - accuracy: 0.9713 - val_loss: 0.1822 - val_accuracy: 0.9444\n",
      "Epoch 34/50\n",
      "115/115 [==============================] - 0s 949us/step - loss: 0.1184 - accuracy: 0.9695 - val_loss: 0.1777 - val_accuracy: 0.9444\n",
      "Epoch 35/50\n",
      "115/115 [==============================] - 0s 979us/step - loss: 0.1162 - accuracy: 0.9713 - val_loss: 0.1715 - val_accuracy: 0.9340\n",
      "Epoch 36/50\n",
      "115/115 [==============================] - 0s 1ms/step - loss: 0.1132 - accuracy: 0.9730 - val_loss: 0.1773 - val_accuracy: 0.9514\n",
      "Epoch 37/50\n",
      "115/115 [==============================] - 0s 1ms/step - loss: 0.1087 - accuracy: 0.9695 - val_loss: 0.1589 - val_accuracy: 0.9410\n",
      "Epoch 38/50\n",
      "115/115 [==============================] - 0s 1ms/step - loss: 0.1090 - accuracy: 0.9704 - val_loss: 0.1766 - val_accuracy: 0.9375\n",
      "Epoch 39/50\n",
      "115/115 [==============================] - 0s 930us/step - loss: 0.1045 - accuracy: 0.9765 - val_loss: 0.1595 - val_accuracy: 0.9375\n",
      "Epoch 40/50\n",
      "115/115 [==============================] - 0s 889us/step - loss: 0.0991 - accuracy: 0.9774 - val_loss: 0.1640 - val_accuracy: 0.9410\n",
      "Epoch 41/50\n",
      "115/115 [==============================] - 0s 858us/step - loss: 0.0975 - accuracy: 0.9774 - val_loss: 0.1830 - val_accuracy: 0.9410\n",
      "Epoch 42/50\n",
      "115/115 [==============================] - 0s 1ms/step - loss: 0.0979 - accuracy: 0.9765 - val_loss: 0.1589 - val_accuracy: 0.9514\n",
      "Epoch 43/50\n",
      "115/115 [==============================] - 0s 1ms/step - loss: 0.0925 - accuracy: 0.9782 - val_loss: 0.1670 - val_accuracy: 0.9479\n",
      "Epoch 44/50\n",
      "115/115 [==============================] - 0s 1ms/step - loss: 0.0896 - accuracy: 0.9791 - val_loss: 0.1534 - val_accuracy: 0.9444\n",
      "Epoch 45/50\n",
      "115/115 [==============================] - 0s 1ms/step - loss: 0.0873 - accuracy: 0.9817 - val_loss: 0.1487 - val_accuracy: 0.9514\n",
      "Epoch 46/50\n",
      "115/115 [==============================] - 0s 1ms/step - loss: 0.0864 - accuracy: 0.9774 - val_loss: 0.1505 - val_accuracy: 0.9479\n",
      "Epoch 47/50\n",
      "115/115 [==============================] - 0s 1ms/step - loss: 0.0848 - accuracy: 0.9791 - val_loss: 0.1550 - val_accuracy: 0.9549\n",
      "Epoch 48/50\n",
      "115/115 [==============================] - 0s 1ms/step - loss: 0.0812 - accuracy: 0.9826 - val_loss: 0.1559 - val_accuracy: 0.9479\n",
      "Epoch 49/50\n",
      "115/115 [==============================] - 0s 1ms/step - loss: 0.0796 - accuracy: 0.9809 - val_loss: 0.1454 - val_accuracy: 0.9514\n",
      "Epoch 50/50\n",
      "115/115 [==============================] - 0s 1ms/step - loss: 0.0787 - accuracy: 0.9835 - val_loss: 0.1514 - val_accuracy: 0.9549\n"
     ]
    }
   ],
   "source": [
    "# Model from above, but now with ten output neurons:\n",
    "\n",
    "model = Sequential()\n",
    "model.add(Dense(12, activation='relu', input_dim=64))\n",
    "model.add(Dense(8, activation='relu'))\n",
    "model.add(Dense(10, activation='softmax'))\n",
    "\n",
    "model.compile(optimizer='adam',\n",
    "              loss='categorical_crossentropy',\n",
    "              metrics=['accuracy'])\n",
    "\n",
    "results = model.fit(X_pure_train, y_pure_train,\n",
    "                   epochs=50, batch_size=10,\n",
    "                   validation_data=(X_val, y_val))"
   ]
  },
  {
   "cell_type": "markdown",
   "metadata": {
    "hidden": true
   },
   "source": [
    "$$\\large \\text{Softmax}(x_{i}) = \\frac{\\exp(x_i)}{\\sum_j \\exp(x_j)}$$\n",
    "\n",
    "The sofmax function outputs a number between 0 and 1 for each of our classes.  All of the probabilities of the classes sum up to 1.\n",
    "\n",
    "The number of nodes in our output layer equals the number of categories in our dataset.\n",
    "\n",
    "We also need a new loss function: **categorical crossentropy**, which calculates a separate loss for each label and then sums the results."
   ]
  },
  {
   "cell_type": "code",
   "execution_count": 53,
   "metadata": {
    "ExecuteTime": {
     "end_time": "2022-09-01T22:55:26.703326Z",
     "start_time": "2022-09-01T22:55:20.474Z"
    },
    "hidden": true
   },
   "outputs": [],
   "source": [
    "history = results.history\n",
    "training_loss = history['loss']\n",
    "val_loss = history['val_loss']\n",
    "training_accuracy = history['accuracy']\n",
    "val_accuracy = history['val_accuracy']"
   ]
  },
  {
   "cell_type": "code",
   "execution_count": 57,
   "metadata": {
    "ExecuteTime": {
     "end_time": "2022-09-01T22:55:26.704300Z",
     "start_time": "2022-09-01T22:55:20.476Z"
    },
    "hidden": true,
    "scrolled": true
   },
   "outputs": [
    {
     "data": {
      "image/png": "[encoded data removed]",
      "text/plain": [
       "<Figure size 1080x360 with 2 Axes>"
      ]
     },
     "metadata": {
      "needs_background": "light"
     },
     "output_type": "display_data"
    }
   ],
   "source": [
    "fig, (ax1,ax2) = plt.subplots(1,2,figsize=(15,5))\n",
    "\n",
    "\n",
    "sns.lineplot(x=list(range(len(training_loss))),\n",
    "             y=training_loss, color='r', label='training', ax=ax1)\n",
    "sns.lineplot(x=list(range(len(val_loss))),\n",
    "             y=val_loss, color='b', label='validation', ax=ax1)\n",
    "sns.lineplot(x=list(range(len(training_loss))),\n",
    "             y=training_accuracy, color='r', label='training',ax=ax2)\n",
    "sns.lineplot(x=list(range(len(val_loss))),\n",
    "             y=val_accuracy, color='b', label='validation',ax=ax2)\n",
    "\n",
    "ax1.set_title('Loss')\n",
    "ax2.set_title('Accuracy')\n",
    "ax1.legend();"
   ]
  },
  {
   "cell_type": "code",
   "execution_count": null,
   "metadata": {},
   "outputs": [],
   "source": [
    "history['val_accuracy'][-1]"
   ]
  },
  {
   "cell_type": "code",
   "execution_count": null,
   "metadata": {},
   "outputs": [],
   "source": [
    "history['val_accuracy'][-1]"
   ]
  },
  {
   "cell_type": "code",
   "execution_count": null,
   "metadata": {},
   "outputs": [],
   "source": [
    "history['val_accuracy'][-1]"
   ]
  },
  {
   "cell_type": "code",
   "execution_count": null,
   "metadata": {},
   "outputs": [],
   "source": [
    "history['val_accuracy'][-1]"
   ]
  },
  {
   "cell_type": "markdown",
   "metadata": {
    "hidden": true
   },
   "source": [
    "Wow, look at that performance!  \n",
    "\n",
    "That is great, but remember, we were dealing with simple black and white images.  With color, our basic neural net will have less success.\n",
    "\n",
    "We will explore more advanced tools in the coming days.\n"
   ]
  }
 ],
 "metadata": {
  "celltoolbar": "Raw Cell Format",
  "colab": {
   "collapsed_sections": [],
   "name": "intro-to-keras.ipynb",
   "provenance": []
  },
  "kernelspec": {
   "display_name": "learn-env",
   "language": "python",
   "name": "learn-env"
  },
  "language_info": {
   "codemirror_mode": {
    "name": "ipython",
    "version": 3
   },
   "file_extension": ".py",
   "mimetype": "text/x-python",
   "name": "python",
   "nbconvert_exporter": "python",
   "pygments_lexer": "ipython3",
   "version": "3.8.5"
  },
  "toc": {
   "base_numbering": 1,
   "nav_menu": {},
   "number_sections": true,
   "sideBar": true,
   "skip_h1_title": false,
   "title_cell": "Table of Contents",
   "title_sidebar": "Contents",
   "toc_cell": false,
   "toc_position": {},
   "toc_section_display": true,
   "toc_window_display": true
  },
  "varInspector": {
   "cols": {
    "lenName": 16,
    "lenType": 16,
    "lenVar": 40
   },
   "kernels_config": {
    "python": {
     "delete_cmd_postfix": "",
     "delete_cmd_prefix": "del ",
     "library": "var_list.py",
     "varRefreshCmd": "print(var_dic_list())"
    },
    "r": {
     "delete_cmd_postfix": ") ",
     "delete_cmd_prefix": "rm(",
     "library": "var_list.r",
     "varRefreshCmd": "cat(var_dic_list()) "
    }
   },
   "types_to_exclude": [
    "module",
    "function",
    "builtin_function_or_method",
    "instance",
    "_Feature"
   ],
   "window_display": false
  }
 },
 "nbformat": 4,
 "nbformat_minor": 4
}
