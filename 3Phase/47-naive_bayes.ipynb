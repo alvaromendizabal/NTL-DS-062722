{
 "cells": [
  {
   "cell_type": "markdown",
   "metadata": {
    "toc": true
   },
   "source": [
    "<h1>Table of Contents<span class=\"tocSkip\"></span></h1>\n",
    "<div class=\"toc\"><ul class=\"toc-item\"><li><span><a href=\"#Objectives\" data-toc-modified-id=\"Objectives-1\"><span class=\"toc-item-num\">1&nbsp;&nbsp;</span>Objectives</a></span></li><li><span><a href=\"#Motivating--The-Bayesian-Classifier-🧐\" data-toc-modified-id=\"Motivating--The-Bayesian-Classifier-🧐-2\"><span class=\"toc-item-num\">2&nbsp;&nbsp;</span>Motivating  The Bayesian Classifier 🧐</a></span><ul class=\"toc-item\"><li><span><a href=\"#Naive-Bayes-Setup\" data-toc-modified-id=\"Naive-Bayes-Setup-2.1\"><span class=\"toc-item-num\">2.1&nbsp;&nbsp;</span>Naive Bayes Setup</a></span><ul class=\"toc-item\"><li><span><a href=\"#What's-So-Great-About-This?\" data-toc-modified-id=\"What's-So-Great-About-This?-2.1.1\"><span class=\"toc-item-num\">2.1.1&nbsp;&nbsp;</span>What's So Great About This?</a></span></li></ul></li><li><span><a href=\"#The-Naive-Assumption\" data-toc-modified-id=\"The-Naive-Assumption-2.2\"><span class=\"toc-item-num\">2.2&nbsp;&nbsp;</span>The Naive Assumption</a></span></li><li><span><a href=\"#The-Formula\" data-toc-modified-id=\"The-Formula-2.3\"><span class=\"toc-item-num\">2.3&nbsp;&nbsp;</span>The Formula</a></span><ul class=\"toc-item\"><li><span><a href=\"#What-Parts-Can-We-Find?\" data-toc-modified-id=\"What-Parts-Can-We-Find?-2.3.1\"><span class=\"toc-item-num\">2.3.1&nbsp;&nbsp;</span>What Parts Can We Find?</a></span></li></ul></li><li><span><a href=\"#Calculating-the-Probability-That-Our-Email-Is-Spam\" data-toc-modified-id=\"Calculating-the-Probability-That-Our-Email-Is-Spam-2.4\"><span class=\"toc-item-num\">2.4&nbsp;&nbsp;</span>Calculating the Probability That Our Email Is Spam</a></span></li><li><span><a href=\"#Extending-It-With-Multiple-Words\" data-toc-modified-id=\"Extending-It-With-Multiple-Words-2.5\"><span class=\"toc-item-num\">2.5&nbsp;&nbsp;</span>Extending It With Multiple Words</a></span></li></ul></li><li><span><a href=\"#Naive-Bayes-Modeling-Example\" data-toc-modified-id=\"Naive-Bayes-Modeling-Example-3\"><span class=\"toc-item-num\">3&nbsp;&nbsp;</span>Naive Bayes Modeling Example</a></span><ul class=\"toc-item\"><li><span><a href=\"#Using-Bayes's-Theorem-for-Classification\" data-toc-modified-id=\"Using-Bayes's-Theorem-for-Classification-3.1\"><span class=\"toc-item-num\">3.1&nbsp;&nbsp;</span>Using Bayes's Theorem for Classification</a></span><ul class=\"toc-item\"><li><span><a href=\"#Does-this-look-like-a-classification-problem?\" data-toc-modified-id=\"Does-this-look-like-a-classification-problem?-3.1.1\"><span class=\"toc-item-num\">3.1.1&nbsp;&nbsp;</span>Does this look like a classification problem?</a></span></li></ul></li><li><span><a href=\"#Elephant-Example\" data-toc-modified-id=\"Elephant-Example-3.2\"><span class=\"toc-item-num\">3.2&nbsp;&nbsp;</span>Elephant Example</a></span><ul class=\"toc-item\"><li><span><a href=\"#Naive-Bayes-by-Hand\" data-toc-modified-id=\"Naive-Bayes-by-Hand-3.2.1\"><span class=\"toc-item-num\">3.2.1&nbsp;&nbsp;</span>Naive Bayes by Hand</a></span></li><li><span><a href=\"#Priors\" data-toc-modified-id=\"Priors-3.2.2\"><span class=\"toc-item-num\">3.2.2&nbsp;&nbsp;</span>Priors</a></span></li><li><span><a href=\"#Calculation-of-Likelihoods\" data-toc-modified-id=\"Calculation-of-Likelihoods-3.2.3\"><span class=\"toc-item-num\">3.2.3&nbsp;&nbsp;</span>Calculation of Likelihoods</a></span></li><li><span><a href=\"#Posteriors\" data-toc-modified-id=\"Posteriors-3.2.4\"><span class=\"toc-item-num\">3.2.4&nbsp;&nbsp;</span>Posteriors</a></span></li><li><span><a href=\"#More-Dimensions\" data-toc-modified-id=\"More-Dimensions-3.2.5\"><span class=\"toc-item-num\">3.2.5&nbsp;&nbsp;</span>More Dimensions</a></span><ul class=\"toc-item\"><li><span><a href=\"#What's-&quot;Naive&quot;-about-This?\" data-toc-modified-id=\"What's-&quot;Naive&quot;-about-This?-3.2.5.1\"><span class=\"toc-item-num\">3.2.5.1&nbsp;&nbsp;</span>What's \"Naive\" about This?</a></span></li><li><span><a href=\"#Priors\" data-toc-modified-id=\"Priors-3.2.5.2\"><span class=\"toc-item-num\">3.2.5.2&nbsp;&nbsp;</span>Priors</a></span></li><li><span><a href=\"#Likelihoods\" data-toc-modified-id=\"Likelihoods-3.2.5.3\"><span class=\"toc-item-num\">3.2.5.3&nbsp;&nbsp;</span>Likelihoods</a></span></li><li><span><a href=\"#Posteriors\" data-toc-modified-id=\"Posteriors-3.2.5.4\"><span class=\"toc-item-num\">3.2.5.4&nbsp;&nbsp;</span>Posteriors</a></span></li></ul></li><li><span><a href=\"#GaussianNB\" data-toc-modified-id=\"GaussianNB-3.2.6\"><span class=\"toc-item-num\">3.2.6&nbsp;&nbsp;</span><a href=\"https://scikit-learn.org/stable/modules/generated/sklearn.naive_bayes.GaussianNB.html\" target=\"_blank\"><code>GaussianNB</code></a></a></span></li></ul></li><li><span><a href=\"#Comma-Survey-Example\" data-toc-modified-id=\"Comma-Survey-Example-3.3\"><span class=\"toc-item-num\">3.3&nbsp;&nbsp;</span>Comma Survey Example</a></span><ul class=\"toc-item\"><li><span><a href=\"#Calculating-Priors-and-Likelihoods\" data-toc-modified-id=\"Calculating-Priors-and-Likelihoods-3.3.1\"><span class=\"toc-item-num\">3.3.1&nbsp;&nbsp;</span>Calculating Priors and Likelihoods</a></span></li><li><span><a href=\"#Calculating-Posteriors\" data-toc-modified-id=\"Calculating-Posteriors-3.3.2\"><span class=\"toc-item-num\">3.3.2&nbsp;&nbsp;</span>Calculating Posteriors</a></span></li><li><span><a href=\"#Comparison-with-MultinomialNB\" data-toc-modified-id=\"Comparison-with-MultinomialNB-3.3.3\"><span class=\"toc-item-num\">3.3.3&nbsp;&nbsp;</span>Comparison with <a href=\"https://scikit-learn.org/stable/modules/generated/sklearn.naive_bayes.MultinomialNB.html\" target=\"_blank\"><code>MultinomialNB</code></a></a></span></li></ul></li></ul></li></ul></div>"
   ]
  },
  {
   "cell_type": "code",
   "execution_count": 1,
   "metadata": {
    "ExecuteTime": {
     "end_time": "2022-08-15T22:05:03.956044Z",
     "start_time": "2022-08-15T22:05:02.561519Z"
    }
   },
   "outputs": [],
   "source": [
    "import numpy as np\n",
    "import pandas as pd\n",
    "from scipy import stats\n",
    "from sklearn.naive_bayes import MultinomialNB, GaussianNB\n",
    "    # There is also a BernoulliNB for a dataset with binary predictors\n",
    "import seaborn as sns\n",
    "from matplotlib import pyplot as plt\n",
    "from sklearn.model_selection import train_test_split\n",
    "from sklearn.metrics import plot_confusion_matrix\n",
    "from sklearn.preprocessing import OneHotEncoder\n",
    "\n",
    "%matplotlib inline"
   ]
  },
  {
   "cell_type": "markdown",
   "metadata": {
    "heading_collapsed": true
   },
   "source": [
    "# Objectives"
   ]
  },
  {
   "cell_type": "markdown",
   "metadata": {
    "hidden": true
   },
   "source": [
    "- Describe how Bayes's Theorem can be used to make predictions of a target\n",
    "- Identify the appropriate variant of Naive Bayes models for a particular business problem"
   ]
  },
  {
   "cell_type": "markdown",
   "metadata": {
    "heading_collapsed": true
   },
   "source": [
    "# Motivating  The Bayesian Classifier 🧐"
   ]
  },
  {
   "cell_type": "markdown",
   "metadata": {
    "hidden": true
   },
   "source": [
    "> Let's take a second to go through an example to get a feel for how Bayes' Theorem can help us with classification. Specifically about document classification"
   ]
  },
  {
   "cell_type": "markdown",
   "metadata": {
    "hidden": true
   },
   "source": [
    "Spam, Spam, Spam, Spam, Spam..."
   ]
  },
  {
   "cell_type": "markdown",
   "metadata": {
    "hidden": true
   },
   "source": [
    "![Many cans of spam](images/wall_of_spam.jpeg)\n",
    "\n",
    "> This is the classic example: detecting email spam!"
   ]
  },
  {
   "cell_type": "markdown",
   "metadata": {
    "hidden": true
   },
   "source": [
    "**The Problem Setup**\n",
    "\n",
    "> We get emails that can be either emails we care about (***ham*** 🐷) or emails we don't care about (***spam*** 🥫). \n",
    ">\n",
    "> We can probably look at the words in the email and get an idea of whether they are spam or not just by observing if they contain red-flag words 🚩\n",
    "> \n",
    "> We won't always be right, but if we see an email that uses word(s) that are more often associated with spam, then we can feel more confident as labeling that email as spam!"
   ]
  },
  {
   "cell_type": "markdown",
   "metadata": {
    "heading_collapsed": true,
    "hidden": true
   },
   "source": [
    "## Naive Bayes Setup"
   ]
  },
  {
   "cell_type": "markdown",
   "metadata": {
    "hidden": true
   },
   "source": [
    "What we gotta do:"
   ]
  },
  {
   "cell_type": "markdown",
   "metadata": {
    "hidden": true
   },
   "source": [
    "1. Look at spam and not spam (ham) emails\n",
    "2. Identify words that suggest classification\n",
    "3. Determine probability that words occur in each classification\n",
    "4. Profit (classify new emails as \"spam\" or \"ham\")"
   ]
  },
  {
   "cell_type": "markdown",
   "metadata": {
    "heading_collapsed": true,
    "hidden": true
   },
   "source": [
    "### What's So Great About This?"
   ]
  },
  {
   "cell_type": "markdown",
   "metadata": {
    "hidden": true
   },
   "source": [
    "- We can keep updating our belief based on the emails we detect\n",
    "- Relatively simple\n",
    "- Can expand to multiple words"
   ]
  },
  {
   "cell_type": "markdown",
   "metadata": {
    "heading_collapsed": true,
    "hidden": true
   },
   "source": [
    "## The Naive Assumption"
   ]
  },
  {
   "cell_type": "markdown",
   "metadata": {
    "hidden": true
   },
   "source": [
    "$P(A,B) = P(A\\cap B) = P(A)\\ P(B)$ only if independent \n",
    "\n",
    "In practice, makes sense & is usually pretty good assumption"
   ]
  },
  {
   "cell_type": "markdown",
   "metadata": {
    "heading_collapsed": true,
    "hidden": true
   },
   "source": [
    "## The Formula"
   ]
  },
  {
   "cell_type": "markdown",
   "metadata": {
    "hidden": true
   },
   "source": [
    "Let's say the word that occurs is \"cash\":\n",
    "\n",
    "$$ P(🥫 | \"cash\") = \\frac{P(\"cash\" | 🥫)P(🥫)}{P(\"cash\")}$$"
   ]
  },
  {
   "cell_type": "markdown",
   "metadata": {
    "heading_collapsed": true,
    "hidden": true
   },
   "source": [
    "### What Parts Can We Find?"
   ]
  },
  {
   "cell_type": "markdown",
   "metadata": {
    "hidden": true
   },
   "source": [
    "- $P(\"cash\")$\n",
    "    * That's just the probability of finding the word \"cash\"! Frequency of the word!\n",
    "- $P(🥫)$\n",
    "    * Well, we start with some data (*prior knowledge*): The frequency of the spam occurring!\n",
    "- $P(\"cash\" | 🥫)$\n",
    "    * How frequently \"cash\" is used in known spam emails. Count the frequency across all spam emails\n",
    "    "
   ]
  },
  {
   "cell_type": "markdown",
   "metadata": {
    "heading_collapsed": true,
    "hidden": true
   },
   "source": [
    "## Calculating the Probability That Our Email Is Spam"
   ]
  },
  {
   "cell_type": "code",
   "execution_count": 2,
   "metadata": {
    "ExecuteTime": {
     "end_time": "2022-08-15T22:05:03.971519Z",
     "start_time": "2022-08-15T22:05:03.957518Z"
    },
    "hidden": true
   },
   "outputs": [],
   "source": [
    "# Let's just say 2% of all emails have the word \"cash\" in them\n",
    "p_cash = 0.02\n",
    "\n",
    "# We normally would measure this from our data, but we'll take \n",
    "# it that 10% of all emails we collected were spam\n",
    "p_spam = 0.10\n",
    "\n",
    "# 12% of all spam emails have the word \"cash\"\n",
    "p_cash_given_its_spam = 0.12"
   ]
  },
  {
   "cell_type": "code",
   "execution_count": 3,
   "metadata": {
    "ExecuteTime": {
     "end_time": "2022-08-15T22:05:03.987048Z",
     "start_time": "2022-08-15T22:05:03.976519Z"
    },
    "hidden": true
   },
   "outputs": [
    {
     "name": "stdout",
     "output_type": "stream",
     "text": [
      "If the email has the word \"cash\" in it, there is a 60.0% chance the email is spam\n"
     ]
    }
   ],
   "source": [
    "p_spam_given_cash = p_cash_given_its_spam * p_spam / p_cash\n",
    "\n",
    "print(f'If the email has the word \"cash\" in it, there is a {p_spam_given_cash*100}% chance the email is spam')"
   ]
  },
  {
   "cell_type": "code",
   "execution_count": 4,
   "metadata": {},
   "outputs": [
    {
     "data": {
      "text/plain": [
       "5.0"
      ]
     },
     "execution_count": 4,
     "metadata": {},
     "output_type": "execute_result"
    }
   ],
   "source": [
    "250 * .02"
   ]
  },
  {
   "cell_type": "code",
   "execution_count": 5,
   "metadata": {},
   "outputs": [
    {
     "data": {
      "text/plain": [
       "25.0"
      ]
     },
     "execution_count": 5,
     "metadata": {},
     "output_type": "execute_result"
    }
   ],
   "source": [
    "250 * .1"
   ]
  },
  {
   "cell_type": "code",
   "execution_count": 6,
   "metadata": {},
   "outputs": [
    {
     "data": {
      "text/plain": [
       "3.0"
      ]
     },
     "execution_count": 6,
     "metadata": {},
     "output_type": "execute_result"
    }
   ],
   "source": [
    "25 * .12"
   ]
  },
  {
   "cell_type": "markdown",
   "metadata": {
    "hidden": true
   },
   "source": [
    "> **Check it**: Does this make sense? <br>\n",
    "> Suppose I had 250 total emails.\n",
    "> - How many should I expect to have the word 'cash' in them? (Ans. 5)\n",
    "> - How many should I expect to be spam? (Ans. 25)\n",
    "> - How many *of the spam emails* should I expect to have the word 'cash' in them? (Ans. 3)"
   ]
  },
  {
   "cell_type": "markdown",
   "metadata": {
    "heading_collapsed": true,
    "hidden": true
   },
   "source": [
    "## Extending It With Multiple Words"
   ]
  },
  {
   "cell_type": "markdown",
   "metadata": {
    "hidden": true
   },
   "source": [
    "> With more words, the more certain we can be if it is/isn't spam"
   ]
  },
  {
   "cell_type": "markdown",
   "metadata": {
    "hidden": true
   },
   "source": [
    "Spam:\n",
    "\n",
    "$$ P(🥫\\ |\"buy\",\\ \"cash\") \\propto P(\"buy\",\\ \"cash\"|\\ 🥫)\\ P(🥫)$$\n",
    "\n",
    "\n",
    "But because of independence: \n",
    "    \n",
    "$$ P(\"buy\",\\ \"cash\"|\\ 🥫) = P(\"buy\"|\\ 🥫)\\ P(\"cash\"|\\ 🥫)$$"
   ]
  },
  {
   "cell_type": "markdown",
   "metadata": {
    "hidden": true
   },
   "source": [
    "Normalize by dividing!\n",
    "\n",
    "$$\n",
    "P(🥫\\ |\"buy\",\\ \"cash\")  =\n",
    "    \\frac\n",
    "        {P(\"buy\"|\\ 🥫)P(\"cash\"|\\ 🥫)\\ P(🥫)}\n",
    "        {P(\"buy\"|\\ 🥫)P(\"cash\"|\\ 🥫)\\ P(🥫) + P(\"buy\"|\\ 🐷)P(\"cash\"|\\ 🐷)\\ P(🐷)}\n",
    "$$\n",
    "\n"
   ]
  },
  {
   "cell_type": "markdown",
   "metadata": {
    "hidden": true
   },
   "source": [
    "> **Note:** If we wanted to find the most probable class (especially useful for *multiclass*), we find the maximum numerator for the given criteria"
   ]
  },
  {
   "cell_type": "markdown",
   "metadata": {
    "heading_collapsed": true
   },
   "source": [
    "# Naive Bayes Modeling Example"
   ]
  },
  {
   "cell_type": "markdown",
   "metadata": {
    "heading_collapsed": true,
    "hidden": true
   },
   "source": [
    "## Using Bayes's Theorem for Classification"
   ]
  },
  {
   "cell_type": "markdown",
   "metadata": {
    "hidden": true
   },
   "source": [
    "Let's recall Bayes's Theorem:\n",
    "\n",
    "$\\large P(h|e) = \\frac{P(h)P(e|h)}{P(e)}$"
   ]
  },
  {
   "cell_type": "markdown",
   "metadata": {
    "heading_collapsed": true,
    "hidden": true
   },
   "source": [
    "### Does this look like a classification problem?"
   ]
  },
  {
   "cell_type": "markdown",
   "metadata": {
    "hidden": true
   },
   "source": [
    "- Suppose we have three competing hypotheses $\\{h_1, h_2, h_3\\}$ that would explain our evidence $e$.\n",
    "    - Then we could use Bayes's Theorem to calculate the posterior probabilities for each of these three:\n",
    "        - $P(h_1|e) = \\frac{P(h_1)P(e|h_1)}{P(e)}$\n",
    "        - $P(h_2|e) = \\frac{P(h_2)P(e|h_2)}{P(e)}$\n",
    "        - $P(h_3|e) = \\frac{P(h_3)P(e|h_3)}{P(e)}$\n",
    "        \n",
    "- Suppose the evidence is a collection of elephant heights.\n",
    "- Suppose each of the three hypotheses claims that the elephant whose measurements we have belongs to one of the three extant elephant species (*L. africana*, *L. cyclotis*, and *E. maximus*)."
   ]
  },
  {
   "cell_type": "markdown",
   "metadata": {
    "hidden": true
   },
   "source": [
    "In that case the left-hand sides of these equations represent the probability that the elephant in question belongs to a given species.\n",
    "\n",
    "If we think of the species as our target, then **this is just an ordinary classification problem**."
   ]
  },
  {
   "cell_type": "markdown",
   "metadata": {
    "hidden": true
   },
   "source": [
    "What about the right-hand sides of the equations? **These other probabilities we can calculate from our dataset.**\n",
    "\n",
    "- The priors can simply be taken to be the percentages of the different classes in the dataset.\n",
    "- What about the likelihoods?\n",
    "    - If the relevant features are **categorical**, we can simply count the numbers of each category in the dataset. For example, if the features are whether the elephant has tusks or not, then, to calculate the likelihoods, we'll just count the tusked and non-tuksed elephants per species.\n",
    "    - If the relevant features are **numerical**, we'll have to do something else. A good way of proceeding is to rely on (presumed) underlying distributions of the data. [Here](https://medium.com/analytics-vidhya/use-naive-bayes-algorithm-for-categorical-and-numerical-data-classification-935d90ab273f) is an example of using the normal distribution to calculate likelihoods. We'll follow this idea below for our elephant data."
   ]
  },
  {
   "cell_type": "markdown",
   "metadata": {
    "heading_collapsed": true,
    "hidden": true
   },
   "source": [
    "## Elephant Example"
   ]
  },
  {
   "cell_type": "markdown",
   "metadata": {
    "hidden": true
   },
   "source": [
    "Suppose we have a dataset that looks like this:"
   ]
  },
  {
   "cell_type": "code",
   "execution_count": 7,
   "metadata": {
    "ExecuteTime": {
     "end_time": "2022-08-15T22:05:04.002543Z",
     "start_time": "2022-08-15T22:05:03.988520Z"
    },
    "hidden": true
   },
   "outputs": [],
   "source": [
    "elephs = pd.read_csv('data/elephants.csv', usecols=['height (cm)',\n",
    "                                                   'species'])"
   ]
  },
  {
   "cell_type": "code",
   "execution_count": 8,
   "metadata": {
    "ExecuteTime": {
     "end_time": "2022-08-15T22:05:04.018019Z",
     "start_time": "2022-08-15T22:05:04.005018Z"
    },
    "hidden": true
   },
   "outputs": [
    {
     "data": {
      "text/html": [
       "<div>\n",
       "<style scoped>\n",
       "    .dataframe tbody tr th:only-of-type {\n",
       "        vertical-align: middle;\n",
       "    }\n",
       "\n",
       "    .dataframe tbody tr th {\n",
       "        vertical-align: top;\n",
       "    }\n",
       "\n",
       "    .dataframe thead th {\n",
       "        text-align: right;\n",
       "    }\n",
       "</style>\n",
       "<table border=\"1\" class=\"dataframe\">\n",
       "  <thead>\n",
       "    <tr style=\"text-align: right;\">\n",
       "      <th></th>\n",
       "      <th>height (cm)</th>\n",
       "      <th>species</th>\n",
       "    </tr>\n",
       "  </thead>\n",
       "  <tbody>\n",
       "    <tr>\n",
       "      <th>0</th>\n",
       "      <td>231.683867</td>\n",
       "      <td>maximus</td>\n",
       "    </tr>\n",
       "    <tr>\n",
       "      <th>1</th>\n",
       "      <td>277.714843</td>\n",
       "      <td>cyclotis</td>\n",
       "    </tr>\n",
       "    <tr>\n",
       "      <th>2</th>\n",
       "      <td>268.228131</td>\n",
       "      <td>africana</td>\n",
       "    </tr>\n",
       "    <tr>\n",
       "      <th>3</th>\n",
       "      <td>267.334322</td>\n",
       "      <td>cyclotis</td>\n",
       "    </tr>\n",
       "    <tr>\n",
       "      <th>4</th>\n",
       "      <td>270.165582</td>\n",
       "      <td>maximus</td>\n",
       "    </tr>\n",
       "  </tbody>\n",
       "</table>\n",
       "</div>"
      ],
      "text/plain": [
       "   height (cm)   species\n",
       "0   231.683867   maximus\n",
       "1   277.714843  cyclotis\n",
       "2   268.228131  africana\n",
       "3   267.334322  cyclotis\n",
       "4   270.165582   maximus"
      ]
     },
     "execution_count": 8,
     "metadata": {},
     "output_type": "execute_result"
    }
   ],
   "source": [
    "elephs.head()"
   ]
  },
  {
   "cell_type": "code",
   "execution_count": 9,
   "metadata": {
    "ExecuteTime": {
     "end_time": "2022-08-15T22:05:04.033517Z",
     "start_time": "2022-08-15T22:05:04.019520Z"
    },
    "hidden": true
   },
   "outputs": [
    {
     "data": {
      "text/plain": [
       "(150, 2)"
      ]
     },
     "execution_count": 9,
     "metadata": {},
     "output_type": "execute_result"
    }
   ],
   "source": [
    "elephs.shape"
   ]
  },
  {
   "cell_type": "code",
   "execution_count": 10,
   "metadata": {
    "ExecuteTime": {
     "end_time": "2022-08-15T22:05:04.266017Z",
     "start_time": "2022-08-15T22:05:04.036017Z"
    },
    "hidden": true,
    "scrolled": true
   },
   "outputs": [
    {
     "data": {
      "image/png": "[encoded data removed]",
      "text/plain": [
       "<Figure size 432x288 with 1 Axes>"
      ]
     },
     "metadata": {},
     "output_type": "display_data"
    }
   ],
   "source": [
    "plt.style.use('fivethirtyeight')\n",
    "\n",
    "fig, ax = plt.subplots()\n",
    "\n",
    "sns.kdeplot(data=elephs[elephs['species'] == 'maximus']['height (cm)'],\n",
    "            ax=ax, label='maximus')\n",
    "sns.kdeplot(data=elephs[elephs['species'] == 'africana']['height (cm)'],\n",
    "            ax=ax, label='africana')\n",
    "sns.kdeplot(data=elephs[elephs['species'] == 'cyclotis']['height (cm)'],\n",
    "            ax=ax, label='cyclotis')\n",
    "\n",
    "plt.legend();"
   ]
  },
  {
   "cell_type": "markdown",
   "metadata": {
    "heading_collapsed": true,
    "hidden": true
   },
   "source": [
    "### Naive Bayes by Hand"
   ]
  },
  {
   "cell_type": "markdown",
   "metadata": {
    "hidden": true
   },
   "source": [
    "Let's first do a train-test split:"
   ]
  },
  {
   "cell_type": "code",
   "execution_count": 11,
   "metadata": {
    "ExecuteTime": {
     "end_time": "2022-08-15T22:05:04.281717Z",
     "start_time": "2022-08-15T22:05:04.268017Z"
    },
    "hidden": true
   },
   "outputs": [],
   "source": [
    "train, test = train_test_split(elephs, random_state=42)"
   ]
  },
  {
   "cell_type": "markdown",
   "metadata": {
    "hidden": true
   },
   "source": [
    "Suppose we want to make prediction of species for some new elephant whose height we've just recorded. We'll suppose the new elephant has a height of:"
   ]
  },
  {
   "cell_type": "code",
   "execution_count": 12,
   "metadata": {
    "ExecuteTime": {
     "end_time": "2022-08-15T22:05:04.297018Z",
     "start_time": "2022-08-15T22:05:04.283018Z"
    },
    "hidden": true
   },
   "outputs": [
    {
     "data": {
      "text/plain": [
       "271.97994435839485"
      ]
     },
     "execution_count": 12,
     "metadata": {},
     "output_type": "execute_result"
    }
   ],
   "source": [
    "test_pt = test.tail(1)\n",
    "new_ht = test_pt['height (cm)'].values[0]\n",
    "new_ht"
   ]
  },
  {
   "cell_type": "markdown",
   "metadata": {
    "hidden": true
   },
   "source": [
    "What we want to calculate is the mean and standard deviation for height for each elephant species in our training data. We'll use these to calculate the relevant likelihoods.\n",
    "\n",
    "So:"
   ]
  },
  {
   "cell_type": "code",
   "execution_count": 13,
   "metadata": {
    "ExecuteTime": {
     "end_time": "2022-08-15T22:05:04.312518Z",
     "start_time": "2022-08-15T22:05:04.298518Z"
    },
    "hidden": true
   },
   "outputs": [
    {
     "data": {
      "text/html": [
       "<div>\n",
       "<style scoped>\n",
       "    .dataframe tbody tr th:only-of-type {\n",
       "        vertical-align: middle;\n",
       "    }\n",
       "\n",
       "    .dataframe tbody tr th {\n",
       "        vertical-align: top;\n",
       "    }\n",
       "\n",
       "    .dataframe thead th {\n",
       "        text-align: right;\n",
       "    }\n",
       "</style>\n",
       "<table border=\"1\" class=\"dataframe\">\n",
       "  <thead>\n",
       "    <tr style=\"text-align: right;\">\n",
       "      <th></th>\n",
       "      <th>height (cm)</th>\n",
       "    </tr>\n",
       "  </thead>\n",
       "  <tbody>\n",
       "    <tr>\n",
       "      <th>mean</th>\n",
       "      <td>256.759730</td>\n",
       "    </tr>\n",
       "    <tr>\n",
       "      <th>std</th>\n",
       "      <td>19.310858</td>\n",
       "    </tr>\n",
       "  </tbody>\n",
       "</table>\n",
       "</div>"
      ],
      "text/plain": [
       "      height (cm)\n",
       "mean   256.759730\n",
       "std     19.310858"
      ]
     },
     "execution_count": 13,
     "metadata": {},
     "output_type": "execute_result"
    }
   ],
   "source": [
    "max_stats = train[train['species'] == 'maximus'].describe().loc[['mean', 'std'], :]\n",
    "max_stats"
   ]
  },
  {
   "cell_type": "code",
   "execution_count": 14,
   "metadata": {
    "ExecuteTime": {
     "end_time": "2022-08-15T22:05:04.328154Z",
     "start_time": "2022-08-15T22:05:04.314018Z"
    },
    "hidden": true
   },
   "outputs": [
    {
     "data": {
      "text/html": [
       "<div>\n",
       "<style scoped>\n",
       "    .dataframe tbody tr th:only-of-type {\n",
       "        vertical-align: middle;\n",
       "    }\n",
       "\n",
       "    .dataframe tbody tr th {\n",
       "        vertical-align: top;\n",
       "    }\n",
       "\n",
       "    .dataframe thead th {\n",
       "        text-align: right;\n",
       "    }\n",
       "</style>\n",
       "<table border=\"1\" class=\"dataframe\">\n",
       "  <thead>\n",
       "    <tr style=\"text-align: right;\">\n",
       "      <th></th>\n",
       "      <th>height (cm)</th>\n",
       "    </tr>\n",
       "  </thead>\n",
       "  <tbody>\n",
       "    <tr>\n",
       "      <th>mean</th>\n",
       "      <td>280.66868</td>\n",
       "    </tr>\n",
       "    <tr>\n",
       "      <th>std</th>\n",
       "      <td>13.88397</td>\n",
       "    </tr>\n",
       "  </tbody>\n",
       "</table>\n",
       "</div>"
      ],
      "text/plain": [
       "      height (cm)\n",
       "mean    280.66868\n",
       "std      13.88397"
      ]
     },
     "execution_count": 14,
     "metadata": {},
     "output_type": "execute_result"
    }
   ],
   "source": [
    "cyc_stats = train[train['species'] == 'cyclotis'].describe().loc[['mean', 'std'], :]\n",
    "cyc_stats"
   ]
  },
  {
   "cell_type": "code",
   "execution_count": 15,
   "metadata": {
    "ExecuteTime": {
     "end_time": "2022-08-15T22:05:04.343518Z",
     "start_time": "2022-08-15T22:05:04.330021Z"
    },
    "hidden": true
   },
   "outputs": [
    {
     "data": {
      "text/html": [
       "<div>\n",
       "<style scoped>\n",
       "    .dataframe tbody tr th:only-of-type {\n",
       "        vertical-align: middle;\n",
       "    }\n",
       "\n",
       "    .dataframe tbody tr th {\n",
       "        vertical-align: top;\n",
       "    }\n",
       "\n",
       "    .dataframe thead th {\n",
       "        text-align: right;\n",
       "    }\n",
       "</style>\n",
       "<table border=\"1\" class=\"dataframe\">\n",
       "  <thead>\n",
       "    <tr style=\"text-align: right;\">\n",
       "      <th></th>\n",
       "      <th>height (cm)</th>\n",
       "    </tr>\n",
       "  </thead>\n",
       "  <tbody>\n",
       "    <tr>\n",
       "      <th>mean</th>\n",
       "      <td>287.361523</td>\n",
       "    </tr>\n",
       "    <tr>\n",
       "      <th>std</th>\n",
       "      <td>15.803853</td>\n",
       "    </tr>\n",
       "  </tbody>\n",
       "</table>\n",
       "</div>"
      ],
      "text/plain": [
       "      height (cm)\n",
       "mean   287.361523\n",
       "std     15.803853"
      ]
     },
     "execution_count": 15,
     "metadata": {},
     "output_type": "execute_result"
    }
   ],
   "source": [
    "afr_stats = train[train['species'] == 'africana'].describe().loc[['mean', 'std'], :]\n",
    "afr_stats"
   ]
  },
  {
   "cell_type": "markdown",
   "metadata": {
    "hidden": true
   },
   "source": [
    "$Posterior = \\frac{Likelihood * Prior}{Marginalization}$"
   ]
  },
  {
   "cell_type": "markdown",
   "metadata": {
    "heading_collapsed": true,
    "hidden": true
   },
   "source": [
    "### Priors"
   ]
  },
  {
   "cell_type": "markdown",
   "metadata": {
    "hidden": true
   },
   "source": [
    "The priors we just take directly from the distribution in our data:"
   ]
  },
  {
   "cell_type": "code",
   "execution_count": 16,
   "metadata": {
    "ExecuteTime": {
     "end_time": "2022-08-15T22:05:04.359018Z",
     "start_time": "2022-08-15T22:05:04.345018Z"
    },
    "hidden": true
   },
   "outputs": [
    {
     "data": {
      "text/plain": [
       "maximus     39\n",
       "cyclotis    39\n",
       "africana    34\n",
       "Name: species, dtype: int64"
      ]
     },
     "execution_count": 16,
     "metadata": {},
     "output_type": "execute_result"
    }
   ],
   "source": [
    "train['species'].value_counts()"
   ]
  },
  {
   "cell_type": "code",
   "execution_count": 17,
   "metadata": {
    "ExecuteTime": {
     "end_time": "2022-08-15T22:05:04.374518Z",
     "start_time": "2022-08-15T22:05:04.360519Z"
    },
    "hidden": true
   },
   "outputs": [],
   "source": [
    "max_prior = len(train[ train['species'] == 'maximus']) / len(train)"
   ]
  },
  {
   "cell_type": "code",
   "execution_count": 18,
   "metadata": {
    "ExecuteTime": {
     "end_time": "2022-08-15T22:05:04.390127Z",
     "start_time": "2022-08-15T22:05:04.376018Z"
    },
    "hidden": true
   },
   "outputs": [],
   "source": [
    "cyc_prior = len(train[ train['species'] == 'cyclotis']) / len(train)"
   ]
  },
  {
   "cell_type": "code",
   "execution_count": 19,
   "metadata": {
    "ExecuteTime": {
     "end_time": "2022-08-15T22:05:04.405517Z",
     "start_time": "2022-08-15T22:05:04.392019Z"
    },
    "hidden": true
   },
   "outputs": [],
   "source": [
    "afr_prior = len(train[ train['species'] == 'africana']) / len(train)"
   ]
  },
  {
   "cell_type": "markdown",
   "metadata": {
    "heading_collapsed": true,
    "hidden": true
   },
   "source": [
    "### Calculation of Likelihoods"
   ]
  },
  {
   "cell_type": "markdown",
   "metadata": {
    "hidden": true
   },
   "source": [
    "We'll use the PDFs of the normal distributions with the discovered means and standard deviations to calculate likelihoods:"
   ]
  },
  {
   "cell_type": "code",
   "execution_count": 20,
   "metadata": {
    "ExecuteTime": {
     "end_time": "2022-08-15T22:05:04.421147Z",
     "start_time": "2022-08-15T22:05:04.407018Z"
    },
    "hidden": true
   },
   "outputs": [
    {
     "data": {
      "text/plain": [
       "0.015143088932356306"
      ]
     },
     "execution_count": 20,
     "metadata": {},
     "output_type": "execute_result"
    }
   ],
   "source": [
    "max_likelihood = stats.norm(loc=max_stats['height (cm)'][0],\n",
    "           scale=max_stats['height (cm)'][1]).pdf(new_ht)\n",
    "max_likelihood"
   ]
  },
  {
   "cell_type": "code",
   "execution_count": 21,
   "metadata": {
    "ExecuteTime": {
     "end_time": "2022-08-15T22:05:04.436546Z",
     "start_time": "2022-08-15T22:05:04.422518Z"
    },
    "hidden": true
   },
   "outputs": [
    {
     "data": {
      "text/plain": [
       "0.023623980768351323"
      ]
     },
     "execution_count": 21,
     "metadata": {},
     "output_type": "execute_result"
    }
   ],
   "source": [
    "cyc_likelihood = stats.norm(loc=cyc_stats['height (cm)'][0],\n",
    "          scale=cyc_stats['height (cm)'][1]).pdf(new_ht)\n",
    "cyc_likelihood"
   ]
  },
  {
   "cell_type": "code",
   "execution_count": 22,
   "metadata": {
    "ExecuteTime": {
     "end_time": "2022-08-15T22:05:04.452043Z",
     "start_time": "2022-08-15T22:05:04.438019Z"
    },
    "hidden": true
   },
   "outputs": [
    {
     "data": {
      "text/plain": [
       "0.01571987272482136"
      ]
     },
     "execution_count": 22,
     "metadata": {},
     "output_type": "execute_result"
    }
   ],
   "source": [
    "afr_likelihood = stats.norm(loc=afr_stats['height (cm)'][0],\n",
    "          scale=afr_stats['height (cm)'][1]).pdf(new_ht)\n",
    "afr_likelihood"
   ]
  },
  {
   "cell_type": "markdown",
   "metadata": {
    "heading_collapsed": true,
    "hidden": true
   },
   "source": [
    "### Posteriors"
   ]
  },
  {
   "cell_type": "markdown",
   "metadata": {
    "hidden": true
   },
   "source": [
    "What we have just calculated are (approximations of) the likelihoods, i.e.:\n",
    "\n",
    "- $P(height=263 | species=maximus) = 1.51\\%$\n",
    "- $P(height=263 | species=cyclotis) = 2.36\\%$\n",
    "- $P(height=263 | species=africana) = 1.57\\%$"
   ]
  },
  {
   "cell_type": "markdown",
   "metadata": {
    "hidden": true
   },
   "source": [
    "(Notice that they do NOT sum to 1!) But what we'd really like to know are the posteriors. I.e. what are:\n",
    "\n",
    "- $P(species=maximus | height=263)$?\n",
    "- $P(species=cyclotis | height=263)$?\n",
    "- $P(species=africana | height=263)$?"
   ]
  },
  {
   "cell_type": "markdown",
   "metadata": {
    "hidden": true
   },
   "source": [
    "To get these we can simply apply Bayes's Theorem! Now our priors (based on our training data) are $\\frac{39}{112}$ for both maximus and cyclotis and $\\frac{34}{112}$ for africana.\n",
    "\n",
    "So we can calculate the probability of the evidence (the denominator in Bayes's Theorem) as:\n",
    "\n",
    "$P(height=263) = \\frac{39}{112}(0.0151 + 0.0236) + \\frac{34}{112}(0.0157) = 0.0183$"
   ]
  },
  {
   "cell_type": "code",
   "execution_count": 23,
   "metadata": {
    "ExecuteTime": {
     "end_time": "2022-08-15T22:05:04.467693Z",
     "start_time": "2022-08-15T22:05:04.453518Z"
    },
    "hidden": true
   },
   "outputs": [
    {
     "data": {
      "text/plain": [
       "0.018271351705102887"
      ]
     },
     "execution_count": 23,
     "metadata": {},
     "output_type": "execute_result"
    }
   ],
   "source": [
    "prob_evidence = (max_prior * max_likelihood) + (cyc_prior * cyc_likelihood) + (afr_prior * afr_likelihood)\n",
    "prob_evidence"
   ]
  },
  {
   "cell_type": "markdown",
   "metadata": {
    "hidden": true
   },
   "source": [
    "And therefore calculate the posteriors using Bayes's Theorem:\n",
    "\n",
    "- $P(species=maximus | height=263) = \\frac{39}{112}\\frac{0.0151}{0.0183} = 28.9\\%$;\n",
    "- $P(species=cyclotis | height=263) = \\frac{39}{112}\\frac{0.0236}{0.0183} = 45.0\\%$;\n",
    "- $P(species=africana | height=263) = \\frac{34}{112}\\frac{0.0157}{0.0183} = 26.1\\%$."
   ]
  },
  {
   "cell_type": "code",
   "execution_count": 24,
   "metadata": {
    "ExecuteTime": {
     "end_time": "2022-08-15T22:05:04.483131Z",
     "start_time": "2022-08-15T22:05:04.468519Z"
    },
    "hidden": true
   },
   "outputs": [
    {
     "name": "stdout",
     "output_type": "stream",
     "text": [
      "0.2885960481301273\n",
      "0.4502243578772573\n",
      "0.2611795939926155\n"
     ]
    }
   ],
   "source": [
    "print(max_prior * max_likelihood / prob_evidence)\n",
    "print(cyc_prior * cyc_likelihood / prob_evidence)\n",
    "print(afr_prior * afr_likelihood / prob_evidence)"
   ]
  },
  {
   "cell_type": "code",
   "execution_count": 25,
   "metadata": {
    "ExecuteTime": {
     "end_time": "2022-08-15T22:05:04.498688Z",
     "start_time": "2022-08-15T22:05:04.486553Z"
    },
    "hidden": true
   },
   "outputs": [
    {
     "data": {
      "text/plain": [
       "1.0"
      ]
     },
     "execution_count": 25,
     "metadata": {},
     "output_type": "execute_result"
    }
   ],
   "source": [
    "(max_prior * max_likelihood / prob_evidence) + (cyc_prior * cyc_likelihood / prob_evidence) +(afr_prior * afr_likelihood / prob_evidence)"
   ]
  },
  {
   "cell_type": "markdown",
   "metadata": {
    "hidden": true
   },
   "source": [
    "Bayes's Theorem shows us that the largest posterior belongs to the *cyclotis* species.\n",
    "\n",
    "Therefore, **the *cyclotis* species will be our prediction** for an elephant of this height."
   ]
  },
  {
   "cell_type": "markdown",
   "metadata": {
    "hidden": true
   },
   "source": [
    "Is that prediction correct? Let's check!"
   ]
  },
  {
   "cell_type": "code",
   "execution_count": 26,
   "metadata": {
    "ExecuteTime": {
     "end_time": "2022-08-15T22:05:04.514144Z",
     "start_time": "2022-08-15T22:05:04.500518Z"
    },
    "hidden": true,
    "scrolled": true
   },
   "outputs": [
    {
     "data": {
      "text/plain": [
       "27    africana\n",
       "Name: species, dtype: object"
      ]
     },
     "execution_count": 26,
     "metadata": {},
     "output_type": "execute_result"
    }
   ],
   "source": [
    "test_pt['species']"
   ]
  },
  {
   "cell_type": "markdown",
   "metadata": {
    "hidden": true
   },
   "source": [
    "Turns out we were dealing with a shorter-than-average member of the *africana* species rather than a more typical member of the *cyclotis* species.\n",
    "\n",
    "Let's see if we can get a better model by adding more complexity!"
   ]
  },
  {
   "cell_type": "markdown",
   "metadata": {
    "heading_collapsed": true,
    "hidden": true
   },
   "source": [
    "### More Dimensions"
   ]
  },
  {
   "cell_type": "markdown",
   "metadata": {
    "hidden": true
   },
   "source": [
    "In fact, we also have elephant *weight* data available in addition to their heights. To accommodate multiple features we can make use of **multivariate normal** distributions."
   ]
  },
  {
   "cell_type": "markdown",
   "metadata": {
    "hidden": true
   },
   "source": [
    "![multivariate-normal](https://upload.wikimedia.org/wikipedia/commons/thumb/8/8e/MultivariateNormal.png/440px-MultivariateNormal.png)"
   ]
  },
  {
   "cell_type": "markdown",
   "metadata": {
    "heading_collapsed": true,
    "hidden": true
   },
   "source": [
    "#### What's \"Naive\" about This?"
   ]
  },
  {
   "cell_type": "markdown",
   "metadata": {
    "hidden": true
   },
   "source": [
    "For multiple predictors, we make the simplifying assumption that **our predictors are probablistically independent**. This will often be unrealistic, but it simplifies our calculations a great deal."
   ]
  },
  {
   "cell_type": "code",
   "execution_count": 27,
   "metadata": {
    "ExecuteTime": {
     "end_time": "2022-08-15T22:05:04.622517Z",
     "start_time": "2022-08-15T22:05:04.515019Z"
    },
    "hidden": true
   },
   "outputs": [],
   "source": [
    "elephants = pd.read_csv('data/elephants.csv',\n",
    "                       usecols=['height (cm)', 'weight (lbs)', 'species'])"
   ]
  },
  {
   "cell_type": "code",
   "execution_count": 28,
   "metadata": {
    "ExecuteTime": {
     "end_time": "2022-08-15T22:05:04.638139Z",
     "start_time": "2022-08-15T22:05:04.624017Z"
    },
    "hidden": true
   },
   "outputs": [
    {
     "data": {
      "text/html": [
       "<div>\n",
       "<style scoped>\n",
       "    .dataframe tbody tr th:only-of-type {\n",
       "        vertical-align: middle;\n",
       "    }\n",
       "\n",
       "    .dataframe tbody tr th {\n",
       "        vertical-align: top;\n",
       "    }\n",
       "\n",
       "    .dataframe thead th {\n",
       "        text-align: right;\n",
       "    }\n",
       "</style>\n",
       "<table border=\"1\" class=\"dataframe\">\n",
       "  <thead>\n",
       "    <tr style=\"text-align: right;\">\n",
       "      <th></th>\n",
       "      <th>height (cm)</th>\n",
       "      <th>weight (lbs)</th>\n",
       "      <th>species</th>\n",
       "    </tr>\n",
       "  </thead>\n",
       "  <tbody>\n",
       "    <tr>\n",
       "      <th>0</th>\n",
       "      <td>231.683867</td>\n",
       "      <td>6469.491895</td>\n",
       "      <td>maximus</td>\n",
       "    </tr>\n",
       "    <tr>\n",
       "      <th>1</th>\n",
       "      <td>277.714843</td>\n",
       "      <td>7639.806953</td>\n",
       "      <td>cyclotis</td>\n",
       "    </tr>\n",
       "    <tr>\n",
       "      <th>2</th>\n",
       "      <td>268.228131</td>\n",
       "      <td>8561.517693</td>\n",
       "      <td>africana</td>\n",
       "    </tr>\n",
       "    <tr>\n",
       "      <th>3</th>\n",
       "      <td>267.334322</td>\n",
       "      <td>7673.608014</td>\n",
       "      <td>cyclotis</td>\n",
       "    </tr>\n",
       "    <tr>\n",
       "      <th>4</th>\n",
       "      <td>270.165582</td>\n",
       "      <td>7259.901759</td>\n",
       "      <td>maximus</td>\n",
       "    </tr>\n",
       "  </tbody>\n",
       "</table>\n",
       "</div>"
      ],
      "text/plain": [
       "   height (cm)  weight (lbs)   species\n",
       "0   231.683867   6469.491895   maximus\n",
       "1   277.714843   7639.806953  cyclotis\n",
       "2   268.228131   8561.517693  africana\n",
       "3   267.334322   7673.608014  cyclotis\n",
       "4   270.165582   7259.901759   maximus"
      ]
     },
     "execution_count": 28,
     "metadata": {},
     "output_type": "execute_result"
    }
   ],
   "source": [
    "elephants.head()"
   ]
  },
  {
   "cell_type": "code",
   "execution_count": 29,
   "metadata": {
    "ExecuteTime": {
     "end_time": "2022-08-15T22:05:04.653542Z",
     "start_time": "2022-08-15T22:05:04.639519Z"
    },
    "hidden": true
   },
   "outputs": [],
   "source": [
    "two_dim_train, two_dim_test = train_test_split(elephants, random_state=42)"
   ]
  },
  {
   "cell_type": "code",
   "execution_count": 30,
   "metadata": {
    "ExecuteTime": {
     "end_time": "2022-08-15T22:05:04.669045Z",
     "start_time": "2022-08-15T22:05:04.655519Z"
    },
    "hidden": true
   },
   "outputs": [],
   "source": [
    "maximus = two_dim_train[two_dim_train['species'] == 'maximus']\n",
    "cyclotis = two_dim_train[two_dim_train['species'] == 'cyclotis']\n",
    "africana = two_dim_train[two_dim_train['species'] == 'africana']"
   ]
  },
  {
   "cell_type": "markdown",
   "metadata": {
    "hidden": true
   },
   "source": [
    "Suppose our new elephant with a height of 272 cm also has a weight of 8590 lbs."
   ]
  },
  {
   "cell_type": "code",
   "execution_count": 31,
   "metadata": {
    "ExecuteTime": {
     "end_time": "2022-08-15T22:05:04.684542Z",
     "start_time": "2022-08-15T22:05:04.670519Z"
    },
    "hidden": true
   },
   "outputs": [
    {
     "data": {
      "text/plain": [
       "(271.97994435839485, 8589.730878685596)"
      ]
     },
     "execution_count": 31,
     "metadata": {},
     "output_type": "execute_result"
    }
   ],
   "source": [
    "test_pt_2 = two_dim_test.tail(1)\n",
    "\n",
    "test_ht, test_wt = test_pt_2['height (cm)'].values[0], test_pt_2['weight (lbs)'].values[0]\n",
    "test_ht, test_wt"
   ]
  },
  {
   "cell_type": "markdown",
   "metadata": {
    "heading_collapsed": true,
    "hidden": true
   },
   "source": [
    "#### Priors"
   ]
  },
  {
   "cell_type": "code",
   "execution_count": 32,
   "metadata": {
    "ExecuteTime": {
     "end_time": "2022-08-15T22:05:04.700138Z",
     "start_time": "2022-08-15T22:05:04.686022Z"
    },
    "hidden": true
   },
   "outputs": [
    {
     "data": {
      "text/plain": [
       "maximus     39\n",
       "cyclotis    39\n",
       "africana    34\n",
       "Name: species, dtype: int64"
      ]
     },
     "execution_count": 32,
     "metadata": {},
     "output_type": "execute_result"
    }
   ],
   "source": [
    "two_dim_train['species'].value_counts()"
   ]
  },
  {
   "cell_type": "code",
   "execution_count": 33,
   "metadata": {
    "ExecuteTime": {
     "end_time": "2022-08-15T22:05:04.715547Z",
     "start_time": "2022-08-15T22:05:04.701518Z"
    },
    "hidden": true
   },
   "outputs": [],
   "source": [
    "max__prior = len(train[ train['species'] == 'maximus']) / len(train)"
   ]
  },
  {
   "cell_type": "code",
   "execution_count": 34,
   "metadata": {
    "ExecuteTime": {
     "end_time": "2022-08-15T22:05:04.731048Z",
     "start_time": "2022-08-15T22:05:04.717518Z"
    },
    "hidden": true
   },
   "outputs": [],
   "source": [
    "cyc_prior = len(train[ train['species'] == 'cyclotis']) / len(train)"
   ]
  },
  {
   "cell_type": "code",
   "execution_count": 35,
   "metadata": {
    "ExecuteTime": {
     "end_time": "2022-08-15T22:05:04.746518Z",
     "start_time": "2022-08-15T22:05:04.732518Z"
    },
    "hidden": true
   },
   "outputs": [],
   "source": [
    "afr_prior = len(train[ train['species'] == 'africana']) / len(train)"
   ]
  },
  {
   "cell_type": "markdown",
   "metadata": {
    "heading_collapsed": true,
    "hidden": true
   },
   "source": [
    "#### Likelihoods"
   ]
  },
  {
   "cell_type": "code",
   "execution_count": 36,
   "metadata": {
    "ExecuteTime": {
     "end_time": "2022-08-15T22:05:04.762018Z",
     "start_time": "2022-08-15T22:05:04.748018Z"
    },
    "hidden": true
   },
   "outputs": [
    {
     "name": "stderr",
     "output_type": "stream",
     "text": [
      "C:\\Users\\alvaro\\AppData\\Local\\Temp\\ipykernel_18708\\4121922685.py:1: FutureWarning: Dropping of nuisance columns in DataFrame reductions (with 'numeric_only=None') is deprecated; in a future version this will raise TypeError.  Select only valid columns before calling the reduction.\n",
      "  likeli_max = stats.multivariate_normal(mean=maximus.mean(),\n"
     ]
    },
    {
     "data": {
      "text/plain": [
       "4.895550119031046e-09"
      ]
     },
     "execution_count": 36,
     "metadata": {},
     "output_type": "execute_result"
    }
   ],
   "source": [
    "likeli_max = stats.multivariate_normal(mean=maximus.mean(),\n",
    "                          cov=maximus.cov()).pdf([test_ht, test_wt])\n",
    "likeli_max"
   ]
  },
  {
   "cell_type": "code",
   "execution_count": 37,
   "metadata": {
    "ExecuteTime": {
     "end_time": "2022-08-15T22:05:04.777659Z",
     "start_time": "2022-08-15T22:05:04.764018Z"
    },
    "hidden": true
   },
   "outputs": [
    {
     "name": "stderr",
     "output_type": "stream",
     "text": [
      "C:\\Users\\alvaro\\AppData\\Local\\Temp\\ipykernel_18708\\621890348.py:1: FutureWarning: Dropping of nuisance columns in DataFrame reductions (with 'numeric_only=None') is deprecated; in a future version this will raise TypeError.  Select only valid columns before calling the reduction.\n",
      "  likeli_cyc = stats.multivariate_normal(mean=cyclotis.mean(),\n"
     ]
    },
    {
     "data": {
      "text/plain": [
       "3.198475540986167e-06"
      ]
     },
     "execution_count": 37,
     "metadata": {},
     "output_type": "execute_result"
    }
   ],
   "source": [
    "likeli_cyc = stats.multivariate_normal(mean=cyclotis.mean(),\n",
    "                         cov=cyclotis.cov()).pdf([test_ht, test_wt])\n",
    "likeli_cyc"
   ]
  },
  {
   "cell_type": "code",
   "execution_count": 38,
   "metadata": {
    "ExecuteTime": {
     "end_time": "2022-08-15T22:05:04.793160Z",
     "start_time": "2022-08-15T22:05:04.779019Z"
    },
    "hidden": true
   },
   "outputs": [
    {
     "name": "stderr",
     "output_type": "stream",
     "text": [
      "C:\\Users\\alvaro\\AppData\\Local\\Temp\\ipykernel_18708\\1391003111.py:1: FutureWarning: Dropping of nuisance columns in DataFrame reductions (with 'numeric_only=None') is deprecated; in a future version this will raise TypeError.  Select only valid columns before calling the reduction.\n",
      "  likeli_afr = stats.multivariate_normal(mean=africana.mean(),\n"
     ]
    },
    {
     "data": {
      "text/plain": [
       "1.2268970581337162e-05"
      ]
     },
     "execution_count": 38,
     "metadata": {},
     "output_type": "execute_result"
    }
   ],
   "source": [
    "likeli_afr = stats.multivariate_normal(mean=africana.mean(),\n",
    "                         cov=africana.cov()).pdf([test_ht, test_wt])\n",
    "likeli_afr"
   ]
  },
  {
   "cell_type": "markdown",
   "metadata": {
    "heading_collapsed": true,
    "hidden": true
   },
   "source": [
    "#### Posteriors"
   ]
  },
  {
   "cell_type": "code",
   "execution_count": 39,
   "metadata": {
    "ExecuteTime": {
     "end_time": "2022-08-15T22:05:04.808659Z",
     "start_time": "2022-08-15T22:05:04.794517Z"
    },
    "hidden": true
   },
   "outputs": [
    {
     "name": "stdout",
     "output_type": "stream",
     "text": [
      "0.00031640654159999996\n",
      "0.20672213739197223\n",
      "0.7929614560664278\n"
     ]
    }
   ],
   "source": [
    "post_max = likeli_max / sum([likeli_max, likeli_cyc, likeli_afr])\n",
    "post_cyc = likeli_cyc / sum([likeli_max, likeli_cyc, likeli_afr])\n",
    "post_afr = likeli_afr / sum([likeli_max, likeli_cyc, likeli_afr])\n",
    "\n",
    "print(post_max)\n",
    "print(post_cyc)\n",
    "print(post_afr)"
   ]
  },
  {
   "cell_type": "markdown",
   "metadata": {
    "heading_collapsed": true,
    "hidden": true
   },
   "source": [
    "### [`GaussianNB`](https://scikit-learn.org/stable/modules/generated/sklearn.naive_bayes.GaussianNB.html)"
   ]
  },
  {
   "cell_type": "code",
   "execution_count": 40,
   "metadata": {
    "ExecuteTime": {
     "end_time": "2022-08-15T22:05:04.824018Z",
     "start_time": "2022-08-15T22:05:04.810018Z"
    },
    "hidden": true
   },
   "outputs": [],
   "source": [
    "# Note that this sets priors based on the training data\n",
    "# distribution by default!\n",
    "from sklearn.naive_bayes import MultinomialNB, GaussianNB\n",
    "gnb = GaussianNB()"
   ]
  },
  {
   "cell_type": "code",
   "execution_count": 41,
   "metadata": {
    "ExecuteTime": {
     "end_time": "2022-08-15T22:05:04.839518Z",
     "start_time": "2022-08-15T22:05:04.826518Z"
    },
    "hidden": true
   },
   "outputs": [],
   "source": [
    "X = two_dim_train.drop('species', axis=1)\n",
    "y = two_dim_train['species']"
   ]
  },
  {
   "cell_type": "code",
   "execution_count": 42,
   "metadata": {
    "ExecuteTime": {
     "end_time": "2022-08-15T22:05:04.855018Z",
     "start_time": "2022-08-15T22:05:04.842020Z"
    },
    "hidden": true
   },
   "outputs": [
    {
     "data": {
      "text/html": [
       "<style>#sk-container-id-1 {color: black;background-color: white;}#sk-container-id-1 pre{padding: 0;}#sk-container-id-1 div.sk-toggleable {background-color: white;}#sk-container-id-1 label.sk-toggleable__label {cursor: pointer;display: block;width: 100%;margin-bottom: 0;padding: 0.3em;box-sizing: border-box;text-align: center;}#sk-container-id-1 label.sk-toggleable__label-arrow:before {content: \"▸\";float: left;margin-right: 0.25em;color: #696969;}#sk-container-id-1 label.sk-toggleable__label-arrow:hover:before {color: black;}#sk-container-id-1 div.sk-estimator:hover label.sk-toggleable__label-arrow:before {color: black;}#sk-container-id-1 div.sk-toggleable__content {max-height: 0;max-width: 0;overflow: hidden;text-align: left;background-color: #f0f8ff;}#sk-container-id-1 div.sk-toggleable__content pre {margin: 0.2em;color: black;border-radius: 0.25em;background-color: #f0f8ff;}#sk-container-id-1 input.sk-toggleable__control:checked~div.sk-toggleable__content {max-height: 200px;max-width: 100%;overflow: auto;}#sk-container-id-1 input.sk-toggleable__control:checked~label.sk-toggleable__label-arrow:before {content: \"▾\";}#sk-container-id-1 div.sk-estimator input.sk-toggleable__control:checked~label.sk-toggleable__label {background-color: #d4ebff;}#sk-container-id-1 div.sk-label input.sk-toggleable__control:checked~label.sk-toggleable__label {background-color: #d4ebff;}#sk-container-id-1 input.sk-hidden--visually {border: 0;clip: rect(1px 1px 1px 1px);clip: rect(1px, 1px, 1px, 1px);height: 1px;margin: -1px;overflow: hidden;padding: 0;position: absolute;width: 1px;}#sk-container-id-1 div.sk-estimator {font-family: monospace;background-color: #f0f8ff;border: 1px dotted black;border-radius: 0.25em;box-sizing: border-box;margin-bottom: 0.5em;}#sk-container-id-1 div.sk-estimator:hover {background-color: #d4ebff;}#sk-container-id-1 div.sk-parallel-item::after {content: \"\";width: 100%;border-bottom: 1px solid gray;flex-grow: 1;}#sk-container-id-1 div.sk-label:hover label.sk-toggleable__label {background-color: #d4ebff;}#sk-container-id-1 div.sk-serial::before {content: \"\";position: absolute;border-left: 1px solid gray;box-sizing: border-box;top: 0;bottom: 0;left: 50%;z-index: 0;}#sk-container-id-1 div.sk-serial {display: flex;flex-direction: column;align-items: center;background-color: white;padding-right: 0.2em;padding-left: 0.2em;position: relative;}#sk-container-id-1 div.sk-item {position: relative;z-index: 1;}#sk-container-id-1 div.sk-parallel {display: flex;align-items: stretch;justify-content: center;background-color: white;position: relative;}#sk-container-id-1 div.sk-item::before, #sk-container-id-1 div.sk-parallel-item::before {content: \"\";position: absolute;border-left: 1px solid gray;box-sizing: border-box;top: 0;bottom: 0;left: 50%;z-index: -1;}#sk-container-id-1 div.sk-parallel-item {display: flex;flex-direction: column;z-index: 1;position: relative;background-color: white;}#sk-container-id-1 div.sk-parallel-item:first-child::after {align-self: flex-end;width: 50%;}#sk-container-id-1 div.sk-parallel-item:last-child::after {align-self: flex-start;width: 50%;}#sk-container-id-1 div.sk-parallel-item:only-child::after {width: 0;}#sk-container-id-1 div.sk-dashed-wrapped {border: 1px dashed gray;margin: 0 0.4em 0.5em 0.4em;box-sizing: border-box;padding-bottom: 0.4em;background-color: white;}#sk-container-id-1 div.sk-label label {font-family: monospace;font-weight: bold;display: inline-block;line-height: 1.2em;}#sk-container-id-1 div.sk-label-container {text-align: center;}#sk-container-id-1 div.sk-container {/* jupyter's `normalize.less` sets `[hidden] { display: none; }` but bootstrap.min.css set `[hidden] { display: none !important; }` so we also need the `!important` here to be able to override the default hidden behavior on the sphinx rendered scikit-learn.org. See: https://github.com/scikit-learn/scikit-learn/issues/21755 */display: inline-block !important;position: relative;}#sk-container-id-1 div.sk-text-repr-fallback {display: none;}</style><div id=\"sk-container-id-1\" class=\"sk-top-container\"><div class=\"sk-text-repr-fallback\"><pre>GaussianNB()</pre><b>In a Jupyter environment, please rerun this cell to show the HTML representation or trust the notebook. <br />On GitHub, the HTML representation is unable to render, please try loading this page with nbviewer.org.</b></div><div class=\"sk-container\" hidden><div class=\"sk-item\"><div class=\"sk-estimator sk-toggleable\"><input class=\"sk-toggleable__control sk-hidden--visually\" id=\"sk-estimator-id-1\" type=\"checkbox\" checked><label for=\"sk-estimator-id-1\" class=\"sk-toggleable__label sk-toggleable__label-arrow\">GaussianNB</label><div class=\"sk-toggleable__content\"><pre>GaussianNB()</pre></div></div></div></div></div>"
      ],
      "text/plain": [
       "GaussianNB()"
      ]
     },
     "execution_count": 42,
     "metadata": {},
     "output_type": "execute_result"
    }
   ],
   "source": [
    "gnb.fit(X, y)"
   ]
  },
  {
   "cell_type": "code",
   "execution_count": 43,
   "metadata": {
    "ExecuteTime": {
     "end_time": "2022-08-15T22:05:04.870520Z",
     "start_time": "2022-08-15T22:05:04.856518Z"
    },
    "hidden": true
   },
   "outputs": [
    {
     "name": "stderr",
     "output_type": "stream",
     "text": [
      "C:\\Users\\alvaro\\anaconda3\\lib\\site-packages\\sklearn\\base.py:450: UserWarning: X does not have valid feature names, but GaussianNB was fitted with feature names\n",
      "  warnings.warn(\n"
     ]
    },
    {
     "data": {
      "text/plain": [
       "array([[7.71114574e-01, 2.28678233e-01, 2.07192909e-04]])"
      ]
     },
     "execution_count": 43,
     "metadata": {},
     "output_type": "execute_result"
    }
   ],
   "source": [
    "gnb.predict_proba(np.array([test_ht, test_wt]).reshape(1, -1))"
   ]
  },
  {
   "cell_type": "markdown",
   "metadata": {
    "hidden": true
   },
   "source": [
    "Did we get it right this time?"
   ]
  },
  {
   "cell_type": "code",
   "execution_count": 44,
   "metadata": {
    "ExecuteTime": {
     "end_time": "2022-08-15T22:05:04.886018Z",
     "start_time": "2022-08-15T22:05:04.872018Z"
    },
    "hidden": true
   },
   "outputs": [
    {
     "name": "stderr",
     "output_type": "stream",
     "text": [
      "C:\\Users\\alvaro\\anaconda3\\lib\\site-packages\\sklearn\\base.py:450: UserWarning: X does not have valid feature names, but GaussianNB was fitted with feature names\n",
      "  warnings.warn(\n"
     ]
    },
    {
     "data": {
      "text/plain": [
       "'africana'"
      ]
     },
     "execution_count": 44,
     "metadata": {},
     "output_type": "execute_result"
    }
   ],
   "source": [
    "gnb.predict(np.array([test_ht, test_wt]).reshape(1, -1))[0]"
   ]
  },
  {
   "cell_type": "code",
   "execution_count": 45,
   "metadata": {
    "ExecuteTime": {
     "end_time": "2022-08-15T22:05:04.901518Z",
     "start_time": "2022-08-15T22:05:04.887518Z"
    },
    "hidden": true
   },
   "outputs": [
    {
     "data": {
      "text/plain": [
       "'africana'"
      ]
     },
     "execution_count": 45,
     "metadata": {},
     "output_type": "execute_result"
    }
   ],
   "source": [
    "test_pt_2['species'].values[0]"
   ]
  },
  {
   "cell_type": "markdown",
   "metadata": {
    "hidden": true
   },
   "source": [
    "All right! Note that the class names are arranged alphabetically:"
   ]
  },
  {
   "cell_type": "code",
   "execution_count": 46,
   "metadata": {
    "ExecuteTime": {
     "end_time": "2022-08-15T22:05:04.917018Z",
     "start_time": "2022-08-15T22:05:04.903018Z"
    },
    "hidden": true
   },
   "outputs": [
    {
     "data": {
      "text/plain": [
       "array(['africana', 'cyclotis', 'maximus'], dtype='<U8')"
      ]
     },
     "execution_count": 46,
     "metadata": {},
     "output_type": "execute_result"
    }
   ],
   "source": [
    "gnb.classes_"
   ]
  },
  {
   "cell_type": "markdown",
   "metadata": {
    "hidden": true
   },
   "source": [
    "Let's check the model's accuracy on our test data:"
   ]
  },
  {
   "cell_type": "code",
   "execution_count": 47,
   "metadata": {
    "ExecuteTime": {
     "end_time": "2022-08-15T22:05:04.932518Z",
     "start_time": "2022-08-15T22:05:04.918518Z"
    },
    "hidden": true
   },
   "outputs": [
    {
     "data": {
      "text/plain": [
       "0.8947368421052632"
      ]
     },
     "execution_count": 47,
     "metadata": {},
     "output_type": "execute_result"
    }
   ],
   "source": [
    "X_test, y_test = two_dim_test.drop('species', axis=1), two_dim_test['species']\n",
    "gnb.score(X_test, y_test)"
   ]
  },
  {
   "cell_type": "markdown",
   "metadata": {
    "hidden": true
   },
   "source": [
    "What about the confusion matrix?"
   ]
  },
  {
   "cell_type": "code",
   "execution_count": 48,
   "metadata": {
    "ExecuteTime": {
     "end_time": "2022-08-15T22:05:05.103050Z",
     "start_time": "2022-08-15T22:05:04.934019Z"
    },
    "hidden": true
   },
   "outputs": [
    {
     "data": {
      "image/png": "[encoded data removed]",
      "text/plain": [
       "<Figure size 432x288 with 2 Axes>"
      ]
     },
     "metadata": {},
     "output_type": "display_data"
    }
   ],
   "source": [
    "from sklearn.metrics import ConfusionMatrixDisplay\n",
    "\n",
    "ConfusionMatrixDisplay.from_estimator(estimator=gnb,\n",
    "                                      X=X_test,\n",
    "                                      y=y_test);"
   ]
  },
  {
   "cell_type": "markdown",
   "metadata": {
    "heading_collapsed": true,
    "hidden": true
   },
   "source": [
    "## Comma Survey Example"
   ]
  },
  {
   "cell_type": "code",
   "execution_count": 49,
   "metadata": {
    "ExecuteTime": {
     "end_time": "2022-08-15T22:05:05.273548Z",
     "start_time": "2022-08-15T22:05:05.104518Z"
    },
    "hidden": true
   },
   "outputs": [],
   "source": [
    "commas = pd.read_csv('data/comma-survey.csv')"
   ]
  },
  {
   "cell_type": "code",
   "execution_count": 50,
   "metadata": {
    "ExecuteTime": {
     "end_time": "2022-08-15T22:05:05.289048Z",
     "start_time": "2022-08-15T22:05:05.275019Z"
    },
    "hidden": true
   },
   "outputs": [
    {
     "data": {
      "text/html": [
       "<div>\n",
       "<style scoped>\n",
       "    .dataframe tbody tr th:only-of-type {\n",
       "        vertical-align: middle;\n",
       "    }\n",
       "\n",
       "    .dataframe tbody tr th {\n",
       "        vertical-align: top;\n",
       "    }\n",
       "\n",
       "    .dataframe thead th {\n",
       "        text-align: right;\n",
       "    }\n",
       "</style>\n",
       "<table border=\"1\" class=\"dataframe\">\n",
       "  <thead>\n",
       "    <tr style=\"text-align: right;\">\n",
       "      <th></th>\n",
       "      <th>RespondentID</th>\n",
       "      <th>In your opinion, which sentence is more gramatically correct?</th>\n",
       "      <th>Prior to reading about it above, had you heard of the serial (or Oxford) comma?</th>\n",
       "      <th>How much, if at all, do you care about the use (or lack thereof) of the serial (or Oxford) comma in grammar?</th>\n",
       "      <th>How would you write the following sentence?</th>\n",
       "      <th>When faced with using the word \"data\", have you ever spent time considering if the word was a singular or plural noun?</th>\n",
       "      <th>How much, if at all, do you care about the debate over the use of the word \"data\" as a singluar or plural noun?</th>\n",
       "      <th>In your opinion, how important or unimportant is proper use of grammar?</th>\n",
       "      <th>Gender</th>\n",
       "      <th>Age</th>\n",
       "      <th>Household Income</th>\n",
       "      <th>Education</th>\n",
       "      <th>Location (Census Region)</th>\n",
       "    </tr>\n",
       "  </thead>\n",
       "  <tbody>\n",
       "    <tr>\n",
       "      <th>0</th>\n",
       "      <td>3292953864</td>\n",
       "      <td>It's important for a person to be honest, kind...</td>\n",
       "      <td>Yes</td>\n",
       "      <td>Some</td>\n",
       "      <td>Some experts say it's important to drink milk,...</td>\n",
       "      <td>No</td>\n",
       "      <td>Not much</td>\n",
       "      <td>Somewhat important</td>\n",
       "      <td>Male</td>\n",
       "      <td>30-44</td>\n",
       "      <td>$50,000 - $99,999</td>\n",
       "      <td>Bachelor degree</td>\n",
       "      <td>South Atlantic</td>\n",
       "    </tr>\n",
       "    <tr>\n",
       "      <th>1</th>\n",
       "      <td>3292950324</td>\n",
       "      <td>It's important for a person to be honest, kind...</td>\n",
       "      <td>No</td>\n",
       "      <td>Not much</td>\n",
       "      <td>Some experts say it's important to drink milk,...</td>\n",
       "      <td>No</td>\n",
       "      <td>Not much</td>\n",
       "      <td>Somewhat unimportant</td>\n",
       "      <td>Male</td>\n",
       "      <td>30-44</td>\n",
       "      <td>$50,000 - $99,999</td>\n",
       "      <td>Graduate degree</td>\n",
       "      <td>Mountain</td>\n",
       "    </tr>\n",
       "    <tr>\n",
       "      <th>2</th>\n",
       "      <td>3292942669</td>\n",
       "      <td>It's important for a person to be honest, kind...</td>\n",
       "      <td>Yes</td>\n",
       "      <td>Some</td>\n",
       "      <td>Some experts say it's important to drink milk,...</td>\n",
       "      <td>Yes</td>\n",
       "      <td>Not at all</td>\n",
       "      <td>Very important</td>\n",
       "      <td>Male</td>\n",
       "      <td>30-44</td>\n",
       "      <td>NaN</td>\n",
       "      <td>NaN</td>\n",
       "      <td>East North Central</td>\n",
       "    </tr>\n",
       "    <tr>\n",
       "      <th>3</th>\n",
       "      <td>3292932796</td>\n",
       "      <td>It's important for a person to be honest, kind...</td>\n",
       "      <td>Yes</td>\n",
       "      <td>Some</td>\n",
       "      <td>Some experts say it's important to drink milk,...</td>\n",
       "      <td>No</td>\n",
       "      <td>Some</td>\n",
       "      <td>Somewhat important</td>\n",
       "      <td>Male</td>\n",
       "      <td>18-29</td>\n",
       "      <td>NaN</td>\n",
       "      <td>Less than high school degree</td>\n",
       "      <td>Middle Atlantic</td>\n",
       "    </tr>\n",
       "    <tr>\n",
       "      <th>4</th>\n",
       "      <td>3292932522</td>\n",
       "      <td>It's important for a person to be honest, kind...</td>\n",
       "      <td>No</td>\n",
       "      <td>Not much</td>\n",
       "      <td>Some experts say it's important to drink milk,...</td>\n",
       "      <td>No</td>\n",
       "      <td>Not much</td>\n",
       "      <td>NaN</td>\n",
       "      <td>NaN</td>\n",
       "      <td>NaN</td>\n",
       "      <td>NaN</td>\n",
       "      <td>NaN</td>\n",
       "      <td>NaN</td>\n",
       "    </tr>\n",
       "  </tbody>\n",
       "</table>\n",
       "</div>"
      ],
      "text/plain": [
       "   RespondentID In your opinion, which sentence is more gramatically correct?  \\\n",
       "0    3292953864  It's important for a person to be honest, kind...              \n",
       "1    3292950324  It's important for a person to be honest, kind...              \n",
       "2    3292942669  It's important for a person to be honest, kind...              \n",
       "3    3292932796  It's important for a person to be honest, kind...              \n",
       "4    3292932522  It's important for a person to be honest, kind...              \n",
       "\n",
       "  Prior to reading about it above, had you heard of the serial (or Oxford) comma?  \\\n",
       "0                                                Yes                                \n",
       "1                                                 No                                \n",
       "2                                                Yes                                \n",
       "3                                                Yes                                \n",
       "4                                                 No                                \n",
       "\n",
       "  How much, if at all, do you care about the use (or lack thereof) of the serial (or Oxford) comma in grammar?  \\\n",
       "0                                               Some                                                             \n",
       "1                                           Not much                                                             \n",
       "2                                               Some                                                             \n",
       "3                                               Some                                                             \n",
       "4                                           Not much                                                             \n",
       "\n",
       "         How would you write the following sentence?  \\\n",
       "0  Some experts say it's important to drink milk,...   \n",
       "1  Some experts say it's important to drink milk,...   \n",
       "2  Some experts say it's important to drink milk,...   \n",
       "3  Some experts say it's important to drink milk,...   \n",
       "4  Some experts say it's important to drink milk,...   \n",
       "\n",
       "  When faced with using the word \"data\", have you ever spent time considering if the word was a singular or plural noun?  \\\n",
       "0                                                 No                                                                       \n",
       "1                                                 No                                                                       \n",
       "2                                                Yes                                                                       \n",
       "3                                                 No                                                                       \n",
       "4                                                 No                                                                       \n",
       "\n",
       "  How much, if at all, do you care about the debate over the use of the word \"data\" as a singluar or plural noun?  \\\n",
       "0                                           Not much                                                                \n",
       "1                                           Not much                                                                \n",
       "2                                         Not at all                                                                \n",
       "3                                               Some                                                                \n",
       "4                                           Not much                                                                \n",
       "\n",
       "  In your opinion, how important or unimportant is proper use of grammar?  \\\n",
       "0                                 Somewhat important                        \n",
       "1                               Somewhat unimportant                        \n",
       "2                                     Very important                        \n",
       "3                                 Somewhat important                        \n",
       "4                                                NaN                        \n",
       "\n",
       "  Gender    Age   Household Income                     Education  \\\n",
       "0   Male  30-44  $50,000 - $99,999               Bachelor degree   \n",
       "1   Male  30-44  $50,000 - $99,999               Graduate degree   \n",
       "2   Male  30-44                NaN                           NaN   \n",
       "3   Male  18-29                NaN  Less than high school degree   \n",
       "4    NaN    NaN                NaN                           NaN   \n",
       "\n",
       "  Location (Census Region)  \n",
       "0           South Atlantic  \n",
       "1                 Mountain  \n",
       "2       East North Central  \n",
       "3          Middle Atlantic  \n",
       "4                      NaN  "
      ]
     },
     "execution_count": 50,
     "metadata": {},
     "output_type": "execute_result"
    }
   ],
   "source": [
    "commas.head()"
   ]
  },
  {
   "cell_type": "code",
   "execution_count": 51,
   "metadata": {
    "ExecuteTime": {
     "end_time": "2022-08-15T22:05:05.304520Z",
     "start_time": "2022-08-15T22:05:05.290520Z"
    },
    "hidden": true
   },
   "outputs": [
    {
     "data": {
      "text/plain": [
       "924"
      ]
     },
     "execution_count": 51,
     "metadata": {},
     "output_type": "execute_result"
    }
   ],
   "source": [
    "commas.isna().sum().sum()"
   ]
  },
  {
   "cell_type": "markdown",
   "metadata": {
    "hidden": true
   },
   "source": [
    "We'll go ahead and drop the NaNs:"
   ]
  },
  {
   "cell_type": "code",
   "execution_count": 52,
   "metadata": {
    "ExecuteTime": {
     "end_time": "2022-08-15T22:05:05.320048Z",
     "start_time": "2022-08-15T22:05:05.305518Z"
    },
    "hidden": true
   },
   "outputs": [],
   "source": [
    "commas = commas.dropna()"
   ]
  },
  {
   "cell_type": "code",
   "execution_count": 53,
   "metadata": {
    "ExecuteTime": {
     "end_time": "2022-08-15T22:05:05.335519Z",
     "start_time": "2022-08-15T22:05:05.321518Z"
    },
    "hidden": true
   },
   "outputs": [
    {
     "data": {
      "text/plain": [
       "(825, 13)"
      ]
     },
     "execution_count": 53,
     "metadata": {},
     "output_type": "execute_result"
    }
   ],
   "source": [
    "commas.shape"
   ]
  },
  {
   "cell_type": "markdown",
   "metadata": {
    "hidden": true
   },
   "source": [
    "We'll call this our total dataset. Let's do a train-test split:"
   ]
  },
  {
   "cell_type": "code",
   "execution_count": 54,
   "metadata": {
    "ExecuteTime": {
     "end_time": "2022-08-15T22:05:05.351042Z",
     "start_time": "2022-08-15T22:05:05.337043Z"
    },
    "hidden": true
   },
   "outputs": [],
   "source": [
    "train, test = train_test_split(commas, random_state=42)"
   ]
  },
  {
   "cell_type": "markdown",
   "metadata": {
    "hidden": true
   },
   "source": [
    "The first question on the survey was about the Oxford comma."
   ]
  },
  {
   "cell_type": "code",
   "execution_count": 55,
   "metadata": {
    "ExecuteTime": {
     "end_time": "2022-08-15T22:05:05.366544Z",
     "start_time": "2022-08-15T22:05:05.352544Z"
    },
    "hidden": true,
    "scrolled": true
   },
   "outputs": [
    {
     "data": {
      "text/plain": [
       "It's important for a person to be honest, kind, and loyal.    350\n",
       "It's important for a person to be honest, kind and loyal.     268\n",
       "Name: In your opinion, which sentence is more gramatically correct?, dtype: int64"
      ]
     },
     "execution_count": 55,
     "metadata": {},
     "output_type": "execute_result"
    }
   ],
   "source": [
    "X_train = train['Age']\n",
    "y_train = train['In your opinion, which sentence is more gramatically correct?']\n",
    "y_train.value_counts()"
   ]
  },
  {
   "cell_type": "markdown",
   "metadata": {
    "hidden": true
   },
   "source": [
    "Personally, I like the Oxford comma, since it can help eliminate ambiguities, such as:\n",
    "\n",
    "\"This book is dedicated to my parents, Ayn Rand, and God\" <br/> vs. <br/>\n",
    "\"This book is dedicated to my parents, Ayn Rand and God\""
   ]
  },
  {
   "cell_type": "markdown",
   "metadata": {
    "hidden": true
   },
   "source": [
    "Let's see how a Naive Bayes model would make a prediction here. We'll think of the comma preference as our target."
   ]
  },
  {
   "cell_type": "code",
   "execution_count": 56,
   "metadata": {
    "ExecuteTime": {
     "end_time": "2022-08-15T22:05:05.382043Z",
     "start_time": "2022-08-15T22:05:05.368018Z"
    },
    "hidden": true
   },
   "outputs": [
    {
     "data": {
      "text/plain": [
       "45-60    186\n",
       "30-44    160\n",
       "> 60     140\n",
       "18-29    132\n",
       "Name: Age, dtype: int64"
      ]
     },
     "execution_count": 56,
     "metadata": {},
     "output_type": "execute_result"
    }
   ],
   "source": [
    "X_train.value_counts()"
   ]
  },
  {
   "cell_type": "markdown",
   "metadata": {
    "hidden": true
   },
   "source": [
    "Suppose we want to make a prediction about Oxford comma usage for a new person who falls into the **45-60 age group**."
   ]
  },
  {
   "cell_type": "markdown",
   "metadata": {
    "heading_collapsed": true,
    "hidden": true
   },
   "source": [
    "### Calculating Priors and Likelihoods"
   ]
  },
  {
   "cell_type": "markdown",
   "metadata": {
    "hidden": true
   },
   "source": [
    "The following code makes a table of values that count up the number of survey respondents who fall into each of eight bins (the four age groups and the two answers to the first comma question). "
   ]
  },
  {
   "cell_type": "code",
   "execution_count": 57,
   "metadata": {
    "ExecuteTime": {
     "end_time": "2022-08-15T22:05:05.397534Z",
     "start_time": "2022-08-15T22:05:05.383519Z"
    },
    "hidden": true
   },
   "outputs": [],
   "source": [
    "table = np.zeros((2, 4))\n",
    "\n",
    "for idx, value in enumerate(X_train.value_counts().index):\n",
    "    table[0, idx] = len(train[(train['In your opinion, which sentence is '\\\n",
    "                                       'more gramatically correct?'] ==\\\n",
    "                                        'It\\'s important for a person to be '\\\n",
    "                                'honest, kind, and loyal.') & (train['Age'] == value)])\n",
    "    table[1, idx] = len(train[(train['In your opinion, which sentence is '\\\n",
    "                                       'more gramatically correct?'] ==\\\n",
    "                                        'It\\'s important for a person to be '\\\n",
    "                                'honest, kind and loyal.') & (train['Age'] == value)])"
   ]
  },
  {
   "cell_type": "code",
   "execution_count": 58,
   "metadata": {
    "ExecuteTime": {
     "end_time": "2022-08-15T22:05:05.413045Z",
     "start_time": "2022-08-15T22:05:05.398518Z"
    },
    "hidden": true
   },
   "outputs": [
    {
     "data": {
      "text/plain": [
       "array([[ 90.,  95.,  62., 103.],\n",
       "       [ 96.,  65.,  78.,  29.]])"
      ]
     },
     "execution_count": 58,
     "metadata": {},
     "output_type": "execute_result"
    }
   ],
   "source": [
    "table"
   ]
  },
  {
   "cell_type": "markdown",
   "metadata": {
    "hidden": true
   },
   "source": [
    "Which age group is which?"
   ]
  },
  {
   "cell_type": "code",
   "execution_count": 59,
   "metadata": {
    "ExecuteTime": {
     "end_time": "2022-08-15T22:05:05.428543Z",
     "start_time": "2022-08-15T22:05:05.414545Z"
    },
    "hidden": true
   },
   "outputs": [
    {
     "data": {
      "text/plain": [
       "Index(['45-60', '30-44', '> 60', '18-29'], dtype='object')"
      ]
     },
     "execution_count": 59,
     "metadata": {},
     "output_type": "execute_result"
    }
   ],
   "source": [
    "X_train.value_counts().index"
   ]
  },
  {
   "cell_type": "code",
   "execution_count": 60,
   "metadata": {
    "ExecuteTime": {
     "end_time": "2022-08-15T22:05:05.444019Z",
     "start_time": "2022-08-15T22:05:05.430018Z"
    },
    "hidden": true
   },
   "outputs": [
    {
     "data": {
      "text/html": [
       "<div>\n",
       "<style scoped>\n",
       "    .dataframe tbody tr th:only-of-type {\n",
       "        vertical-align: middle;\n",
       "    }\n",
       "\n",
       "    .dataframe tbody tr th {\n",
       "        vertical-align: top;\n",
       "    }\n",
       "\n",
       "    .dataframe thead th {\n",
       "        text-align: right;\n",
       "    }\n",
       "</style>\n",
       "<table border=\"1\" class=\"dataframe\">\n",
       "  <thead>\n",
       "    <tr style=\"text-align: right;\">\n",
       "      <th></th>\n",
       "      <th>Age45-60</th>\n",
       "      <th>Age30-44</th>\n",
       "      <th>Age&gt;60</th>\n",
       "      <th>Age18-29</th>\n",
       "    </tr>\n",
       "  </thead>\n",
       "  <tbody>\n",
       "    <tr>\n",
       "      <th>0</th>\n",
       "      <td>90.0</td>\n",
       "      <td>95.0</td>\n",
       "      <td>62.0</td>\n",
       "      <td>103.0</td>\n",
       "    </tr>\n",
       "    <tr>\n",
       "      <th>1</th>\n",
       "      <td>96.0</td>\n",
       "      <td>65.0</td>\n",
       "      <td>78.0</td>\n",
       "      <td>29.0</td>\n",
       "    </tr>\n",
       "  </tbody>\n",
       "</table>\n",
       "</div>"
      ],
      "text/plain": [
       "   Age45-60  Age30-44  Age>60  Age18-29\n",
       "0      90.0      95.0    62.0     103.0\n",
       "1      96.0      65.0    78.0      29.0"
      ]
     },
     "execution_count": 60,
     "metadata": {},
     "output_type": "execute_result"
    }
   ],
   "source": [
    "df = pd.DataFrame(table, columns=['Age45-60',\n",
    "                            'Age30-44',\n",
    "                            'Age>60',\n",
    "                            'Age18-29'])\n",
    "df"
   ]
  },
  {
   "cell_type": "markdown",
   "metadata": {
    "hidden": true
   },
   "source": [
    "Which comma preference is which?"
   ]
  },
  {
   "cell_type": "code",
   "execution_count": 61,
   "metadata": {
    "ExecuteTime": {
     "end_time": "2022-08-15T22:05:05.459519Z",
     "start_time": "2022-08-15T22:05:05.445546Z"
    },
    "hidden": true
   },
   "outputs": [
    {
     "data": {
      "text/plain": [
       "It's important for a person to be honest, kind, and loyal.    350\n",
       "It's important for a person to be honest, kind and loyal.     268\n",
       "Name: In your opinion, which sentence is more gramatically correct?, dtype: int64"
      ]
     },
     "execution_count": 61,
     "metadata": {},
     "output_type": "execute_result"
    }
   ],
   "source": [
    "y_train.value_counts()"
   ]
  },
  {
   "cell_type": "code",
   "execution_count": 62,
   "metadata": {
    "ExecuteTime": {
     "end_time": "2022-08-15T22:05:05.475018Z",
     "start_time": "2022-08-15T22:05:05.460519Z"
    },
    "hidden": true
   },
   "outputs": [
    {
     "data": {
      "text/html": [
       "<div>\n",
       "<style scoped>\n",
       "    .dataframe tbody tr th:only-of-type {\n",
       "        vertical-align: middle;\n",
       "    }\n",
       "\n",
       "    .dataframe tbody tr th {\n",
       "        vertical-align: top;\n",
       "    }\n",
       "\n",
       "    .dataframe thead th {\n",
       "        text-align: right;\n",
       "    }\n",
       "</style>\n",
       "<table border=\"1\" class=\"dataframe\">\n",
       "  <thead>\n",
       "    <tr style=\"text-align: right;\">\n",
       "      <th></th>\n",
       "      <th>Age&gt;60</th>\n",
       "      <th>Age45-60</th>\n",
       "      <th>Age30-44</th>\n",
       "      <th>Age18-29</th>\n",
       "      <th>Oxford</th>\n",
       "    </tr>\n",
       "  </thead>\n",
       "  <tbody>\n",
       "    <tr>\n",
       "      <th>0</th>\n",
       "      <td>62.0</td>\n",
       "      <td>90.0</td>\n",
       "      <td>95.0</td>\n",
       "      <td>103.0</td>\n",
       "      <td>True</td>\n",
       "    </tr>\n",
       "    <tr>\n",
       "      <th>1</th>\n",
       "      <td>78.0</td>\n",
       "      <td>96.0</td>\n",
       "      <td>65.0</td>\n",
       "      <td>29.0</td>\n",
       "      <td>False</td>\n",
       "    </tr>\n",
       "  </tbody>\n",
       "</table>\n",
       "</div>"
      ],
      "text/plain": [
       "   Age>60  Age45-60  Age30-44  Age18-29  Oxford\n",
       "0    62.0      90.0      95.0     103.0    True\n",
       "1    78.0      96.0      65.0      29.0   False"
      ]
     },
     "execution_count": 62,
     "metadata": {},
     "output_type": "execute_result"
    }
   ],
   "source": [
    "df_copy = df.copy()\n",
    "df_copy = df_copy[['Age>60', 'Age45-60', 'Age30-44', 'Age18-29']]\n",
    "df_copy['Oxford'] = [True, False]\n",
    "df_copy"
   ]
  },
  {
   "cell_type": "markdown",
   "metadata": {
    "hidden": true
   },
   "source": [
    "Since all we have is a single categorical feature here we can just read our likelihoods and priors right off of this table:\n",
    "\n",
    "Likelihoods:\n",
    "\n",
    "- Age45-60:\n",
    "    - P(Age45-60 | Oxford=True) = $\\frac{90}{350} = 0.2571$;\n",
    "    - P(Age45-60 | Oxford=False) = $\\frac{96}{268} = 0.3582$.\n",
    "\n",
    "Priors:\n",
    "\n",
    "- P(Oxford=True) = $\\frac{350}{618} = 0.5663$;\n",
    "- P(Oxford=False) = $\\frac{268}{618} = 0.4337$."
   ]
  },
  {
   "cell_type": "code",
   "execution_count": 63,
   "metadata": {
    "ExecuteTime": {
     "end_time": "2022-08-15T22:05:05.490518Z",
     "start_time": "2022-08-15T22:05:05.476519Z"
    },
    "hidden": true
   },
   "outputs": [
    {
     "name": "stdout",
     "output_type": "stream",
     "text": [
      "Likelihood for those with a preference for the Oxford comma: 0.2571428571428571\n",
      "Likelihood for those with a preference for no Oxford comma: 0.3582089552238806\n",
      "Size of training data: 618\n"
     ]
    }
   ],
   "source": [
    "print(f\"Likelihood for those with a preference for the Oxford comma: {90 / 350}\")\n",
    "print(f\"Likelihood for those with a preference for no Oxford comma: {96 / 268}\")\n",
    "print(f\"Size of training data: {len(y_train)}\")"
   ]
  },
  {
   "cell_type": "code",
   "execution_count": 64,
   "metadata": {
    "ExecuteTime": {
     "end_time": "2022-08-15T22:05:05.506019Z",
     "start_time": "2022-08-15T22:05:05.492019Z"
    },
    "hidden": true
   },
   "outputs": [
    {
     "name": "stdout",
     "output_type": "stream",
     "text": [
      "Prior for those with a preference for the Oxford comma: 0.5663430420711975\n",
      "Prior for those with a preference for no Oxford comma: 0.4336569579288026\n"
     ]
    }
   ],
   "source": [
    "print(f\"Prior for those with a preference for the Oxford comma: {350 / 618}\")\n",
    "print(f\"Prior for those with a preference for no Oxford comma: {268 / 618}\")"
   ]
  },
  {
   "cell_type": "markdown",
   "metadata": {
    "heading_collapsed": true,
    "hidden": true
   },
   "source": [
    "### Calculating Posteriors"
   ]
  },
  {
   "cell_type": "markdown",
   "metadata": {
    "hidden": true
   },
   "source": [
    "First we'll calculate the probability of the evidence:\n",
    "\n",
    "$$\\begin{align} \n",
    "    P(Age45-60) &= P(Age45-60 | Oxford=True) \\times P(Oxford=True) \\\\\n",
    "                & \\hspace{1cm} + P(Age45-60 | Oxford=False) \\times P(Oxford=False)\\\\ \n",
    "                &= 0.2571 \\times 0.5663 + 0.3582 \\times 0.4337 \\\\\n",
    "                &= 0.3010\n",
    "\\end{align}$$"
   ]
  },
  {
   "cell_type": "code",
   "execution_count": 65,
   "metadata": {
    "ExecuteTime": {
     "end_time": "2022-08-15T22:05:05.521518Z",
     "start_time": "2022-08-15T22:05:05.507519Z"
    },
    "hidden": true
   },
   "outputs": [
    {
     "data": {
      "text/plain": [
       "0.30097087378640774"
      ]
     },
     "execution_count": 65,
     "metadata": {},
     "output_type": "execute_result"
    }
   ],
   "source": [
    "# This calculation should also yield P(e):\n",
    "# It's the proportion of 45-60-yr.-olds\n",
    "# in the data.\n",
    "\n",
    "90 / 618 + 96 / 618"
   ]
  },
  {
   "cell_type": "markdown",
   "metadata": {
    "hidden": true
   },
   "source": [
    "Now use Bayes's Theorem to calculate the posteriors:\n",
    "\n",
    "$$\\begin{align}\n",
    "P(Oxford=True | Age45-60) &= \\frac{P(Oxford=True) \\times P(Age45-60 | Oxford=True)}{P(Age45-60)} \\\\\n",
    "                          &= \\frac{0.5663 \\times 0.2571}{0.3010} \\\\\n",
    "                          &= 0.4839 \\\\\n",
    "                          \\\\\n",
    "P(Oxford=False | Age45-60) &= \\frac{P(Oxford=False) \\times P(Age45-60 | Oxford=False)}{P(Age45-60)} \\\\ \n",
    "                          &= \\frac{0.4337 \\times 0.3582}{0.3010} \\\\\n",
    "                          &= 0.5161\n",
    "\\end{align}$$"
   ]
  },
  {
   "cell_type": "code",
   "execution_count": 66,
   "metadata": {
    "ExecuteTime": {
     "end_time": "2022-08-15T22:05:05.537049Z",
     "start_time": "2022-08-15T22:05:05.522517Z"
    },
    "hidden": true
   },
   "outputs": [
    {
     "name": "stdout",
     "output_type": "stream",
     "text": [
      "0.4838709677419355\n",
      "0.5161290322580645\n"
     ]
    }
   ],
   "source": [
    "print((90/618) / (90/618 +  96/618))\n",
    "print((96/618) / (90/618 + 96/618))"
   ]
  },
  {
   "cell_type": "markdown",
   "metadata": {
    "hidden": true
   },
   "source": [
    "Close! But our prediction for someone in the 45-60 age group will be that they **do not** favor the Oxford comma."
   ]
  },
  {
   "cell_type": "markdown",
   "metadata": {
    "heading_collapsed": true,
    "hidden": true
   },
   "source": [
    "### Comparison with [`MultinomialNB`](https://scikit-learn.org/stable/modules/generated/sklearn.naive_bayes.MultinomialNB.html)"
   ]
  },
  {
   "cell_type": "code",
   "execution_count": 67,
   "metadata": {
    "ExecuteTime": {
     "end_time": "2022-08-15T22:05:05.552518Z",
     "start_time": "2022-08-15T22:05:05.538548Z"
    },
    "hidden": true
   },
   "outputs": [],
   "source": [
    "comma_model = MultinomialNB()\n",
    "\n",
    "ohe = OneHotEncoder()\n",
    "ohe.fit(X_train.values.reshape(-1, 1))\n",
    "\n",
    "X_train_coded = ohe.transform(X_train.values.reshape(-1, 1)).todense()"
   ]
  },
  {
   "cell_type": "code",
   "execution_count": 68,
   "metadata": {
    "ExecuteTime": {
     "end_time": "2022-08-15T22:05:05.568020Z",
     "start_time": "2022-08-15T22:05:05.554019Z"
    },
    "hidden": true
   },
   "outputs": [
    {
     "name": "stderr",
     "output_type": "stream",
     "text": [
      "C:\\Users\\alvaro\\anaconda3\\lib\\site-packages\\sklearn\\utils\\validation.py:727: FutureWarning: np.matrix usage is deprecated in 1.0 and will raise a TypeError in 1.2. Please convert to a numpy array with np.asarray. For more information see: https://numpy.org/doc/stable/reference/generated/numpy.matrix.html\n",
      "  warnings.warn(\n"
     ]
    },
    {
     "data": {
      "text/html": [
       "<style>#sk-container-id-2 {color: black;background-color: white;}#sk-container-id-2 pre{padding: 0;}#sk-container-id-2 div.sk-toggleable {background-color: white;}#sk-container-id-2 label.sk-toggleable__label {cursor: pointer;display: block;width: 100%;margin-bottom: 0;padding: 0.3em;box-sizing: border-box;text-align: center;}#sk-container-id-2 label.sk-toggleable__label-arrow:before {content: \"▸\";float: left;margin-right: 0.25em;color: #696969;}#sk-container-id-2 label.sk-toggleable__label-arrow:hover:before {color: black;}#sk-container-id-2 div.sk-estimator:hover label.sk-toggleable__label-arrow:before {color: black;}#sk-container-id-2 div.sk-toggleable__content {max-height: 0;max-width: 0;overflow: hidden;text-align: left;background-color: #f0f8ff;}#sk-container-id-2 div.sk-toggleable__content pre {margin: 0.2em;color: black;border-radius: 0.25em;background-color: #f0f8ff;}#sk-container-id-2 input.sk-toggleable__control:checked~div.sk-toggleable__content {max-height: 200px;max-width: 100%;overflow: auto;}#sk-container-id-2 input.sk-toggleable__control:checked~label.sk-toggleable__label-arrow:before {content: \"▾\";}#sk-container-id-2 div.sk-estimator input.sk-toggleable__control:checked~label.sk-toggleable__label {background-color: #d4ebff;}#sk-container-id-2 div.sk-label input.sk-toggleable__control:checked~label.sk-toggleable__label {background-color: #d4ebff;}#sk-container-id-2 input.sk-hidden--visually {border: 0;clip: rect(1px 1px 1px 1px);clip: rect(1px, 1px, 1px, 1px);height: 1px;margin: -1px;overflow: hidden;padding: 0;position: absolute;width: 1px;}#sk-container-id-2 div.sk-estimator {font-family: monospace;background-color: #f0f8ff;border: 1px dotted black;border-radius: 0.25em;box-sizing: border-box;margin-bottom: 0.5em;}#sk-container-id-2 div.sk-estimator:hover {background-color: #d4ebff;}#sk-container-id-2 div.sk-parallel-item::after {content: \"\";width: 100%;border-bottom: 1px solid gray;flex-grow: 1;}#sk-container-id-2 div.sk-label:hover label.sk-toggleable__label {background-color: #d4ebff;}#sk-container-id-2 div.sk-serial::before {content: \"\";position: absolute;border-left: 1px solid gray;box-sizing: border-box;top: 0;bottom: 0;left: 50%;z-index: 0;}#sk-container-id-2 div.sk-serial {display: flex;flex-direction: column;align-items: center;background-color: white;padding-right: 0.2em;padding-left: 0.2em;position: relative;}#sk-container-id-2 div.sk-item {position: relative;z-index: 1;}#sk-container-id-2 div.sk-parallel {display: flex;align-items: stretch;justify-content: center;background-color: white;position: relative;}#sk-container-id-2 div.sk-item::before, #sk-container-id-2 div.sk-parallel-item::before {content: \"\";position: absolute;border-left: 1px solid gray;box-sizing: border-box;top: 0;bottom: 0;left: 50%;z-index: -1;}#sk-container-id-2 div.sk-parallel-item {display: flex;flex-direction: column;z-index: 1;position: relative;background-color: white;}#sk-container-id-2 div.sk-parallel-item:first-child::after {align-self: flex-end;width: 50%;}#sk-container-id-2 div.sk-parallel-item:last-child::after {align-self: flex-start;width: 50%;}#sk-container-id-2 div.sk-parallel-item:only-child::after {width: 0;}#sk-container-id-2 div.sk-dashed-wrapped {border: 1px dashed gray;margin: 0 0.4em 0.5em 0.4em;box-sizing: border-box;padding-bottom: 0.4em;background-color: white;}#sk-container-id-2 div.sk-label label {font-family: monospace;font-weight: bold;display: inline-block;line-height: 1.2em;}#sk-container-id-2 div.sk-label-container {text-align: center;}#sk-container-id-2 div.sk-container {/* jupyter's `normalize.less` sets `[hidden] { display: none; }` but bootstrap.min.css set `[hidden] { display: none !important; }` so we also need the `!important` here to be able to override the default hidden behavior on the sphinx rendered scikit-learn.org. See: https://github.com/scikit-learn/scikit-learn/issues/21755 */display: inline-block !important;position: relative;}#sk-container-id-2 div.sk-text-repr-fallback {display: none;}</style><div id=\"sk-container-id-2\" class=\"sk-top-container\"><div class=\"sk-text-repr-fallback\"><pre>MultinomialNB()</pre><b>In a Jupyter environment, please rerun this cell to show the HTML representation or trust the notebook. <br />On GitHub, the HTML representation is unable to render, please try loading this page with nbviewer.org.</b></div><div class=\"sk-container\" hidden><div class=\"sk-item\"><div class=\"sk-estimator sk-toggleable\"><input class=\"sk-toggleable__control sk-hidden--visually\" id=\"sk-estimator-id-2\" type=\"checkbox\" checked><label for=\"sk-estimator-id-2\" class=\"sk-toggleable__label sk-toggleable__label-arrow\">MultinomialNB</label><div class=\"sk-toggleable__content\"><pre>MultinomialNB()</pre></div></div></div></div></div>"
      ],
      "text/plain": [
       "MultinomialNB()"
      ]
     },
     "execution_count": 68,
     "metadata": {},
     "output_type": "execute_result"
    }
   ],
   "source": [
    "comma_model.fit(X_train_coded, y_train)"
   ]
  },
  {
   "cell_type": "code",
   "execution_count": 69,
   "metadata": {
    "ExecuteTime": {
     "end_time": "2022-08-15T22:05:05.583518Z",
     "start_time": "2022-08-15T22:05:05.571520Z"
    },
    "hidden": true
   },
   "outputs": [
    {
     "data": {
      "text/plain": [
       "matrix([[0., 0., 1., 0.],\n",
       "        [0., 1., 0., 0.],\n",
       "        [1., 0., 0., 0.],\n",
       "        ...,\n",
       "        [0., 0., 1., 0.],\n",
       "        [0., 0., 0., 1.],\n",
       "        [0., 0., 0., 1.]])"
      ]
     },
     "execution_count": 69,
     "metadata": {},
     "output_type": "execute_result"
    }
   ],
   "source": [
    "X_train_coded"
   ]
  },
  {
   "cell_type": "markdown",
   "metadata": {
    "hidden": true
   },
   "source": [
    "Which age group is which?"
   ]
  },
  {
   "cell_type": "code",
   "execution_count": 70,
   "metadata": {
    "ExecuteTime": {
     "end_time": "2022-08-15T22:05:05.599018Z",
     "start_time": "2022-08-15T22:05:05.592018Z"
    },
    "hidden": true
   },
   "outputs": [
    {
     "data": {
      "text/plain": [
       "array(['x0_18-29', 'x0_30-44', 'x0_45-60', 'x0_> 60'], dtype=object)"
      ]
     },
     "execution_count": 70,
     "metadata": {},
     "output_type": "execute_result"
    }
   ],
   "source": [
    "ohe.get_feature_names_out()"
   ]
  },
  {
   "cell_type": "code",
   "execution_count": 71,
   "metadata": {
    "ExecuteTime": {
     "end_time": "2022-08-15T22:05:05.614518Z",
     "start_time": "2022-08-15T22:05:05.603519Z"
    },
    "hidden": true
   },
   "outputs": [
    {
     "data": {
      "text/plain": [
       "array([[0.51509545, 0.48490455]])"
      ]
     },
     "execution_count": 71,
     "metadata": {},
     "output_type": "execute_result"
    }
   ],
   "source": [
    "comma_model.predict_proba(np.array([0, 0, 1, 0]).reshape(1, -1))"
   ]
  },
  {
   "cell_type": "markdown",
   "metadata": {
    "hidden": true
   },
   "source": [
    "Which comma-group is which?"
   ]
  },
  {
   "cell_type": "code",
   "execution_count": 72,
   "metadata": {
    "ExecuteTime": {
     "end_time": "2022-08-15T22:05:05.630051Z",
     "start_time": "2022-08-15T22:05:05.616048Z"
    },
    "hidden": true
   },
   "outputs": [
    {
     "data": {
      "text/plain": [
       "array([\"It's important for a person to be honest, kind and loyal.\",\n",
       "       \"It's important for a person to be honest, kind, and loyal.\"],\n",
       "      dtype='<U58')"
      ]
     },
     "execution_count": 72,
     "metadata": {},
     "output_type": "execute_result"
    }
   ],
   "source": [
    "comma_model.classes_"
   ]
  },
  {
   "cell_type": "markdown",
   "metadata": {
    "hidden": true
   },
   "source": [
    "These results agree very closely with ours."
   ]
  }
 ],
 "metadata": {
  "kernelspec": {
   "display_name": "Python (learn-env)",
   "language": "python",
   "name": "learn-env"
  },
  "language_info": {
   "codemirror_mode": {
    "name": "ipython",
    "version": 3
   },
   "file_extension": ".py",
   "mimetype": "text/x-python",
   "name": "python",
   "nbconvert_exporter": "python",
   "pygments_lexer": "ipython3",
   "version": "3.9.12"
  },
  "toc": {
   "base_numbering": 1,
   "nav_menu": {},
   "number_sections": true,
   "sideBar": true,
   "skip_h1_title": false,
   "title_cell": "Table of Contents",
   "title_sidebar": "TOC",
   "toc_cell": true,
   "toc_position": {
    "height": "calc(100% - 180px)",
    "left": "10px",
    "top": "150px",
    "width": "221px"
   },
   "toc_section_display": true,
   "toc_window_display": true
  },
  "varInspector": {
   "cols": {
    "lenName": 16,
    "lenType": 16,
    "lenVar": 40
   },
   "kernels_config": {
    "python": {
     "delete_cmd_postfix": "",
     "delete_cmd_prefix": "del ",
     "library": "var_list.py",
     "varRefreshCmd": "print(var_dic_list())"
    },
    "r": {
     "delete_cmd_postfix": ") ",
     "delete_cmd_prefix": "rm(",
     "library": "var_list.r",
     "varRefreshCmd": "cat(var_dic_list()) "
    }
   },
   "types_to_exclude": [
    "module",
    "function",
    "builtin_function_or_method",
    "instance",
    "_Feature"
   ],
   "window_display": false
  }
 },
 "nbformat": 4,
 "nbformat_minor": 4
}
